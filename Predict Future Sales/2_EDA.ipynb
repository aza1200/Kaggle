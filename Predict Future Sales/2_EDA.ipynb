{
 "cells": [
  {
   "cell_type": "markdown",
   "metadata": {},
   "source": [
    "**탐색적 분석**"
   ]
  },
  {
   "cell_type": "code",
   "execution_count": 1,
   "metadata": {},
   "outputs": [],
   "source": [
    "import pandas as pd\n",
    "\n",
    "# 데이터 경로\n",
    "data_path = './input/'\n",
    "\n",
    "sales_train = pd.read_csv(data_path + 'sales_train.csv')\n",
    "shops = pd.read_csv(data_path + 'shops.csv')\n",
    "items = pd.read_csv(data_path + 'items.csv')\n",
    "item_categories = pd.read_csv(data_path + 'item_categories.csv')\n",
    "test = pd.read_csv(data_path + 'test.csv')\n",
    "submission = pd.read_csv(data_path + 'sample_submission.csv')"
   ]
  },
  {
   "cell_type": "code",
   "execution_count": 2,
   "metadata": {},
   "outputs": [
    {
     "data": {
      "text/html": [
       "<div>\n",
       "<style scoped>\n",
       "    .dataframe tbody tr th:only-of-type {\n",
       "        vertical-align: middle;\n",
       "    }\n",
       "\n",
       "    .dataframe tbody tr th {\n",
       "        vertical-align: top;\n",
       "    }\n",
       "\n",
       "    .dataframe thead th {\n",
       "        text-align: right;\n",
       "    }\n",
       "</style>\n",
       "<table border=\"1\" class=\"dataframe\">\n",
       "  <thead>\n",
       "    <tr style=\"text-align: right;\">\n",
       "      <th></th>\n",
       "      <th>date</th>\n",
       "      <th>date_block_num</th>\n",
       "      <th>shop_id</th>\n",
       "      <th>item_id</th>\n",
       "      <th>item_price</th>\n",
       "      <th>item_cnt_day</th>\n",
       "    </tr>\n",
       "  </thead>\n",
       "  <tbody>\n",
       "    <tr>\n",
       "      <th>0</th>\n",
       "      <td>02.01.2013</td>\n",
       "      <td>0</td>\n",
       "      <td>59</td>\n",
       "      <td>22154</td>\n",
       "      <td>999.00</td>\n",
       "      <td>1.0</td>\n",
       "    </tr>\n",
       "    <tr>\n",
       "      <th>1</th>\n",
       "      <td>03.01.2013</td>\n",
       "      <td>0</td>\n",
       "      <td>25</td>\n",
       "      <td>2552</td>\n",
       "      <td>899.00</td>\n",
       "      <td>1.0</td>\n",
       "    </tr>\n",
       "    <tr>\n",
       "      <th>2</th>\n",
       "      <td>05.01.2013</td>\n",
       "      <td>0</td>\n",
       "      <td>25</td>\n",
       "      <td>2552</td>\n",
       "      <td>899.00</td>\n",
       "      <td>-1.0</td>\n",
       "    </tr>\n",
       "    <tr>\n",
       "      <th>3</th>\n",
       "      <td>06.01.2013</td>\n",
       "      <td>0</td>\n",
       "      <td>25</td>\n",
       "      <td>2554</td>\n",
       "      <td>1709.05</td>\n",
       "      <td>1.0</td>\n",
       "    </tr>\n",
       "    <tr>\n",
       "      <th>4</th>\n",
       "      <td>15.01.2013</td>\n",
       "      <td>0</td>\n",
       "      <td>25</td>\n",
       "      <td>2555</td>\n",
       "      <td>1099.00</td>\n",
       "      <td>1.0</td>\n",
       "    </tr>\n",
       "  </tbody>\n",
       "</table>\n",
       "</div>"
      ],
      "text/plain": [
       "         date  date_block_num  shop_id  item_id  item_price  item_cnt_day\n",
       "0  02.01.2013               0       59    22154      999.00           1.0\n",
       "1  03.01.2013               0       25     2552      899.00           1.0\n",
       "2  05.01.2013               0       25     2552      899.00          -1.0\n",
       "3  06.01.2013               0       25     2554     1709.05           1.0\n",
       "4  15.01.2013               0       25     2555     1099.00           1.0"
      ]
     },
     "execution_count": 2,
     "metadata": {},
     "output_type": "execute_result"
    }
   ],
   "source": [
    "sales_train.head()"
   ]
  },
  {
   "cell_type": "markdown",
   "metadata": {},
   "source": [
    "1. 월별 판매량을 구해야 하니 '월' 구분자만 있으면 됨\n",
    "2. 2013.01.02 에 판매가(당시 판매가 999루블) 가격이 고정된게 아니라 시간이 지남에 따라 바뀔수 있다.\n",
    "3. 각 상점의 상품별 일일 판매량을 월별로 합친게 월간 판매량임 \n",
    "4. block_num => 2013.01월 : 0 , 2015.10월 : 34"
   ]
  },
  {
   "cell_type": "code",
   "execution_count": 3,
   "metadata": {},
   "outputs": [
    {
     "name": "stdout",
     "output_type": "stream",
     "text": [
      "sales train 행의 갯수 : 2935849\n",
      "<class 'pandas.core.frame.DataFrame'>\n",
      "RangeIndex: 2935849 entries, 0 to 2935848\n",
      "Data columns (total 6 columns):\n",
      " #   Column          Non-Null Count    Dtype  \n",
      "---  ------          --------------    -----  \n",
      " 0   date            2935849 non-null  object \n",
      " 1   date_block_num  2935849 non-null  int64  \n",
      " 2   shop_id         2935849 non-null  int64  \n",
      " 3   item_id         2935849 non-null  int64  \n",
      " 4   item_price      2935849 non-null  float64\n",
      " 5   item_cnt_day    2935849 non-null  float64\n",
      "dtypes: float64(2), int64(3), object(1)\n",
      "memory usage: 134.4+ MB\n"
     ]
    }
   ],
   "source": [
    "# 비결측값 갯수를 표시하기 위해 show_counts = True 표시\n",
    "print(f\"sales train 행의 갯수 : {len(sales_train)}\")\n",
    "sales_train.info(show_counts=True)"
   ]
  },
  {
   "cell_type": "markdown",
   "metadata": {},
   "source": [
    "1. 데이터가 300만개 가까이 되어서 메모리 134MB 임 -> 메모리사용량 줄일계획\n",
    "2. 시계열 데이터는 시간흐름이 중요하므로 2013 1월부터 2015 9월까지 판매내역 훈련데이터로 사용하고\n",
    "   2015 10월 판매내역 검증데이터로 사용하겠음\n",
    "3. 앞장의 OOF 예측 은 시계열 데이터에서 사용할시 과거와 미래가 뒤섞이기 때문에 이용할수없다 ㅠ "
   ]
  },
  {
   "cell_type": "code",
   "execution_count": 4,
   "metadata": {},
   "outputs": [
    {
     "data": {
      "text/html": [
       "<div>\n",
       "<style scoped>\n",
       "    .dataframe tbody tr th:only-of-type {\n",
       "        vertical-align: middle;\n",
       "    }\n",
       "\n",
       "    .dataframe tbody tr th {\n",
       "        vertical-align: top;\n",
       "    }\n",
       "\n",
       "    .dataframe thead th {\n",
       "        text-align: right;\n",
       "    }\n",
       "</style>\n",
       "<table border=\"1\" class=\"dataframe\">\n",
       "  <thead>\n",
       "    <tr style=\"text-align: right;\">\n",
       "      <th></th>\n",
       "      <th>shop_name</th>\n",
       "      <th>shop_id</th>\n",
       "    </tr>\n",
       "  </thead>\n",
       "  <tbody>\n",
       "    <tr>\n",
       "      <th>0</th>\n",
       "      <td>!Якутск Орджоникидзе, 56 фран</td>\n",
       "      <td>0</td>\n",
       "    </tr>\n",
       "    <tr>\n",
       "      <th>1</th>\n",
       "      <td>!Якутск ТЦ \"Центральный\" фран</td>\n",
       "      <td>1</td>\n",
       "    </tr>\n",
       "    <tr>\n",
       "      <th>2</th>\n",
       "      <td>Адыгея ТЦ \"Мега\"</td>\n",
       "      <td>2</td>\n",
       "    </tr>\n",
       "    <tr>\n",
       "      <th>3</th>\n",
       "      <td>Балашиха ТРК \"Октябрь-Киномир\"</td>\n",
       "      <td>3</td>\n",
       "    </tr>\n",
       "    <tr>\n",
       "      <th>4</th>\n",
       "      <td>Волжский ТЦ \"Волга Молл\"</td>\n",
       "      <td>4</td>\n",
       "    </tr>\n",
       "  </tbody>\n",
       "</table>\n",
       "</div>"
      ],
      "text/plain": [
       "                        shop_name  shop_id\n",
       "0   !Якутск Орджоникидзе, 56 фран        0\n",
       "1   !Якутск ТЦ \"Центральный\" фран        1\n",
       "2                Адыгея ТЦ \"Мега\"        2\n",
       "3  Балашиха ТРК \"Октябрь-Киномир\"        3\n",
       "4        Волжский ТЦ \"Волга Молл\"        4"
      ]
     },
     "execution_count": 4,
     "metadata": {},
     "output_type": "execute_result"
    }
   ],
   "source": [
    "shops.head()"
   ]
  },
  {
   "cell_type": "markdown",
   "metadata": {},
   "source": [
    "1. 러시아어 공부 시작할순 없음\n",
    "2. 다른 캐글러가 공유한 아이디어 활용할예정\n",
    "3. 좀 복잡해보이니 베이스라인 짜고 성능개성 한 이후에 다룰 예정\n",
    "4. 결론부터 미리 말하면 첫단어는 도시 나타냄"
   ]
  },
  {
   "cell_type": "code",
   "execution_count": 5,
   "metadata": {},
   "outputs": [
    {
     "name": "stdout",
     "output_type": "stream",
     "text": [
      "<class 'pandas.core.frame.DataFrame'>\n",
      "RangeIndex: 60 entries, 0 to 59\n",
      "Data columns (total 2 columns):\n",
      " #   Column     Non-Null Count  Dtype \n",
      "---  ------     --------------  ----- \n",
      " 0   shop_name  60 non-null     object\n",
      " 1   shop_id    60 non-null     int64 \n",
      "dtypes: int64(1), object(1)\n",
      "memory usage: 1.1+ KB\n"
     ]
    }
   ],
   "source": [
    "shops.info()"
   ]
  },
  {
   "cell_type": "markdown",
   "metadata": {},
   "source": [
    "상점은 딱 60 개 정도 있고 , 결측값도 없고 데이터 개수가 적어서 메모리 사용량도 적다"
   ]
  },
  {
   "cell_type": "code",
   "execution_count": 6,
   "metadata": {},
   "outputs": [
    {
     "data": {
      "text/html": [
       "<div>\n",
       "<style scoped>\n",
       "    .dataframe tbody tr th:only-of-type {\n",
       "        vertical-align: middle;\n",
       "    }\n",
       "\n",
       "    .dataframe tbody tr th {\n",
       "        vertical-align: top;\n",
       "    }\n",
       "\n",
       "    .dataframe thead th {\n",
       "        text-align: right;\n",
       "    }\n",
       "</style>\n",
       "<table border=\"1\" class=\"dataframe\">\n",
       "  <thead>\n",
       "    <tr style=\"text-align: right;\">\n",
       "      <th></th>\n",
       "      <th>item_name</th>\n",
       "      <th>item_id</th>\n",
       "      <th>item_category_id</th>\n",
       "    </tr>\n",
       "  </thead>\n",
       "  <tbody>\n",
       "    <tr>\n",
       "      <th>0</th>\n",
       "      <td>! ВО ВЛАСТИ НАВАЖДЕНИЯ (ПЛАСТ.)         D</td>\n",
       "      <td>0</td>\n",
       "      <td>40</td>\n",
       "    </tr>\n",
       "    <tr>\n",
       "      <th>1</th>\n",
       "      <td>!ABBYY FineReader 12 Professional Edition Full...</td>\n",
       "      <td>1</td>\n",
       "      <td>76</td>\n",
       "    </tr>\n",
       "    <tr>\n",
       "      <th>2</th>\n",
       "      <td>***В ЛУЧАХ СЛАВЫ   (UNV)                    D</td>\n",
       "      <td>2</td>\n",
       "      <td>40</td>\n",
       "    </tr>\n",
       "    <tr>\n",
       "      <th>3</th>\n",
       "      <td>***ГОЛУБАЯ ВОЛНА  (Univ)                      D</td>\n",
       "      <td>3</td>\n",
       "      <td>40</td>\n",
       "    </tr>\n",
       "    <tr>\n",
       "      <th>4</th>\n",
       "      <td>***КОРОБКА (СТЕКЛО)                       D</td>\n",
       "      <td>4</td>\n",
       "      <td>40</td>\n",
       "    </tr>\n",
       "  </tbody>\n",
       "</table>\n",
       "</div>"
      ],
      "text/plain": [
       "                                           item_name  item_id  \\\n",
       "0          ! ВО ВЛАСТИ НАВАЖДЕНИЯ (ПЛАСТ.)         D        0   \n",
       "1  !ABBYY FineReader 12 Professional Edition Full...        1   \n",
       "2      ***В ЛУЧАХ СЛАВЫ   (UNV)                    D        2   \n",
       "3    ***ГОЛУБАЯ ВОЛНА  (Univ)                      D        3   \n",
       "4        ***КОРОБКА (СТЕКЛО)                       D        4   \n",
       "\n",
       "   item_category_id  \n",
       "0                40  \n",
       "1                76  \n",
       "2                40  \n",
       "3                40  \n",
       "4                40  "
      ]
     },
     "execution_count": 6,
     "metadata": {},
     "output_type": "execute_result"
    }
   ],
   "source": [
    "items.head()"
   ]
  },
  {
   "cell_type": "markdown",
   "metadata": {},
   "source": [
    "item_id 를 기준으로 slaes_train 과 item 병합이 가능할거같다. "
   ]
  },
  {
   "cell_type": "code",
   "execution_count": 7,
   "metadata": {},
   "outputs": [
    {
     "name": "stdout",
     "output_type": "stream",
     "text": [
      "<class 'pandas.core.frame.DataFrame'>\n",
      "RangeIndex: 22170 entries, 0 to 22169\n",
      "Data columns (total 3 columns):\n",
      " #   Column            Non-Null Count  Dtype \n",
      "---  ------            --------------  ----- \n",
      " 0   item_name         22170 non-null  object\n",
      " 1   item_id           22170 non-null  int64 \n",
      " 2   item_category_id  22170 non-null  int64 \n",
      "dtypes: int64(2), object(1)\n",
      "memory usage: 519.7+ KB\n"
     ]
    }
   ],
   "source": [
    "items.info()"
   ]
  },
  {
   "cell_type": "code",
   "execution_count": 8,
   "metadata": {},
   "outputs": [
    {
     "data": {
      "text/html": [
       "<div>\n",
       "<style scoped>\n",
       "    .dataframe tbody tr th:only-of-type {\n",
       "        vertical-align: middle;\n",
       "    }\n",
       "\n",
       "    .dataframe tbody tr th {\n",
       "        vertical-align: top;\n",
       "    }\n",
       "\n",
       "    .dataframe thead th {\n",
       "        text-align: right;\n",
       "    }\n",
       "</style>\n",
       "<table border=\"1\" class=\"dataframe\">\n",
       "  <thead>\n",
       "    <tr style=\"text-align: right;\">\n",
       "      <th></th>\n",
       "      <th>item_category_name</th>\n",
       "      <th>item_category_id</th>\n",
       "    </tr>\n",
       "  </thead>\n",
       "  <tbody>\n",
       "    <tr>\n",
       "      <th>0</th>\n",
       "      <td>PC - Гарнитуры/Наушники</td>\n",
       "      <td>0</td>\n",
       "    </tr>\n",
       "    <tr>\n",
       "      <th>1</th>\n",
       "      <td>Аксессуары - PS2</td>\n",
       "      <td>1</td>\n",
       "    </tr>\n",
       "    <tr>\n",
       "      <th>2</th>\n",
       "      <td>Аксессуары - PS3</td>\n",
       "      <td>2</td>\n",
       "    </tr>\n",
       "    <tr>\n",
       "      <th>3</th>\n",
       "      <td>Аксессуары - PS4</td>\n",
       "      <td>3</td>\n",
       "    </tr>\n",
       "    <tr>\n",
       "      <th>4</th>\n",
       "      <td>Аксессуары - PSP</td>\n",
       "      <td>4</td>\n",
       "    </tr>\n",
       "  </tbody>\n",
       "</table>\n",
       "</div>"
      ],
      "text/plain": [
       "        item_category_name  item_category_id\n",
       "0  PC - Гарнитуры/Наушники                 0\n",
       "1         Аксессуары - PS2                 1\n",
       "2         Аксессуары - PS3                 2\n",
       "3         Аксессуары - PS4                 3\n",
       "4         Аксессуары - PSP                 4"
      ]
     },
     "execution_count": 8,
     "metadata": {},
     "output_type": "execute_result"
    }
   ],
   "source": [
    "item_categories.head()"
   ]
  },
  {
   "cell_type": "markdown",
   "metadata": {},
   "source": [
    "1. category ID 기준으로 병합 가능할거같음\n",
    "2. 상품분류명의 첫단어는 대분류를 뜻함 \n",
    "3. 베이스 라인 끝내고 추후 피처 엔지니어링시 대분류 피처로 만들수있을듯 "
   ]
  },
  {
   "cell_type": "markdown",
   "metadata": {},
   "source": [
    "병합 계획\n",
    "1. sales_train 과 shops -> shop_id 기준으로 병합\n",
    "2. sales_train 과 items -> item_id 기준으로 병합\n",
    "3. sales_train 과 item_categories  -> item_category_id 기준으로 병합 (2번 이후에 itemcategory id 생김)"
   ]
  },
  {
   "cell_type": "code",
   "execution_count": 11,
   "metadata": {},
   "outputs": [
    {
     "data": {
      "text/html": [
       "<div>\n",
       "<style scoped>\n",
       "    .dataframe tbody tr th:only-of-type {\n",
       "        vertical-align: middle;\n",
       "    }\n",
       "\n",
       "    .dataframe tbody tr th {\n",
       "        vertical-align: top;\n",
       "    }\n",
       "\n",
       "    .dataframe thead th {\n",
       "        text-align: right;\n",
       "    }\n",
       "</style>\n",
       "<table border=\"1\" class=\"dataframe\">\n",
       "  <thead>\n",
       "    <tr style=\"text-align: right;\">\n",
       "      <th></th>\n",
       "      <th>0</th>\n",
       "      <th>1</th>\n",
       "      <th>2</th>\n",
       "      <th>3</th>\n",
       "      <th>4</th>\n",
       "    </tr>\n",
       "  </thead>\n",
       "  <tbody>\n",
       "    <tr>\n",
       "      <th>date</th>\n",
       "      <td>02.01.2013</td>\n",
       "      <td>03.01.2013</td>\n",
       "      <td>05.01.2013</td>\n",
       "      <td>06.01.2013</td>\n",
       "      <td>15.01.2013</td>\n",
       "    </tr>\n",
       "    <tr>\n",
       "      <th>date_block_num</th>\n",
       "      <td>0</td>\n",
       "      <td>0</td>\n",
       "      <td>0</td>\n",
       "      <td>0</td>\n",
       "      <td>0</td>\n",
       "    </tr>\n",
       "    <tr>\n",
       "      <th>shop_id</th>\n",
       "      <td>59</td>\n",
       "      <td>25</td>\n",
       "      <td>25</td>\n",
       "      <td>25</td>\n",
       "      <td>25</td>\n",
       "    </tr>\n",
       "    <tr>\n",
       "      <th>item_id</th>\n",
       "      <td>22154</td>\n",
       "      <td>2552</td>\n",
       "      <td>2552</td>\n",
       "      <td>2554</td>\n",
       "      <td>2555</td>\n",
       "    </tr>\n",
       "    <tr>\n",
       "      <th>item_price</th>\n",
       "      <td>999.0</td>\n",
       "      <td>899.0</td>\n",
       "      <td>899.0</td>\n",
       "      <td>1709.05</td>\n",
       "      <td>1099.0</td>\n",
       "    </tr>\n",
       "    <tr>\n",
       "      <th>item_cnt_day</th>\n",
       "      <td>1.0</td>\n",
       "      <td>1.0</td>\n",
       "      <td>-1.0</td>\n",
       "      <td>1.0</td>\n",
       "      <td>1.0</td>\n",
       "    </tr>\n",
       "    <tr>\n",
       "      <th>shop_name</th>\n",
       "      <td>Ярославль ТЦ \"Альтаир\"</td>\n",
       "      <td>Москва ТРК \"Атриум\"</td>\n",
       "      <td>Москва ТРК \"Атриум\"</td>\n",
       "      <td>Москва ТРК \"Атриум\"</td>\n",
       "      <td>Москва ТРК \"Атриум\"</td>\n",
       "    </tr>\n",
       "    <tr>\n",
       "      <th>item_name</th>\n",
       "      <td>ЯВЛЕНИЕ 2012 (BD)</td>\n",
       "      <td>DEEP PURPLE  The House Of Blue Light  LP</td>\n",
       "      <td>DEEP PURPLE  The House Of Blue Light  LP</td>\n",
       "      <td>DEEP PURPLE  Who Do You Think We Are  LP</td>\n",
       "      <td>DEEP PURPLE 30 Very Best Of 2CD (Фирм.)</td>\n",
       "    </tr>\n",
       "    <tr>\n",
       "      <th>item_category_id</th>\n",
       "      <td>37</td>\n",
       "      <td>58</td>\n",
       "      <td>58</td>\n",
       "      <td>58</td>\n",
       "      <td>56</td>\n",
       "    </tr>\n",
       "    <tr>\n",
       "      <th>item_category_name</th>\n",
       "      <td>Кино - Blu-Ray</td>\n",
       "      <td>Музыка - Винил</td>\n",
       "      <td>Музыка - Винил</td>\n",
       "      <td>Музыка - Винил</td>\n",
       "      <td>Музыка - CD фирменного производства</td>\n",
       "    </tr>\n",
       "  </tbody>\n",
       "</table>\n",
       "</div>"
      ],
      "text/plain": [
       "                                         0  \\\n",
       "date                            02.01.2013   \n",
       "date_block_num                           0   \n",
       "shop_id                                 59   \n",
       "item_id                              22154   \n",
       "item_price                           999.0   \n",
       "item_cnt_day                           1.0   \n",
       "shop_name           Ярославль ТЦ \"Альтаир\"   \n",
       "item_name                ЯВЛЕНИЕ 2012 (BD)   \n",
       "item_category_id                        37   \n",
       "item_category_name          Кино - Blu-Ray   \n",
       "\n",
       "                                                           1  \\\n",
       "date                                              03.01.2013   \n",
       "date_block_num                                             0   \n",
       "shop_id                                                   25   \n",
       "item_id                                                 2552   \n",
       "item_price                                             899.0   \n",
       "item_cnt_day                                             1.0   \n",
       "shop_name                                Москва ТРК \"Атриум\"   \n",
       "item_name           DEEP PURPLE  The House Of Blue Light  LP   \n",
       "item_category_id                                          58   \n",
       "item_category_name                            Музыка - Винил   \n",
       "\n",
       "                                                           2  \\\n",
       "date                                              05.01.2013   \n",
       "date_block_num                                             0   \n",
       "shop_id                                                   25   \n",
       "item_id                                                 2552   \n",
       "item_price                                             899.0   \n",
       "item_cnt_day                                            -1.0   \n",
       "shop_name                                Москва ТРК \"Атриум\"   \n",
       "item_name           DEEP PURPLE  The House Of Blue Light  LP   \n",
       "item_category_id                                          58   \n",
       "item_category_name                            Музыка - Винил   \n",
       "\n",
       "                                                           3  \\\n",
       "date                                              06.01.2013   \n",
       "date_block_num                                             0   \n",
       "shop_id                                                   25   \n",
       "item_id                                                 2554   \n",
       "item_price                                           1709.05   \n",
       "item_cnt_day                                             1.0   \n",
       "shop_name                                Москва ТРК \"Атриум\"   \n",
       "item_name           DEEP PURPLE  Who Do You Think We Are  LP   \n",
       "item_category_id                                          58   \n",
       "item_category_name                            Музыка - Винил   \n",
       "\n",
       "                                                          4  \n",
       "date                                             15.01.2013  \n",
       "date_block_num                                            0  \n",
       "shop_id                                                  25  \n",
       "item_id                                                2555  \n",
       "item_price                                           1099.0  \n",
       "item_cnt_day                                            1.0  \n",
       "shop_name                               Москва ТРК \"Атриум\"  \n",
       "item_name           DEEP PURPLE 30 Very Best Of 2CD (Фирм.)  \n",
       "item_category_id                                         56  \n",
       "item_category_name      Музыка - CD фирменного производства  "
      ]
     },
     "execution_count": 11,
     "metadata": {},
     "output_type": "execute_result"
    }
   ],
   "source": [
    "train = sales_train.merge(shops, on='shop_id', how='left')\n",
    "train = train.merge(items, on='item_id', how='left')\n",
    "train = train.merge(item_categories, on='item_category_id', how='left')\n",
    "\n",
    "train.head().T"
   ]
  },
  {
   "cell_type": "code",
   "execution_count": 12,
   "metadata": {},
   "outputs": [
    {
     "name": "stdout",
     "output_type": "stream",
     "text": [
      "데이터셋 형상 : (2935849, 10)\n"
     ]
    },
    {
     "data": {
      "text/html": [
       "<div>\n",
       "<style scoped>\n",
       "    .dataframe tbody tr th:only-of-type {\n",
       "        vertical-align: middle;\n",
       "    }\n",
       "\n",
       "    .dataframe tbody tr th {\n",
       "        vertical-align: top;\n",
       "    }\n",
       "\n",
       "    .dataframe thead th {\n",
       "        text-align: right;\n",
       "    }\n",
       "</style>\n",
       "<table border=\"1\" class=\"dataframe\">\n",
       "  <thead>\n",
       "    <tr style=\"text-align: right;\">\n",
       "      <th></th>\n",
       "      <th>피처</th>\n",
       "      <th>데이터 타입</th>\n",
       "      <th>결측값 개수</th>\n",
       "      <th>고유값 개수</th>\n",
       "      <th>첫 번째 값</th>\n",
       "      <th>두 번째 값</th>\n",
       "    </tr>\n",
       "  </thead>\n",
       "  <tbody>\n",
       "    <tr>\n",
       "      <th>0</th>\n",
       "      <td>date</td>\n",
       "      <td>object</td>\n",
       "      <td>0</td>\n",
       "      <td>1034</td>\n",
       "      <td>02.01.2013</td>\n",
       "      <td>03.01.2013</td>\n",
       "    </tr>\n",
       "    <tr>\n",
       "      <th>1</th>\n",
       "      <td>date_block_num</td>\n",
       "      <td>int64</td>\n",
       "      <td>0</td>\n",
       "      <td>34</td>\n",
       "      <td>0</td>\n",
       "      <td>0</td>\n",
       "    </tr>\n",
       "    <tr>\n",
       "      <th>2</th>\n",
       "      <td>shop_id</td>\n",
       "      <td>int64</td>\n",
       "      <td>0</td>\n",
       "      <td>60</td>\n",
       "      <td>59</td>\n",
       "      <td>25</td>\n",
       "    </tr>\n",
       "    <tr>\n",
       "      <th>3</th>\n",
       "      <td>item_id</td>\n",
       "      <td>int64</td>\n",
       "      <td>0</td>\n",
       "      <td>21807</td>\n",
       "      <td>22154</td>\n",
       "      <td>2552</td>\n",
       "    </tr>\n",
       "    <tr>\n",
       "      <th>4</th>\n",
       "      <td>item_price</td>\n",
       "      <td>float64</td>\n",
       "      <td>0</td>\n",
       "      <td>19993</td>\n",
       "      <td>999.0</td>\n",
       "      <td>899.0</td>\n",
       "    </tr>\n",
       "    <tr>\n",
       "      <th>5</th>\n",
       "      <td>item_cnt_day</td>\n",
       "      <td>float64</td>\n",
       "      <td>0</td>\n",
       "      <td>198</td>\n",
       "      <td>1.0</td>\n",
       "      <td>1.0</td>\n",
       "    </tr>\n",
       "    <tr>\n",
       "      <th>6</th>\n",
       "      <td>shop_name</td>\n",
       "      <td>object</td>\n",
       "      <td>0</td>\n",
       "      <td>60</td>\n",
       "      <td>Ярославль ТЦ \"Альтаир\"</td>\n",
       "      <td>Москва ТРК \"Атриум\"</td>\n",
       "    </tr>\n",
       "    <tr>\n",
       "      <th>7</th>\n",
       "      <td>item_name</td>\n",
       "      <td>object</td>\n",
       "      <td>0</td>\n",
       "      <td>21807</td>\n",
       "      <td>ЯВЛЕНИЕ 2012 (BD)</td>\n",
       "      <td>DEEP PURPLE  The House Of Blue Light  LP</td>\n",
       "    </tr>\n",
       "    <tr>\n",
       "      <th>8</th>\n",
       "      <td>item_category_id</td>\n",
       "      <td>int64</td>\n",
       "      <td>0</td>\n",
       "      <td>84</td>\n",
       "      <td>37</td>\n",
       "      <td>58</td>\n",
       "    </tr>\n",
       "    <tr>\n",
       "      <th>9</th>\n",
       "      <td>item_category_name</td>\n",
       "      <td>object</td>\n",
       "      <td>0</td>\n",
       "      <td>84</td>\n",
       "      <td>Кино - Blu-Ray</td>\n",
       "      <td>Музыка - Винил</td>\n",
       "    </tr>\n",
       "  </tbody>\n",
       "</table>\n",
       "</div>"
      ],
      "text/plain": [
       "                   피처   데이터 타입  결측값 개수  고유값 개수                  첫 번째 값  \\\n",
       "0                date   object       0    1034              02.01.2013   \n",
       "1      date_block_num    int64       0      34                       0   \n",
       "2             shop_id    int64       0      60                      59   \n",
       "3             item_id    int64       0   21807                   22154   \n",
       "4          item_price  float64       0   19993                   999.0   \n",
       "5        item_cnt_day  float64       0     198                     1.0   \n",
       "6           shop_name   object       0      60  Ярославль ТЦ \"Альтаир\"   \n",
       "7           item_name   object       0   21807       ЯВЛЕНИЕ 2012 (BD)   \n",
       "8    item_category_id    int64       0      84                      37   \n",
       "9  item_category_name   object       0      84          Кино - Blu-Ray   \n",
       "\n",
       "                                     두 번째 값  \n",
       "0                                03.01.2013  \n",
       "1                                         0  \n",
       "2                                        25  \n",
       "3                                      2552  \n",
       "4                                     899.0  \n",
       "5                                       1.0  \n",
       "6                       Москва ТРК \"Атриум\"  \n",
       "7  DEEP PURPLE  The House Of Blue Light  LP  \n",
       "8                                        58  \n",
       "9                            Музыка - Винил  "
      ]
     },
     "execution_count": 12,
     "metadata": {},
     "output_type": "execute_result"
    }
   ],
   "source": [
    "def resumetable(df):\n",
    "    print(f'데이터셋 형상 : {df.shape}')\n",
    "    summary = pd.DataFrame(df.dtypes, columns=['데이터 타입'])\n",
    "    summary = summary.reset_index()\n",
    "    summary = summary.rename(columns={'index' : '피처'})\n",
    "    summary['결측값 개수'] = df.isnull().sum().values\n",
    "    summary['고유값 개수'] = df.nunique().values\n",
    "    summary['첫 번째 값'] = df.loc[0].values\n",
    "    summary['두 번째 값'] = df.loc[1].values\n",
    "    \n",
    "    return summary\n",
    "\n",
    "resumetable(train)\n",
    "    "
   ]
  },
  {
   "cell_type": "markdown",
   "metadata": {},
   "source": [
    "1. 결측값은 하나도 없음\n",
    "2. 고유값 갯수 같은쌍들 (shop_id, shop_name) , (item_id, item_name) , (item_category_id,item_category_name)  \n",
    "3. 2번내용을 토대로 id 와 name 은 둘중 하나만 있어도 될거같음  \n",
    "4. name 같은 경우에는 파생피처를 만들수 있을거같음   "
   ]
  },
  {
   "cell_type": "code",
   "execution_count": 14,
   "metadata": {},
   "outputs": [
    {
     "data": {
      "text/plain": [
       "<AxesSubplot:ylabel='item_cnt_day'>"
      ]
     },
     "execution_count": 14,
     "metadata": {},
     "output_type": "execute_result"
    },
    {
     "data": {
      "image/png": "[encoded data removed]",
      "text/plain": [
       "<Figure size 640x480 with 1 Axes>"
      ]
     },
     "metadata": {},
     "output_type": "display_data"
    }
   ],
   "source": [
    "import seaborn as sns\n",
    "import matplotlib as mpl\n",
    "import matplotlib.pyplot as plt\n",
    "%matplotlib inline\n",
    "\n",
    "sns.boxplot(y='item_cnt_day', data=train)"
   ]
  },
  {
   "cell_type": "markdown",
   "metadata": {},
   "source": [
    "박스플롯에서 이상치범위가 과도하게 넓어서 1사분위 2사분위, 3사분위를 나타내는 박스모양 납작해짐  \n",
    "1000이상인거는 제거할예정"
   ]
  },
  {
   "cell_type": "code",
   "execution_count": 15,
   "metadata": {},
   "outputs": [
    {
     "data": {
      "text/plain": [
       "<AxesSubplot:ylabel='item_price'>"
      ]
     },
     "execution_count": 15,
     "metadata": {},
     "output_type": "execute_result"
    },
    {
     "data": {
      "image/png": "[encoded data removed]",
      "text/plain": [
       "<Figure size 640x480 with 1 Axes>"
      ]
     },
     "metadata": {},
     "output_type": "display_data"
    }
   ],
   "source": [
    "sns.boxplot(y='item_price', data=train)"
   ]
  },
  {
   "cell_type": "markdown",
   "metadata": {},
   "source": [
    "50000루블 이상인거는 제거할예정"
   ]
  },
  {
   "cell_type": "code",
   "execution_count": 17,
   "metadata": {},
   "outputs": [
    {
     "data": {
      "text/html": [
       "<div>\n",
       "<style scoped>\n",
       "    .dataframe tbody tr th:only-of-type {\n",
       "        vertical-align: middle;\n",
       "    }\n",
       "\n",
       "    .dataframe tbody tr th {\n",
       "        vertical-align: top;\n",
       "    }\n",
       "\n",
       "    .dataframe thead th {\n",
       "        text-align: right;\n",
       "    }\n",
       "</style>\n",
       "<table border=\"1\" class=\"dataframe\">\n",
       "  <thead>\n",
       "    <tr style=\"text-align: right;\">\n",
       "      <th></th>\n",
       "      <th>date_block_num</th>\n",
       "      <th>item_cnt_day</th>\n",
       "    </tr>\n",
       "  </thead>\n",
       "  <tbody>\n",
       "    <tr>\n",
       "      <th>0</th>\n",
       "      <td>0</td>\n",
       "      <td>131479.0</td>\n",
       "    </tr>\n",
       "    <tr>\n",
       "      <th>1</th>\n",
       "      <td>1</td>\n",
       "      <td>128090.0</td>\n",
       "    </tr>\n",
       "    <tr>\n",
       "      <th>2</th>\n",
       "      <td>2</td>\n",
       "      <td>147142.0</td>\n",
       "    </tr>\n",
       "    <tr>\n",
       "      <th>3</th>\n",
       "      <td>3</td>\n",
       "      <td>107190.0</td>\n",
       "    </tr>\n",
       "    <tr>\n",
       "      <th>4</th>\n",
       "      <td>4</td>\n",
       "      <td>106970.0</td>\n",
       "    </tr>\n",
       "  </tbody>\n",
       "</table>\n",
       "</div>"
      ],
      "text/plain": [
       "   date_block_num  item_cnt_day\n",
       "0               0      131479.0\n",
       "1               1      128090.0\n",
       "2               2      147142.0\n",
       "3               3      107190.0\n",
       "4               4      106970.0"
      ]
     },
     "execution_count": 17,
     "metadata": {},
     "output_type": "execute_result"
    }
   ],
   "source": [
    "group = train.groupby('date_block_num').agg({'item_cnt_day':'sum'})\n",
    "group.reset_index().head()"
   ]
  },
  {
   "cell_type": "code",
   "execution_count": 20,
   "metadata": {},
   "outputs": [
    {
     "data": {
      "text/plain": [
       "[Text(0.5, 1.0, 'Distribution of monthly item counts by date block number'),\n",
       " Text(0.5, 0, 'Date block number'),\n",
       " Text(0, 0.5, 'Monthly item counts')]"
      ]
     },
     "execution_count": 20,
     "metadata": {},
     "output_type": "execute_result"
    },
    {
     "data": {
      "image/png": "[encoded data removed]",
      "text/plain": [
       "<Figure size 1100x500 with 1 Axes>"
      ]
     },
     "metadata": {},
     "output_type": "display_data"
    }
   ],
   "source": [
    "# 월별 판매량 세팅\n",
    "mpl.rc('font', size=13)\n",
    "figure, ax = plt.subplots()\n",
    "figure.set_size_inches(11, 5) # 가로 11, 세로5\n",
    "\n",
    "# 월별 총 상품 판매량\n",
    "group_month_sum = train.groupby('date_block_num').agg({'item_cnt_day': 'sum'})\n",
    "group_month_sum = group_month_sum.reset_index()\n",
    "\n",
    "# 월별 총 상품 판매량 막대 그래프\n",
    "sns.barplot(x='date_block_num', y='item_cnt_day', data=group_month_sum)\n",
    "# 그래프 제목, x축 라벨, y축 라벨명 설정\n",
    "ax.set(title='Distribution of monthly item counts by date block number',\n",
    "       xlabel='Date block number',\n",
    "       ylabel='Monthly item counts')"
   ]
  },
  {
   "cell_type": "code",
   "execution_count": 21,
   "metadata": {},
   "outputs": [
    {
     "data": {
      "text/plain": [
       "84"
      ]
     },
     "execution_count": 21,
     "metadata": {},
     "output_type": "execute_result"
    }
   ],
   "source": [
    "train['item_category_id'].nunique()"
   ]
  },
  {
   "cell_type": "markdown",
   "metadata": {},
   "source": [
    "84개는 막대그래프로 표현하기에 너무 많으니 판매량이 10000개를 초과하는 상품 분류만 추출해서 그려보겠음"
   ]
  },
  {
   "cell_type": "code",
   "execution_count": 22,
   "metadata": {},
   "outputs": [
    {
     "data": {
      "image/png": "[encoded data removed]",
      "text/plain": [
       "<Figure size 1100x500 with 1 Axes>"
      ]
     },
     "metadata": {},
     "output_type": "display_data"
    }
   ],
   "source": [
    "figure, ax = plt.subplots()\n",
    "figure.set_size_inches(11, 5)\n",
    "\n",
    "# 상품분류별 총 상품 판매량\n",
    "group_cat_sum = train.groupby('item_category_id').agg({'item_cnt_day' : 'sum'})\n",
    "group_cat_sum = group_cat_sum.reset_index()\n",
    "\n",
    "# 월간 판매량이 10000개를 초과하는 상품분류만 추출\n",
    "group_cat_sum = group_cat_sum[group_cat_sum['item_cnt_day']>10000]\n",
    "\n",
    "# 상품분류별 총 상품 판매량 막대 그래프\n",
    "sns.barplot(x='item_category_id', y='item_cnt_day', data=group_cat_sum)\n",
    "ax.set(title='Distribution of total item counts by item category id',\n",
    "       xlabel='Date block number',\n",
    "       ylabel='Total item counts')\n",
    "\n",
    "ax.tick_params(axis='x', labelrotation=90)"
   ]
  },
  {
   "cell_type": "markdown",
   "metadata": {},
   "source": [
    "40번인 상품이 가장 많이 팔림, 30번하고 55번이 그뒤를 이음"
   ]
  },
  {
   "cell_type": "code",
   "execution_count": 24,
   "metadata": {},
   "outputs": [
    {
     "data": {
      "image/png": "[encoded data removed]",
      "text/plain": [
       "<Figure size 1100x500 with 1 Axes>"
      ]
     },
     "metadata": {},
     "output_type": "display_data"
    }
   ],
   "source": [
    "# 상점별 월간 판매량 살펴보자\n",
    "# 이것도 한번에 그리기 머해서 판매량 10000개 초과하는것만 추리자\n",
    "\n",
    "figure, ax = plt.subplots()\n",
    "figure.set_size_inches(11, 5)\n",
    "\n",
    "# 상점별 총 상품 판매량\n",
    "group_shop_sum = train.groupby('shop_id').agg({'item_cnt_day' : 'sum'})\n",
    "group_shop_sum = group_shop_sum.reset_index()\n",
    "\n",
    "group_shop_sum = group_shop_sum[group_shop_sum['item_cnt_day'] > 10000]\n",
    "\n",
    "# 상점별 총 상품 판매량 막대 그래프\n",
    "sns.barplot(x='shop_id', y='item_cnt_day', data=group_shop_sum)\n",
    "ax.set(title='Distribution of total item counts by shop id',\n",
    "       xlabel='Data block number',\n",
    "       ylabel='Total item counts')\n",
    "ax.tick_params(axis='x', labelrotation=90)"
   ]
  },
  {
   "cell_type": "markdown",
   "metadata": {},
   "source": [
    "**분석 정리**\n",
    "\n",
    "1. OOF 등 데이터 순서가 무시되는 기법 사용할수없음\n",
    "2. 검증데이터는 마지막 1개월치 이용\n",
    "3. 일별 판매량 합쳐서 타깃값 구해야함\n",
    "4. 상점 ID, 상품 ID, 상품 분류 ID 기준으로 훈련데이터 병합 가능\n",
    "5. 메모리 관리하자\n",
    "6. 파생피처 추가 -> 상점명과 상품분류명의 첫단어 도시와 대분류 \n",
    "7. 일별 피처제거 (date 피처 제거)\n",
    "8. ID 와 이름 1대1 대응이므로 둘중 하나만 남김 (상점명, 상품명, 상품 분류명)\n",
    "9. 이상치 제거 (일별판매량 과 판매가의 이상치 제거)\n",
    "10. 모든 데이터에는 결측값 없음"
   ]
  },
  {
   "cell_type": "markdown",
   "metadata": {},
   "source": [
    "** 모델링 전략 **\n",
    "\n",
    "베이스라인 모델 : LightGMB\n",
    " - 피처 엔지니어링 : 피처명 한글화, 데이터 다운캐스팅, 데이터 조합 생성, 타깃값 추가\n",
    "\n",
    "성능 개선 전략: LightGBM 유지\n",
    " - 피처 엔지니어링 : 이상치 제거, 저너리 등 다양한 파생 피처 추가, 인코딩, 결측값 처리"
   ]
  }
 ],
 "metadata": {
  "kernelspec": {
   "display_name": "Python 3.9.13 ('base')",
   "language": "python",
   "name": "python3"
  },
  "language_info": {
   "codemirror_mode": {
    "name": "ipython",
    "version": 3
   },
   "file_extension": ".py",
   "mimetype": "text/x-python",
   "name": "python",
   "nbconvert_exporter": "python",
   "pygments_lexer": "ipython3",
   "version": "3.9.13"
  },
  "orig_nbformat": 4,
  "vscode": {
   "interpreter": {
    "hash": "ad2bdc8ecc057115af97d19610ffacc2b4e99fae6737bb82f5d7fb13d2f2c186"
   }
  }
 },
 "nbformat": 4,
 "nbformat_minor": 2
}
