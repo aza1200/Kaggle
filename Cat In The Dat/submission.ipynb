{
 "cells": [
  {
   "cell_type": "code",
   "execution_count": 2,
   "metadata": {},
   "outputs": [
    {
     "name": "stdout",
     "output_type": "stream",
     "text": [
      "Successfully submitted to Categorical Feature Encoding Challenge\n"
     ]
    }
   ],
   "source": [
    "# https://www.kaggle.com/docs/api 참고\n",
    "# kaggle competitions submit -c [COMPETITION] -f [FILE] -m [MESSAGE]\n",
    "\n",
    "import os\n",
    "import subprocess\n",
    "\n",
    "# 0. api 토큰 발급받은이후 올바른 경로에 생성된 kaggle.json 추가\n",
    "# 참고 url : https://github.com/Kaggle/kaggle-api\n",
    "# cmd 명령어 실행으로 다운받기\n",
    "result = subprocess.check_output(\n",
    "    \"kaggle competitions submit -c cat-in-the-dat -f ./output/submission.csv -m submit_in_local\", \n",
    "    encoding='utf-8'\n",
    "    )\n",
    "print(result)"
   ]
  }
 ],
 "metadata": {
  "kernelspec": {
   "display_name": "Python 3.9.13 ('base')",
   "language": "python",
   "name": "python3"
  },
  "language_info": {
   "codemirror_mode": {
    "name": "ipython",
    "version": 3
   },
   "file_extension": ".py",
   "mimetype": "text/x-python",
   "name": "python",
   "nbconvert_exporter": "python",
   "pygments_lexer": "ipython3",
   "version": "3.9.13"
  },
  "orig_nbformat": 4,
  "vscode": {
   "interpreter": {
    "hash": "ad2bdc8ecc057115af97d19610ffacc2b4e99fae6737bb82f5d7fb13d2f2c186"
   }
  }
 },
 "nbformat": 4,
 "nbformat_minor": 2
}
