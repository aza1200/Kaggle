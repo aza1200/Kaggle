{
 "cells": [
  {
   "cell_type": "code",
   "execution_count": null,
   "metadata": {},
   "outputs": [],
   "source": [
    "# 타깃값 분포 : 대략 7:3\n",
    "\n",
    "# 총데이터는 \n",
    "# bin_0 ~ bin_4 (binary 데이터)\n",
    "# nom_0 ~ nom_9 (nominal 데이터) -> 명목형 : 순서없는데이터\n",
    "# ord_0 ~ ord_5 (ordinal 데이터) -> 순서형 : 순서있는 데이터\n",
    "# 이외에 피처 : day,month, target 이 있다.\n",
    "\n",
    "# binary 는 그래프 그려보니 특정타깃값에 치우치치않으므로 그대로 ㄱ\n",
    "# nom_0 ~ nom_4 : 고윳값별로 타깃값에 대한 비율이 다르므로 타깃값에 대한 예측 능력이 있음\n",
    "# nom_5 ~ nom_9 : 교윳값 갯수가 많고 의미를 알수 없는 문자열이 입력돼 있으니, 여기서는 걍 넘어가겠음\n",
    "\n",
    "# ord_0 ~ ord_5 :\n",
    "# 알파벳 순으로 정렬시\n",
    "# 순서형 피처 모두 고윳값 순서에 따라 타깃값이 1인 비율이 증가한다는 사실을 알수있다. \n",
    "   \n",
    "# day, month 피처:\n",
    "# 12 월 과 1월은 차이가 11이나 되기떄문에, 삼각함수 인코딩을 하면 시작과 끝이 매끄럽게 연결되어 문제가 해결됨\n",
    "# 순환형 데이터!\n",
    "\n",
    "# 근데 본 경진대회에서는 요일, 월 피처에대해서 원-핫 인코딩이 더 성능이 좋음."
   ]
  },
  {
   "cell_type": "code",
   "execution_count": null,
   "metadata": {},
   "outputs": [],
   "source": [
    "# 처음에는 모두다 one-hot-encoding 한후  logistic model 로 예측\n",
    "# 근데 성능이 생각보다 좋지 않기에\n",
    "\n",
    "# bin_0 ~ bin_4 : 수작업 1//0 인코딩\n",
    "# ord_0 ~ ord_5 : OrdEncoder 혹은 수작업 인코딩\n",
    "# nom_0 ~ nom_9 : 원핫 인코더로 다 때려박기\n",
    "# day, month : 원핫 인코더\n",
    "\n",
    "# 순서형 피처 => min-max 정규화 "
   ]
  },
  {
   "cell_type": "code",
   "execution_count": null,
   "metadata": {},
   "outputs": [],
   "source": [
    "# 이후 하이퍼 파라미터 최적화 \n",
    "# 그리드서치\n",
    "\n",
    "# "
   ]
  }
 ],
 "metadata": {
  "kernelspec": {
   "display_name": "Python 3.9.13 ('base')",
   "language": "python",
   "name": "python3"
  },
  "language_info": {
   "name": "python",
   "version": "3.9.13"
  },
  "orig_nbformat": 4,
  "vscode": {
   "interpreter": {
    "hash": "ad2bdc8ecc057115af97d19610ffacc2b4e99fae6737bb82f5d7fb13d2f2c186"
   }
  }
 },
 "nbformat": 4,
 "nbformat_minor": 2
}
