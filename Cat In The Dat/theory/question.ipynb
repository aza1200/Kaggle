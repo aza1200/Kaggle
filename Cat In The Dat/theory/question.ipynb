{
 "cells": [
  {
   "cell_type": "code",
   "execution_count": null,
   "metadata": {},
   "outputs": [],
   "source": [
    "# encoding 시 , 전체 고유값의 갯수를 다더하면 \n",
    "\n",
    "# 2+2+2+2+2+\n",
    "# 3+6+6+6+4+222+522+1220+2215+11981+\n",
    "# 3+5+6+15+26+192+7+12+2\n",
    "# 로 총 16463 이 나오는데 \n",
    "\n",
    "# 실제 encoding 시 결과값은 \n",
    "\n",
    "# 500000x16552 이 나온다 더 늘어난 이유는? \n"
   ]
  }
 ],
 "metadata": {
  "language_info": {
   "name": "python"
  },
  "orig_nbformat": 4
 },
 "nbformat": 4,
 "nbformat_minor": 2
}
