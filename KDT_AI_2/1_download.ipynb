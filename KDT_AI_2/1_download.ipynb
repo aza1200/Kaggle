{
 "cells": [
  {
   "cell_type": "code",
   "execution_count": 1,
   "metadata": {},
   "outputs": [
    {
     "name": "stdout",
     "output_type": "stream",
     "text": [
      "Downloading kdtai-2.zip to c:\\Users\\user\\Desktop\\Kaggle\\KDT_AI_2\n",
      "\n"
     ]
    },
    {
     "name": "stderr",
     "output_type": "stream",
     "text": [
      "\n",
      "  0%|          | 0.00/3.26M [00:00<?, ?B/s]\n",
      " 92%|█████████▏| 3.00M/3.26M [00:00<00:00, 27.6MB/s]\n",
      "100%|██████████| 3.26M/3.26M [00:00<00:00, 27.8MB/s]\n"
     ]
    }
   ],
   "source": [
    "# 초기 파일세팅 \n",
    "# input / output 파일 생성\n",
    "import os\n",
    "\n",
    "# 폴더 생성 (기존재시 pass)\n",
    "os.makedirs('./input',  exist_ok=True)\n",
    "os.makedirs('./output', exist_ok=True)\n",
    "!kaggle competitions download -c kdtai-2\n",
    "\n",
    "# 압축 해제 후 input 에 train.csv test.csv  넣기\n",
    "import zipfile\n",
    "zipfile.ZipFile(f'kdtai-2.zip').extractall('./input')"
   ]
  }
 ],
 "metadata": {
  "kernelspec": {
   "display_name": "Python 3.9.13 ('base')",
   "language": "python",
   "name": "python3"
  },
  "language_info": {
   "codemirror_mode": {
    "name": "ipython",
    "version": 3
   },
   "file_extension": ".py",
   "mimetype": "text/x-python",
   "name": "python",
   "nbconvert_exporter": "python",
   "pygments_lexer": "ipython3",
   "version": "3.9.13"
  },
  "orig_nbformat": 4,
  "vscode": {
   "interpreter": {
    "hash": "ad2bdc8ecc057115af97d19610ffacc2b4e99fae6737bb82f5d7fb13d2f2c186"
   }
  }
 },
 "nbformat": 4,
 "nbformat_minor": 2
}
