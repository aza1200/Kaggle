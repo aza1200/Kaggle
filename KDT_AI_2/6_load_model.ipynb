{
 "cells": [
  {
   "cell_type": "code",
   "execution_count": 4,
   "metadata": {},
   "outputs": [],
   "source": [
    "import torch\n",
    "import numpy as np\n",
    "import torch.nn as nn\n",
    "from tqdm.notebook import tqdm\n",
    "from torch.utils.data import Dataset\n",
    "from torch.utils.data import DataLoader\n",
    "from transformers import get_cosine_schedule_with_warmup"
   ]
  },
  {
   "cell_type": "code",
   "execution_count": 17,
   "metadata": {},
   "outputs": [],
   "source": [
    "# 모델 불러오기 (CPU)\n",
    "model_parameters = torch.load(\n",
    "    \"./models/bidirectional_classifier.pth\",\n",
    "    map_location=torch.device('cpu')\n",
    ")"
   ]
  },
  {
   "cell_type": "code",
   "execution_count": 37,
   "metadata": {},
   "outputs": [],
   "source": [
    "test_input = torch.load('./processed_data/test_input.pt')\n",
    "vocab_number = 80096\n",
    "label_number = 7\n",
    "batch_size = 32\n",
    "n_hidden = 300"
   ]
  },
  {
   "cell_type": "code",
   "execution_count": 33,
   "metadata": {},
   "outputs": [],
   "source": [
    "class TextDataset(Dataset):\n",
    "    def __init__(self,tokens, labels=None ,is_test=False):\n",
    "        super().__init__()\n",
    "        self.tokens = tokens\n",
    "        self.labels = labels\n",
    "        self.is_test = is_test\n",
    "    \n",
    "    def __len__(self):\n",
    "        return len(self.tokens)    \n",
    "    \n",
    "    def __getitem__(self, idx):\n",
    "        input = self.tokens[idx]\n",
    "        label = None\n",
    "        if not self.is_test:\n",
    "            label = self.labels[idx]\n",
    "        return (input, label) if not self.is_test else (input)"
   ]
  },
  {
   "cell_type": "code",
   "execution_count": 34,
   "metadata": {},
   "outputs": [],
   "source": [
    "dataset_test = TextDataset(tokens=test_input, is_test=True)\n",
    "loader_test = DataLoader(dataset=dataset_test, batch_size=batch_size, shuffle=False,drop_last=True) "
   ]
  },
  {
   "cell_type": "code",
   "execution_count": 35,
   "metadata": {},
   "outputs": [],
   "source": [
    "class TextLSTM(nn.Module):\n",
    "    def __init__(self):\n",
    "        super(TextLSTM, self).__init__()\n",
    "                                      # 80096 + <unk,padding> = 80097\n",
    "        self.embedding = nn.Embedding(vocab_number, n_hidden)\n",
    "        self.lstm = nn.LSTM(\n",
    "        input_size=n_hidden, \n",
    "        hidden_size=n_hidden, \n",
    "        num_layers=1,\n",
    "        dropout=0.5, # drop out -> 0.5\n",
    "        bidirectional=True,\n",
    "        )\n",
    "        self.fc = nn.Linear(2*n_hidden, label_number)\n",
    "        \n",
    "    def forward(self, hidden_and_cell,X):\n",
    "        X = self.embedding(X)\n",
    "        X = X.transpose(0,1)\n",
    "        outputs, (hidden_forward, hidden_backward) = self.lstm(X, hidden_and_cell)\n",
    "        \n",
    "        # forward, backward 방향의 hidden state 를 합침\n",
    "        outputs = torch.cat(\n",
    "        (hidden_forward[-1], hidden_backward[-1]), dim=1\n",
    "        )  \n",
    "        outputs = self.fc(outputs)\n",
    "        \n",
    "        return outputs"
   ]
  },
  {
   "cell_type": "code",
   "execution_count": 36,
   "metadata": {},
   "outputs": [
    {
     "name": "stderr",
     "output_type": "stream",
     "text": [
      "c:\\ProgramData\\Anaconda3\\lib\\site-packages\\torch\\nn\\modules\\rnn.py:62: UserWarning: dropout option adds dropout after all but last recurrent layer, so non-zero dropout expects num_layers greater than 1, but got dropout=0.5 and num_layers=1\n",
      "  warnings.warn(\"dropout option adds dropout after all but last \"\n"
     ]
    },
    {
     "ename": "RuntimeError",
     "evalue": "Error(s) in loading state_dict for TextLSTM:\n\tsize mismatch for embedding.weight: copying a param with shape torch.Size([80096, 300]) from checkpoint, the shape in current model is torch.Size([80097, 300]).",
     "output_type": "error",
     "traceback": [
      "\u001b[1;31m---------------------------------------------------------------------------\u001b[0m",
      "\u001b[1;31mRuntimeError\u001b[0m                              Traceback (most recent call last)",
      "\u001b[1;32m~\\AppData\\Local\\Temp\\ipykernel_24692\\3485963243.py\u001b[0m in \u001b[0;36m<module>\u001b[1;34m\u001b[0m\n\u001b[0;32m      1\u001b[0m \u001b[0mmodel\u001b[0m \u001b[1;33m=\u001b[0m \u001b[0mTextLSTM\u001b[0m\u001b[1;33m(\u001b[0m\u001b[1;33m)\u001b[0m\u001b[1;33m\u001b[0m\u001b[1;33m\u001b[0m\u001b[0m\n\u001b[1;32m----> 2\u001b[1;33m \u001b[0mmodel\u001b[0m\u001b[1;33m.\u001b[0m\u001b[0mload_state_dict\u001b[0m\u001b[1;33m(\u001b[0m\u001b[0mmodel_parameters\u001b[0m\u001b[1;33m)\u001b[0m\u001b[1;33m\u001b[0m\u001b[1;33m\u001b[0m\u001b[0m\n\u001b[0m",
      "\u001b[1;32mc:\\ProgramData\\Anaconda3\\lib\\site-packages\\torch\\nn\\modules\\module.py\u001b[0m in \u001b[0;36mload_state_dict\u001b[1;34m(self, state_dict, strict)\u001b[0m\n\u001b[0;32m   1404\u001b[0m \u001b[1;33m\u001b[0m\u001b[0m\n\u001b[0;32m   1405\u001b[0m         \u001b[1;32mif\u001b[0m \u001b[0mlen\u001b[0m\u001b[1;33m(\u001b[0m\u001b[0merror_msgs\u001b[0m\u001b[1;33m)\u001b[0m \u001b[1;33m>\u001b[0m \u001b[1;36m0\u001b[0m\u001b[1;33m:\u001b[0m\u001b[1;33m\u001b[0m\u001b[1;33m\u001b[0m\u001b[0m\n\u001b[1;32m-> 1406\u001b[1;33m             raise RuntimeError('Error(s) in loading state_dict for {}:\\n\\t{}'.format(\n\u001b[0m\u001b[0;32m   1407\u001b[0m                                self.__class__.__name__, \"\\n\\t\".join(error_msgs)))\n\u001b[0;32m   1408\u001b[0m         \u001b[1;32mreturn\u001b[0m \u001b[0m_IncompatibleKeys\u001b[0m\u001b[1;33m(\u001b[0m\u001b[0mmissing_keys\u001b[0m\u001b[1;33m,\u001b[0m \u001b[0munexpected_keys\u001b[0m\u001b[1;33m)\u001b[0m\u001b[1;33m\u001b[0m\u001b[1;33m\u001b[0m\u001b[0m\n",
      "\u001b[1;31mRuntimeError\u001b[0m: Error(s) in loading state_dict for TextLSTM:\n\tsize mismatch for embedding.weight: copying a param with shape torch.Size([80096, 300]) from checkpoint, the shape in current model is torch.Size([80097, 300])."
     ]
    }
   ],
   "source": [
    "model = TextLSTM()\n",
    "model.load_state_dict(model_parameters)"
   ]
  },
  {
   "cell_type": "code",
   "execution_count": 19,
   "metadata": {},
   "outputs": [],
   "source": [
    "hidden = torch.zeros(2, batch_size, n_hidden, requires_grad=True)\n",
    "cell = torch.zeros(2, batch_size, n_hidden, requires_grad=True)\n",
    "\n",
    "final_preds = []\n",
    "\n",
    "for tokens in loader_test: # batch 갯수때문에 복수형\n",
    "    tokens = tokens\n",
    "    outputs = model.forward((hidden,cell),tokens)\n",
    "    pred = torch.max(outputs.cpu(), dim=1)[1].numpy() # 예측값\n",
    "\n",
    "    final_preds.extend(pred)"
   ]
  },
  {
   "cell_type": "code",
   "execution_count": 22,
   "metadata": {},
   "outputs": [
    {
     "name": "stdout",
     "output_type": "stream",
     "text": [
      "13472\n"
     ]
    }
   ],
   "source": [
    "print(len(final_preds))"
   ]
  },
  {
   "cell_type": "code",
   "execution_count": 29,
   "metadata": {},
   "outputs": [
    {
     "name": "stdout",
     "output_type": "stream",
     "text": [
      "torch.Size([32, 121])\n"
     ]
    }
   ],
   "source": [
    "for a in loader_test:\n",
    "    print(a.shape)\n",
    "    break"
   ]
  },
  {
   "cell_type": "code",
   "execution_count": 30,
   "metadata": {},
   "outputs": [
    {
     "name": "stdout",
     "output_type": "stream",
     "text": [
      "torch.Size([2, 32, 300])\n",
      "torch.Size([2, 32, 300])\n"
     ]
    }
   ],
   "source": [
    "print(hidden.shape)\n",
    "print(cell.shape)"
   ]
  },
  {
   "cell_type": "code",
   "execution_count": 40,
   "metadata": {},
   "outputs": [],
   "source": [
    "last_input = test_input[-32:]\n",
    "\n",
    "for row,tmp_input in enumerate(last_input):\n",
    "    for column,value in enumerate(tmp_input):\n",
    "        if value>=80096:\n",
    "            last_input[row][column] = 0"
   ]
  },
  {
   "cell_type": "code",
   "execution_count": 41,
   "metadata": {},
   "outputs": [
    {
     "name": "stdout",
     "output_type": "stream",
     "text": [
      "torch.Size([32, 121])\n",
      "[3 3 0 6 1 3 2 1 1 6 4 1 6 0 1 3 1 5 0 1 2 3 1 3 3 6 5 1 0 4 1 6]\n"
     ]
    }
   ],
   "source": [
    "# 마지막 32개에 맞춰서 마지막 테스트 데이터 예측\n",
    "import numpy as np\n",
    "print(last_input.shape)\n",
    "outputs = model.forward((hidden,cell),last_input)\n",
    "last_pred = torch.max(outputs.cpu(), dim=1)[1].numpy() # 예측값\n",
    "print(last_pred)"
   ]
  },
  {
   "cell_type": "code",
   "execution_count": 42,
   "metadata": {},
   "outputs": [],
   "source": [
    "part_last_pred = last_pred[-19:]\n",
    "final_preds.extend(part_last_pred)"
   ]
  },
  {
   "cell_type": "code",
   "execution_count": 43,
   "metadata": {},
   "outputs": [],
   "source": [
    "import pandas as pd\n",
    "\n",
    "submission_df = pd.read_csv(\"input/dataset/test.csv\")\n",
    "submission_df['label']= final_preds\n",
    "submission_df = submission_df[['ID','label']]"
   ]
  },
  {
   "cell_type": "code",
   "execution_count": 44,
   "metadata": {},
   "outputs": [],
   "source": [
    "submission_df.to_csv('./output/jhkim_2.csv',index=False)"
   ]
  }
 ],
 "metadata": {
  "kernelspec": {
   "display_name": "Python 3.9.13 ('base')",
   "language": "python",
   "name": "python3"
  },
  "language_info": {
   "codemirror_mode": {
    "name": "ipython",
    "version": 3
   },
   "file_extension": ".py",
   "mimetype": "text/x-python",
   "name": "python",
   "nbconvert_exporter": "python",
   "pygments_lexer": "ipython3",
   "version": "3.9.13"
  },
  "orig_nbformat": 4,
  "vscode": {
   "interpreter": {
    "hash": "ad2bdc8ecc057115af97d19610ffacc2b4e99fae6737bb82f5d7fb13d2f2c186"
   }
  }
 },
 "nbformat": 4,
 "nbformat_minor": 2
}
