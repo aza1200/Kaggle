{
 "cells": [
  {
   "cell_type": "code",
   "execution_count": 1,
   "metadata": {},
   "outputs": [],
   "source": [
    "import pandas as pd\n",
    "import numpy as np\n",
    "\n",
    "train_df = pd.read_csv(\"./input/train.csv\")\n",
    "test_df = pd.read_csv(\"./input/test.csv\")\n",
    "\n",
    "column_list = [\"OverallQual\", \"OverallCond\", \"SaleCondition\", \"SaleType\", \"MSSubClass\", \"MSZoning\", \"Neighborhood\", \"HouseStyle\"]\n",
    "train_df = train_df[column_list+[\"SalePrice\"]]\n",
    "test_df = test_df[column_list]\n",
    "combined_df = [train_df, test_df]"
   ]
  },
  {
   "cell_type": "code",
   "execution_count": 2,
   "metadata": {},
   "outputs": [],
   "source": [
    "\n",
    "test_df[\"SaleType\"].fillna(test_df[\"SaleType\"].mode()[0],inplace=True)\n",
    "test_df[\"MSSubClass\"].fillna(test_df[\"MSSubClass\"].mode()[0],inplace=True)\n",
    "test_df[\"MSZoning\"].fillna(test_df[\"MSZoning\"].mode()[0],inplace=True)\n",
    "\n",
    "\n",
    "# test_df.info()\n",
    "# train_df.info()\n",
    "\n",
    "# 존재하지 않는 값 최빈값으로 대체 "
   ]
  },
  {
   "cell_type": "code",
   "execution_count": 3,
   "metadata": {},
   "outputs": [],
   "source": [
    "train_df.head()\n",
    "\n",
    "# SaleCondition, SaleType, MSSubClass, MSZoning, Neighborhood, HouseStyle, \n",
    "\n",
    "column_to_int_list = [\"SaleCondition\", \"SaleType\", \"MSSubClass\", \"MSZoning\", \"Neighborhood\", \"HouseStyle\"]\n",
    "\n",
    "for tmp_col in column_to_int_list:\n",
    "    tmp_list_key = train_df[tmp_col].unique().tolist()\n",
    "    tmp_list_value = [i for i in range(len(tmp_list_key))]\n",
    "    \n",
    "    tmp_dict = dict(zip(tmp_list_key,tmp_list_value))\n",
    "    for df in combined_df:\n",
    "        df[tmp_col] = df[tmp_col].apply(lambda x: tmp_dict[x] if x in tmp_dict else len(tmp_list_key))\n",
    "    \n"
   ]
  },
  {
   "cell_type": "code",
   "execution_count": 4,
   "metadata": {},
   "outputs": [
    {
     "data": {
      "text/plain": [
       "((1460, 8), (1460, 1), (1459, 8))"
      ]
     },
     "execution_count": 4,
     "metadata": {},
     "output_type": "execute_result"
    }
   ],
   "source": [
    "X_train = train_df.drop([\"SalePrice\"], axis=1)\n",
    "Y_train = train_df[[\"SalePrice\"]]\n",
    "\n",
    "X_test = test_df\n",
    "\n",
    "X_train.shape, Y_train.shape, X_test.shape"
   ]
  },
  {
   "cell_type": "code",
   "execution_count": 7,
   "metadata": {},
   "outputs": [
    {
     "name": "stdout",
     "output_type": "stream",
     "text": [
      "1 : -443912171.3004448\n",
      "1001 : nan\n",
      "2001 : nan\n",
      "3001 : nan\n"
     ]
    },
    {
     "name": "stderr",
     "output_type": "stream",
     "text": [
      "C:\\Users\\user\\AppData\\Local\\Temp\\ipykernel_26952\\1726845393.py:26: RuntimeWarning: overflow encountered in matmul\n",
      "  error = Y_train - X_train @ w\n",
      "C:\\Users\\user\\AppData\\Local\\Temp\\ipykernel_26952\\1726845393.py:27: RuntimeWarning: invalid value encountered in matmul\n",
      "  grad = - (X_train.T*0.01)@ error  # grad\n"
     ]
    },
    {
     "name": "stdout",
     "output_type": "stream",
     "text": [
      "4001 : nan\n",
      "5001 : nan\n",
      "6001 : nan\n",
      "7001 : nan\n",
      "8001 : nan\n",
      "9001 : nan\n"
     ]
    }
   ],
   "source": [
    "## gradient descent 로 문제 풀어보기\n",
    "# 최대 반복 횟수\n",
    "num_epoch = 10000\n",
    "\n",
    "# 학습율 (learning_rate)\n",
    "learning_rate = 0.01\n",
    "\n",
    "errors = []\n",
    "\n",
    "# random 한 값으로 w, b를 변수갯수만큼 곱한다.\n",
    "w = np.random.rand(9).reshape(-1,1)\n",
    "\n",
    "X_train = X_train.to_numpy() if str(type(X_train)) == \"<class 'pandas.core.frame.DataFrame'>\" else X_train\n",
    "Y_train = Y_train.to_numpy() if str(type(Y_train)) == \"<class 'pandas.core.frame.DataFrame'>\" else Y_train\n",
    "X_test = X_test.to_numpy() if str(type(X_test)) == \"<class 'pandas.core.frame.DataFrame'>\" else X_test\n",
    "Y_train = Y_train.reshape(-1,1)\n",
    "\n",
    "X_train = np.concatenate((X_train,np.ones((1460,1))),axis=1) if len(X_train[0])==8 else X_train\n",
    "X_test = np.concatenate((X_test,np.ones((1459,1))),axis=1) if len(X_test[0])==8 else X_test \n",
    "\n",
    "\n",
    "\n",
    "for epoch in range(num_epoch):\n",
    "    error = Y_train - X_train @ w  \n",
    "    grad = - (X_train.T*0.01)@ error  # grad\n",
    "    w = w -  grad\n",
    "    if epoch % 1000 == 1:\n",
    "        print(f\"{epoch} : {error.mean()}\")\n"
   ]
  },
  {
   "cell_type": "code",
   "execution_count": null,
   "metadata": {},
   "outputs": [],
   "source": []
  }
 ],
 "metadata": {
  "kernelspec": {
   "display_name": "Python 3.9.13 ('base')",
   "language": "python",
   "name": "python3"
  },
  "language_info": {
   "codemirror_mode": {
    "name": "ipython",
    "version": 3
   },
   "file_extension": ".py",
   "mimetype": "text/x-python",
   "name": "python",
   "nbconvert_exporter": "python",
   "pygments_lexer": "ipython3",
   "version": "3.9.13"
  },
  "orig_nbformat": 4,
  "vscode": {
   "interpreter": {
    "hash": "ad2bdc8ecc057115af97d19610ffacc2b4e99fae6737bb82f5d7fb13d2f2c186"
   }
  }
 },
 "nbformat": 4,
 "nbformat_minor": 2
}
