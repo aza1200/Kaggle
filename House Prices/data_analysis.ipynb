{
 "cells": [
  {
   "cell_type": "code",
   "execution_count": 2,
   "metadata": {},
   "outputs": [],
   "source": [
    "import pandas as pd\n",
    "import numpy as np\n",
    "\n",
    "train_df = pd.read_csv(\"./input/train.csv\")\n",
    "test_df = pd.read_csv(\"./input/test.csv\")"
   ]
  },
  {
   "cell_type": "code",
   "execution_count": 36,
   "metadata": {},
   "outputs": [
    {
     "data": {
      "text/html": [
       "<div>\n",
       "<style scoped>\n",
       "    .dataframe tbody tr th:only-of-type {\n",
       "        vertical-align: middle;\n",
       "    }\n",
       "\n",
       "    .dataframe tbody tr th {\n",
       "        vertical-align: top;\n",
       "    }\n",
       "\n",
       "    .dataframe thead th {\n",
       "        text-align: right;\n",
       "    }\n",
       "</style>\n",
       "<table border=\"1\" class=\"dataframe\">\n",
       "  <thead>\n",
       "    <tr style=\"text-align: right;\">\n",
       "      <th></th>\n",
       "      <th>BldgType</th>\n",
       "      <th>SalePrice</th>\n",
       "    </tr>\n",
       "  </thead>\n",
       "  <tbody>\n",
       "    <tr>\n",
       "      <th>1</th>\n",
       "      <td>2fmCon</td>\n",
       "      <td>128432.258065</td>\n",
       "    </tr>\n",
       "    <tr>\n",
       "      <th>2</th>\n",
       "      <td>Duplex</td>\n",
       "      <td>133541.076923</td>\n",
       "    </tr>\n",
       "    <tr>\n",
       "      <th>3</th>\n",
       "      <td>Twnhs</td>\n",
       "      <td>135911.627907</td>\n",
       "    </tr>\n",
       "    <tr>\n",
       "      <th>4</th>\n",
       "      <td>TwnhsE</td>\n",
       "      <td>181959.342105</td>\n",
       "    </tr>\n",
       "    <tr>\n",
       "      <th>0</th>\n",
       "      <td>1Fam</td>\n",
       "      <td>185763.807377</td>\n",
       "    </tr>\n",
       "  </tbody>\n",
       "</table>\n",
       "</div>"
      ],
      "text/plain": [
       "  BldgType      SalePrice\n",
       "1   2fmCon  128432.258065\n",
       "2   Duplex  133541.076923\n",
       "3    Twnhs  135911.627907\n",
       "4   TwnhsE  181959.342105\n",
       "0     1Fam  185763.807377"
      ]
     },
     "execution_count": 36,
     "metadata": {},
     "output_type": "execute_result"
    }
   ],
   "source": [
    "# train_df.info()\n",
    "# test_df.info()\n",
    "\n",
    " \n",
    "train_df[['OverallQual', 'SalePrice']].groupby(['OverallQual'], as_index=False).mean()\n",
    "# 전체적인 평판이 좋을수록 가격도 높음 .\n",
    "\n",
    "\n",
    "train_df[['OverallCond','SalePrice']].groupby(['OverallCond'],as_index=False).mean()\n",
    "# 전체적인 컨디션이 좋을수록 가격도 높음 .\n",
    "\n",
    "\n",
    "train_df[['SaleCondition','SalePrice']].groupby(['SaleCondition'],as_index=False).mean()\n",
    "# 전체적인 컨디션이 좋을수록 가격도 높음 .\n",
    "\n",
    "train_df[['SaleType','SalePrice']].groupby(['SaleType'],as_index=False).mean()\n",
    "# 전체적인 컨디션이 좋을수록 가격도 높음 .\n",
    "\n",
    "#train_df[['SaleType']].info()\n",
    "\n",
    "\n",
    "train_df[['MSSubClass','SalePrice']].groupby(['MSSubClass'],as_index=False).mean()\n",
    "\n",
    "\n",
    "train_df[['MSZoning','SalePrice']].groupby(['MSZoning'],as_index=False).mean().sort_values(by='SalePrice')\n",
    "\n",
    "\n",
    "train_df[['Neighborhood','SalePrice']].groupby(['Neighborhood'],as_index=False).mean().sort_values(by='SalePrice')\n",
    "\n",
    "\n",
    "\n",
    "train_df[['HouseStyle','SalePrice']].groupby(['HouseStyle'],as_index=False).mean().sort_values(by='SalePrice')\n",
    "\n",
    "\n",
    "\n",
    "\n"
   ]
  },
  {
   "cell_type": "code",
   "execution_count": null,
   "metadata": {},
   "outputs": [],
   "source": []
  }
 ],
 "metadata": {
  "kernelspec": {
   "display_name": "Python 3.9.13 ('base')",
   "language": "python",
   "name": "python3"
  },
  "language_info": {
   "codemirror_mode": {
    "name": "ipython",
    "version": 3
   },
   "file_extension": ".py",
   "mimetype": "text/x-python",
   "name": "python",
   "nbconvert_exporter": "python",
   "pygments_lexer": "ipython3",
   "version": "3.9.13"
  },
  "orig_nbformat": 4,
  "vscode": {
   "interpreter": {
    "hash": "ad2bdc8ecc057115af97d19610ffacc2b4e99fae6737bb82f5d7fb13d2f2c186"
   }
  }
 },
 "nbformat": 4,
 "nbformat_minor": 2
}
