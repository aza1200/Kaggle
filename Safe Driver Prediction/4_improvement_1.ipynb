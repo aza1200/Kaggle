{
 "cells": [
  {
   "cell_type": "code",
   "execution_count": 1,
   "metadata": {},
   "outputs": [],
   "source": [
    "# 성능향상 기법\n",
    "# 1. 파생피처 추가\n",
    "# 2. 베이지안 최적화 "
   ]
  },
  {
   "cell_type": "code",
   "execution_count": 2,
   "metadata": {},
   "outputs": [],
   "source": [
    "# 베이스 라인 모델로 Light BGM 모델을 사용할거임 \n",
    "# 책에서는 파이썬 래퍼 LightGMB 과 사이킷런 LightGBM 중 파이썬 래퍼 LightBGM 사용\n",
    "\n",
    "import os.path\n",
    "from os import path\n",
    "import pandas as pd\n",
    "\n",
    "# 캐글 ↓제출경로\n",
    "data_path = './input/'\n",
    "\n",
    "train = pd.read_csv(data_path + 'train.csv', index_col='id')\n",
    "test  = pd.read_csv(data_path + 'test.csv' , index_col='id')\n",
    "submission = pd.read_csv(data_path + 'sample_submission.csv', index_col='id')\n",
    "\n",
    "all_data = pd.concat([train, test], ignore_index=True)\n",
    "all_data = all_data.drop('target', axis=1) # 타깃값 제거 \n",
    "all_features = all_data.columns\n",
    "\n",
    "# 명목형 피처는 보통 웟-핫 인코딩 적용하는게 정석인듯 하다 \n",
    "# 명목형 피처 추출\n",
    "from sklearn.preprocessing import OneHotEncoder\n",
    "cat_features = [feature for feature in all_features if 'cat' in feature]\n",
    "\n",
    "# 원 핫 인코딩\n",
    "onehot_encoder = OneHotEncoder()\n",
    "encoded_cat_matrix = onehot_encoder.fit_transform(all_data[cat_features])"
   ]
  }
 ],
 "metadata": {
  "kernelspec": {
   "display_name": "Python 3.9.13 ('base')",
   "language": "python",
   "name": "python3"
  },
  "language_info": {
   "codemirror_mode": {
    "name": "ipython",
    "version": 3
   },
   "file_extension": ".py",
   "mimetype": "text/x-python",
   "name": "python",
   "nbconvert_exporter": "python",
   "pygments_lexer": "ipython3",
   "version": "3.9.13"
  },
  "orig_nbformat": 4,
  "vscode": {
   "interpreter": {
    "hash": "ad2bdc8ecc057115af97d19610ffacc2b4e99fae6737bb82f5d7fb13d2f2c186"
   }
  }
 },
 "nbformat": 4,
 "nbformat_minor": 2
}
