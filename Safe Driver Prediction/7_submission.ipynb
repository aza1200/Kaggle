{
 "cells": [
  {
   "cell_type": "code",
   "execution_count": 1,
   "metadata": {},
   "outputs": [
    {
     "name": "stdout",
     "output_type": "stream",
     "text": [
      "Successfully submitted to Porto Seguro’s Safe Driver Prediction\n"
     ]
    },
    {
     "name": "stderr",
     "output_type": "stream",
     "text": [
      "\n",
      "  0%|          | 0.00/24.4M [00:00<?, ?B/s]\n",
      "  0%|          | 8.00k/24.4M [00:00<07:53, 54.0kB/s]\n",
      "  0%|          | 88.0k/24.4M [00:00<01:03, 404kB/s] \n",
      "  1%|          | 136k/24.4M [00:00<01:53, 223kB/s] \n",
      "  4%|▎         | 920k/24.4M [00:00<00:12, 1.90MB/s]\n",
      "  9%|▉         | 2.21M/24.4M [00:00<00:05, 4.16MB/s]\n",
      " 30%|███       | 7.38M/24.4M [00:00<00:01, 15.6MB/s]\n",
      " 39%|███▊      | 9.44M/24.4M [00:01<00:01, 15.2MB/s]\n",
      " 46%|████▌     | 11.3M/24.4M [00:01<00:01, 10.6MB/s]\n",
      " 52%|█████▏    | 12.7M/24.4M [00:01<00:01, 8.91MB/s]\n",
      " 57%|█████▋    | 13.9M/24.4M [00:01<00:01, 8.05MB/s]\n",
      " 61%|██████    | 14.8M/24.4M [00:02<00:02, 4.33MB/s]\n",
      " 74%|███████▍  | 18.1M/24.4M [00:02<00:00, 7.65MB/s]\n",
      " 80%|████████  | 19.6M/24.4M [00:02<00:00, 7.21MB/s]\n",
      " 85%|████████▌ | 20.8M/24.4M [00:03<00:00, 6.89MB/s]\n",
      " 89%|████████▉ | 21.8M/24.4M [00:03<00:00, 6.68MB/s]\n",
      " 93%|█████████▎| 22.7M/24.4M [00:03<00:00, 6.53MB/s]\n",
      " 96%|█████████▋| 23.5M/24.4M [00:03<00:00, 6.38MB/s]\n",
      " 99%|█████████▉| 24.2M/24.4M [00:03<00:00, 6.28MB/s]\n",
      "100%|██████████| 24.4M/24.4M [00:06<00:00, 3.81MB/s]\n"
     ]
    }
   ],
   "source": [
    "# https://www.kaggle.com/docs/api 참고\n",
    "# kaggle competitions submit -c [COMPETITION] -f [FILE] -m [MESSAGE]\n",
    "\n",
    "# api 토큰 발급받은이후 올바른 경로에 생성된 kaggle.json 추가\n",
    "# 참고 url : https://github.com/Kaggle/kaggle-api\n",
    "!kaggle competitions submit -c porto-seguro-safe-driver-prediction -f ./output/submission.csv -m submit_in_local"
   ]
  }
 ],
 "metadata": {
  "kernelspec": {
   "display_name": "Python 3.9.13 ('base')",
   "language": "python",
   "name": "python3"
  },
  "language_info": {
   "codemirror_mode": {
    "name": "ipython",
    "version": 3
   },
   "file_extension": ".py",
   "mimetype": "text/x-python",
   "name": "python",
   "nbconvert_exporter": "python",
   "pygments_lexer": "ipython3",
   "version": "3.9.13"
  },
  "orig_nbformat": 4,
  "vscode": {
   "interpreter": {
    "hash": "ad2bdc8ecc057115af97d19610ffacc2b4e99fae6737bb82f5d7fb13d2f2c186"
   }
  }
 },
 "nbformat": 4,
 "nbformat_minor": 2
}
