{
 "cells": [
  {
   "cell_type": "code",
   "execution_count": 5,
   "metadata": {},
   "outputs": [
    {
     "name": "stdout",
     "output_type": "stream",
     "text": [
      "Downloading porto-seguro-safe-driver-prediction.zip to c:\\Users\\user\\Desktop\\Kaggle\\Safe Driver Prediction\n",
      "\n",
      "\n"
     ]
    }
   ],
   "source": [
    "# 초기 파일세팅 \n",
    "# input / output 파일 생성\n",
    "import os\n",
    "\n",
    "# 폴더 생성 (기존재시 pass)\n",
    "os.makedirs('./input',  exist_ok=True)\n",
    "os.makedirs('./output', exist_ok=True)\n",
    "\n",
    "import subprocess\n",
    "\n",
    "# 0. api 토큰 발급받은이후 올바른 경로에 생성된 kaggle.json 추가\n",
    "# 참고 url : https://github.com/Kaggle/kaggle-api\n",
    "# cmd 명령어 실행으로 다운받기\n",
    "competition_name = \"porto-seguro-safe-driver-prediction\"\n",
    "result = subprocess.check_output(f\"kaggle competitions download -c {competition_name}\", encoding='utf-8')\n",
    "print(result)\n",
    "\n",
    "# 압축 해제 후 input 에 train.csv test.csv  넣기\n",
    "import zipfile\n",
    "zipfile.ZipFile(f'{competition_name}.zip').extractall('./input')"
   ]
  }
 ],
 "metadata": {
  "kernelspec": {
   "display_name": "Python 3.9.13 ('base')",
   "language": "python",
   "name": "python3"
  },
  "language_info": {
   "codemirror_mode": {
    "name": "ipython",
    "version": 3
   },
   "file_extension": ".py",
   "mimetype": "text/x-python",
   "name": "python",
   "nbconvert_exporter": "python",
   "pygments_lexer": "ipython3",
   "version": "3.9.13"
  },
  "orig_nbformat": 4,
  "vscode": {
   "interpreter": {
    "hash": "ad2bdc8ecc057115af97d19610ffacc2b4e99fae6737bb82f5d7fb13d2f2c186"
   }
  }
 },
 "nbformat": 4,
 "nbformat_minor": 2
}
