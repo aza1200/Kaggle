{
 "cells": [
  {
   "cell_type": "code",
   "execution_count": 31,
   "metadata": {},
   "outputs": [],
   "source": [
    "import pandas as pd\n",
    "\n",
    "submission = pd.read_csv('./output/sample_submission.csv',index_col='id')\n",
    "\n",
    "df_lightgbm = pd.read_csv('./output/submission_2.csv')['target']\n",
    "df_xgrboos = pd.read_csv('./output/submission_3.csv')['target']\n",
    "\n",
    "ensemble_target = (df_lightgbm + df_xgrboos)/2\n",
    "target_list = ensemble_target.to_list()\n",
    "submission['target'] = target_list\n",
    "submission.to_csv('./output/submission_final.csv')\n"
   ]
  },
  {
   "cell_type": "code",
   "execution_count": 32,
   "metadata": {},
   "outputs": [
    {
     "name": "stdout",
     "output_type": "stream",
     "text": [
      "Successfully submitted to Porto Seguro’s Safe Driver Prediction\n"
     ]
    },
    {
     "name": "stderr",
     "output_type": "stream",
     "text": [
      "\n",
      "  0%|          | 0.00/23.9M [00:00<?, ?B/s]\n",
      "  0%|          | 8.00k/23.9M [00:00<09:55, 42.0kB/s]\n",
      "  1%|          | 184k/23.9M [00:00<00:34, 727kB/s]  \n",
      "  4%|▍         | 920k/23.9M [00:00<00:07, 3.16MB/s]\n",
      "  5%|▌         | 1.27M/23.9M [00:00<00:18, 1.31MB/s]\n",
      " 15%|█▌        | 3.60M/23.9M [00:01<00:04, 4.91MB/s]\n",
      " 27%|██▋       | 6.48M/23.9M [00:01<00:01, 9.48MB/s]\n",
      " 34%|███▍      | 8.10M/23.9M [00:01<00:01, 9.86MB/s]\n",
      " 40%|███▉      | 9.53M/23.9M [00:01<00:01, 10.3MB/s]\n",
      " 45%|████▌     | 10.9M/23.9M [00:01<00:01, 9.84MB/s]\n",
      " 50%|█████     | 12.0M/23.9M [00:01<00:01, 9.43MB/s]\n",
      " 55%|█████▍    | 13.1M/23.9M [00:01<00:01, 9.33MB/s]\n",
      " 60%|██████    | 14.4M/23.9M [00:02<00:00, 10.2MB/s]\n",
      " 65%|██████▍   | 15.4M/23.9M [00:02<00:00, 9.95MB/s]\n",
      " 69%|██████▉   | 16.5M/23.9M [00:02<00:00, 10.1MB/s]\n",
      " 73%|███████▎  | 17.5M/23.9M [00:02<00:00, 8.82MB/s]\n",
      " 78%|███████▊  | 18.6M/23.9M [00:02<00:00, 9.39MB/s]\n",
      " 82%|████████▏ | 19.5M/23.9M [00:02<00:00, 9.24MB/s]\n",
      " 86%|████████▌ | 20.6M/23.9M [00:02<00:00, 9.60MB/s]\n",
      " 91%|█████████ | 21.6M/23.9M [00:02<00:00, 9.81MB/s]\n",
      " 95%|█████████▍| 22.6M/23.9M [00:02<00:00, 9.84MB/s]\n",
      " 99%|█████████▊| 23.6M/23.9M [00:03<00:00, 9.57MB/s]\n",
      "100%|██████████| 23.9M/23.9M [00:05<00:00, 4.31MB/s]\n"
     ]
    }
   ],
   "source": [
    "!kaggle competitions submit -c porto-seguro-safe-driver-prediction -f ./output/submission_final.csv -m submit_in_local"
   ]
  },
  {
   "cell_type": "code",
   "execution_count": null,
   "metadata": {},
   "outputs": [],
   "source": []
  }
 ],
 "metadata": {
  "kernelspec": {
   "display_name": "Python 3.9.13 ('base')",
   "language": "python",
   "name": "python3"
  },
  "language_info": {
   "codemirror_mode": {
    "name": "ipython",
    "version": 3
   },
   "file_extension": ".py",
   "mimetype": "text/x-python",
   "name": "python",
   "nbconvert_exporter": "python",
   "pygments_lexer": "ipython3",
   "version": "3.9.13"
  },
  "orig_nbformat": 4,
  "vscode": {
   "interpreter": {
    "hash": "ad2bdc8ecc057115af97d19610ffacc2b4e99fae6737bb82f5d7fb13d2f2c186"
   }
  }
 },
 "nbformat": 4,
 "nbformat_minor": 2
}
