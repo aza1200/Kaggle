{
 "cells": [
  {
   "cell_type": "code",
   "execution_count": 3,
   "metadata": {},
   "outputs": [],
   "source": [
    "# 하이퍼 파라미터 범위 (딕셔너리 형태)\n",
    "params_bounds = {\n",
    "    'x' : (-1, 5),\n",
    "    'y' : ( 0, 4)\n",
    "}"
   ]
  },
  {
   "cell_type": "code",
   "execution_count": 4,
   "metadata": {},
   "outputs": [],
   "source": [
    "# 평가 지표 계산 함수 생성 \n",
    "def eval_function(x, y):\n",
    "    return -x **2 -  (y-2)**2 + 10"
   ]
  },
  {
   "cell_type": "code",
   "execution_count": 9,
   "metadata": {},
   "outputs": [],
   "source": [
    "from bayes_opt import BayesianOptimization\n",
    "\n",
    "# 베이지안 최적화 객체 생성\n",
    "optimizer = BayesianOptimization(f=eval_function,\n",
    "                                 pbounds=params_bounds,\n",
    "                                 random_state=0)"
   ]
  },
  {
   "cell_type": "code",
   "execution_count": 11,
   "metadata": {},
   "outputs": [
    {
     "name": "stdout",
     "output_type": "stream",
     "text": [
      "|   iter    |  target   |     x     |     y     |\n",
      "-------------------------------------------------\n",
      "| \u001b[0m13       \u001b[0m | \u001b[0m7.282    \u001b[0m | \u001b[0m1.542    \u001b[0m | \u001b[0m2.584    \u001b[0m |\n",
      "| \u001b[0m14       \u001b[0m | \u001b[0m4.902    \u001b[0m | \u001b[0m1.626    \u001b[0m | \u001b[0m3.567    \u001b[0m |\n",
      "| \u001b[95m15       \u001b[0m | \u001b[95m9.973    \u001b[0m | \u001b[95m-0.1279  \u001b[0m | \u001b[95m1.897    \u001b[0m |\n",
      "| \u001b[0m16       \u001b[0m | \u001b[0m9.755    \u001b[0m | \u001b[0m0.4931   \u001b[0m | \u001b[0m1.954    \u001b[0m |\n",
      "| \u001b[0m17       \u001b[0m | \u001b[0m9.8      \u001b[0m | \u001b[0m-0.3398  \u001b[0m | \u001b[0m2.29     \u001b[0m |\n",
      "| \u001b[95m18       \u001b[0m | \u001b[95m9.989    \u001b[0m | \u001b[95m0.06146  \u001b[0m | \u001b[95m2.084    \u001b[0m |\n",
      "| \u001b[0m19       \u001b[0m | \u001b[0m9.963    \u001b[0m | \u001b[0m0.09946  \u001b[0m | \u001b[0m1.835    \u001b[0m |\n",
      "| \u001b[95m20       \u001b[0m | \u001b[95m9.995    \u001b[0m | \u001b[95m-0.06046 \u001b[0m | \u001b[95m2.039    \u001b[0m |\n",
      "| \u001b[95m21       \u001b[0m | \u001b[95m9.999    \u001b[0m | \u001b[95m0.009578 \u001b[0m | \u001b[95m1.978    \u001b[0m |\n",
      "| \u001b[95m22       \u001b[0m | \u001b[95m10.0     \u001b[0m | \u001b[95m0.001818 \u001b[0m | \u001b[95m1.987    \u001b[0m |\n",
      "| \u001b[95m23       \u001b[0m | \u001b[95m10.0     \u001b[0m | \u001b[95m-0.001531\u001b[0m | \u001b[95m1.991    \u001b[0m |\n",
      "| \u001b[95m24       \u001b[0m | \u001b[95m10.0     \u001b[0m | \u001b[95m-0.004813\u001b[0m | \u001b[95m1.995    \u001b[0m |\n",
      "| \u001b[0m25       \u001b[0m | \u001b[0m9.998    \u001b[0m | \u001b[0m-0.02572 \u001b[0m | \u001b[0m2.03     \u001b[0m |\n",
      "| \u001b[0m26       \u001b[0m | \u001b[0m9.999    \u001b[0m | \u001b[0m0.02187  \u001b[0m | \u001b[0m1.99     \u001b[0m |\n",
      "| \u001b[0m27       \u001b[0m | \u001b[0m10.0     \u001b[0m | \u001b[0m-0.005281\u001b[0m | \u001b[0m1.986    \u001b[0m |\n",
      "| \u001b[0m28       \u001b[0m | \u001b[0m9.999    \u001b[0m | \u001b[0m0.0259   \u001b[0m | \u001b[0m1.995    \u001b[0m |\n",
      "| \u001b[0m29       \u001b[0m | \u001b[0m9.999    \u001b[0m | \u001b[0m-0.02206 \u001b[0m | \u001b[0m2.022    \u001b[0m |\n",
      "| \u001b[0m30       \u001b[0m | \u001b[0m10.0     \u001b[0m | \u001b[0m-0.01091 \u001b[0m | \u001b[0m1.981    \u001b[0m |\n",
      "| \u001b[0m31       \u001b[0m | \u001b[0m9.999    \u001b[0m | \u001b[0m0.03103  \u001b[0m | \u001b[0m1.998    \u001b[0m |\n",
      "| \u001b[0m32       \u001b[0m | \u001b[0m10.0     \u001b[0m | \u001b[0m-0.01594 \u001b[0m | \u001b[0m1.986    \u001b[0m |\n",
      "| \u001b[0m33       \u001b[0m | \u001b[0m9.999    \u001b[0m | \u001b[0m-0.01423 \u001b[0m | \u001b[0m2.033    \u001b[0m |\n",
      "| \u001b[0m34       \u001b[0m | \u001b[0m9.999    \u001b[0m | \u001b[0m-0.01108 \u001b[0m | \u001b[0m1.98     \u001b[0m |\n",
      "=================================================\n"
     ]
    }
   ],
   "source": [
    "# 베이지안 최적화 수행 \n",
    "\n",
    "# maximize 로 수행가능\n",
    "# init_points : 랜덤 탐색을 수행할 스텝 횟수\n",
    "# n_iter : 베이지안 최적화를 수행할 스텝 횟수 \n",
    "\n",
    "optimizer.maximize(init_points=2, n_iter=20)"
   ]
  },
  {
   "cell_type": "code",
   "execution_count": 12,
   "metadata": {},
   "outputs": [
    {
     "data": {
      "text/plain": [
       "{'target': 9.99995462068658,\n",
       " 'params': {'x': -0.0048128051648221, 'y': 1.995286591481219}}"
      ]
     },
     "execution_count": 12,
     "metadata": {},
     "output_type": "execute_result"
    }
   ],
   "source": [
    "optimizer.max"
   ]
  },
  {
   "cell_type": "code",
   "execution_count": null,
   "metadata": {},
   "outputs": [],
   "source": [
    "# 베이지안 최적화 의 수학적인 확률적으로 찾아가는 원리가 궁금하다........."
   ]
  }
 ],
 "metadata": {
  "kernelspec": {
   "display_name": "Python 3.9.13 ('base')",
   "language": "python",
   "name": "python3"
  },
  "language_info": {
   "codemirror_mode": {
    "name": "ipython",
    "version": 3
   },
   "file_extension": ".py",
   "mimetype": "text/x-python",
   "name": "python",
   "nbconvert_exporter": "python",
   "pygments_lexer": "ipython3",
   "version": "3.9.13"
  },
  "orig_nbformat": 4,
  "vscode": {
   "interpreter": {
    "hash": "ad2bdc8ecc057115af97d19610ffacc2b4e99fae6737bb82f5d7fb13d2f2c186"
   }
  }
 },
 "nbformat": 4,
 "nbformat_minor": 2
}
