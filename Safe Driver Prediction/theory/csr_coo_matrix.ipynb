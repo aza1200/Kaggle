{
 "cells": [
  {
   "cell_type": "code",
   "execution_count": 15,
   "metadata": {},
   "outputs": [
    {
     "name": "stdout",
     "output_type": "stream",
     "text": [
      "      Name  Age Country  Gender\n",
      "0    Alice   25     USA  Female\n",
      "1      Bob   30  Canada    Male\n",
      "2  Charlie   35      UK    Male\n",
      "3    David   40     USA    Male\n"
     ]
    }
   ],
   "source": [
    "from scipy import sparse\n",
    "import pandas as pd\n",
    "import numpy as np\n",
    "\n",
    "data1 = {'Name': ['Alice', 'Bob', 'Charlie', 'David'],\n",
    "         'Age': [25, 30, 35, 40]}\n",
    "\n",
    "data2 = {'Country': ['USA', 'Canada', 'UK', 'USA'],\n",
    "         'Gender': ['Female', 'Male', 'Male', 'Male']}\n",
    "         \n",
    "df1 = pd.DataFrame(data1)\n",
    "df2 = pd.DataFrame(data2)\n",
    "\n",
    "# 데이터프레임을 2차원 배열로 변환\n",
    "df_combined = pd.concat([df1, df2], axis=1)\n",
    "print(df_combined)\n"
   ]
  },
  {
   "cell_type": "code",
   "execution_count": 16,
   "metadata": {},
   "outputs": [
    {
     "data": {
      "text/plain": [
       "array([[1., 0., 0., 0., 1., 0., 0., 0., 0., 0., 1., 1., 0.],\n",
       "       [0., 1., 0., 0., 0., 1., 0., 0., 1., 0., 0., 0., 1.],\n",
       "       [0., 0., 1., 0., 0., 0., 1., 0., 0., 1., 0., 0., 1.],\n",
       "       [0., 0., 0., 1., 0., 0., 0., 1., 0., 0., 1., 0., 1.]])"
      ]
     },
     "execution_count": 16,
     "metadata": {},
     "output_type": "execute_result"
    }
   ],
   "source": [
    "from sklearn.preprocessing import OneHotEncoder\n",
    "encoder = OneHotEncoder()\n",
    "combined_encoded = encoder.fit_transform(df_combined)\n",
    "\n",
    "\n",
    "combined_encoded.toarray()"
   ]
  },
  {
   "cell_type": "code",
   "execution_count": 26,
   "metadata": {},
   "outputs": [
    {
     "name": "stdout",
     "output_type": "stream",
     "text": [
      "data : [1. 1. 1. 1. 1. 1. 1. 1. 1. 1. 1. 1. 1. 1. 1. 1.]\n",
      "row : [ 0  4 10 11  1  5  8 12  2  6  9 12  3  7 10 12]\n",
      "col : [ 4  8 12 16]\n"
     ]
    }
   ],
   "source": [
    "# CSR (Compressed Spare Row) 행단위로 압축된 행렬로 보기 \n",
    "\n",
    "spare_matrix = sparse.csr_matrix(combined_encoded.toarray())\n",
    "\n",
    "data = spare_matrix.data\n",
    "row = spare_matrix.indices\n",
    "col = spare_matrix.indptr[1:]\n",
    "\n",
    "print(f\"data : {data}\")\n",
    "print(f\"row : {row}\")\n",
    "print(f\"col : {col}\")\n",
    "\n",
    "# CSR (Compressed Spare Row) 는 \n",
    "# 행단위로 압축된 행렬 나타냄\n",
    "\n",
    "# 비어있지 않은 원소들을 열단위로 압축해서 저장\n",
    "# data, indices, indptr 로 표현\n",
    "\n",
    "# data : 배열의 원소들에 해당하는 열의 인덱스 저장\n",
    "# indices : data 배열의  원소들이 해당하는 열의 인덱스 저장\n",
    "# indptr : 행렬의 각 행이 시작하는 위치를 나타내는 포인터 ㅍ배열 "
   ]
  },
  {
   "cell_type": "code",
   "execution_count": 25,
   "metadata": {},
   "outputs": [
    {
     "name": "stdout",
     "output_type": "stream",
     "text": [
      "  (0, 0)\t1.0\n",
      "  (0, 4)\t1.0\n",
      "  (0, 10)\t1.0\n",
      "  (0, 11)\t1.0\n",
      "  (1, 1)\t1.0\n",
      "  (1, 5)\t1.0\n",
      "  (1, 8)\t1.0\n",
      "  (1, 12)\t1.0\n",
      "  (2, 2)\t1.0\n",
      "  (2, 6)\t1.0\n",
      "  (2, 9)\t1.0\n",
      "  (2, 12)\t1.0\n",
      "  (3, 3)\t1.0\n",
      "  (3, 7)\t1.0\n",
      "  (3, 10)\t1.0\n",
      "  (3, 12)\t1.0\n"
     ]
    }
   ],
   "source": [
    "spare_matrix = sparse.coo_matrix(combined_encoded.toarray())\n",
    "spare_matrix\n",
    "print(\"{}\".format(spare_matrix))\n",
    "\n",
    "# COO (Coordinate)\n",
    "# (data, (row, col))의 튜플로 \n",
    "# 이루어진 3개의 배열을 사용하여 행렬저장\n",
    "\n",
    "# data 배열은 비어있지 않은 원소들을 저장\n",
    "# row, col 은 'data' 배열의 원소들이 해당하는 행과 열의 \n",
    "# 인덱스 저장"
   ]
  }
 ],
 "metadata": {
  "kernelspec": {
   "display_name": "Python 3.9.13 ('base')",
   "language": "python",
   "name": "python3"
  },
  "language_info": {
   "codemirror_mode": {
    "name": "ipython",
    "version": 3
   },
   "file_extension": ".py",
   "mimetype": "text/x-python",
   "name": "python",
   "nbconvert_exporter": "python",
   "pygments_lexer": "ipython3",
   "version": "3.9.13"
  },
  "orig_nbformat": 4,
  "vscode": {
   "interpreter": {
    "hash": "ad2bdc8ecc057115af97d19610ffacc2b4e99fae6737bb82f5d7fb13d2f2c186"
   }
  }
 },
 "nbformat": 4,
 "nbformat_minor": 2
}
