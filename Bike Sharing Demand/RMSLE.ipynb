{
 "cells": [
  {
   "cell_type": "code",
   "execution_count": 7,
   "metadata": {},
   "outputs": [
    {
     "name": "stdout",
     "output_type": "stream",
     "text": [
      "RMSLE : 0.0646679237996832\n",
      "Add Outlier RMSLE : 0.9949158238939428\n"
     ]
    }
   ],
   "source": [
    "import numpy as np\n",
    "from sklearn.metrics import mean_squared_error, mean_squared_log_error \n",
    "\n",
    "y_true, y_pred = [60, 80, 90],[67, 78, 91]\n",
    "RMSLE = np.sqrt(mean_squared_log_error(y_true, y_pred))\n",
    "print(\"RMSLE :\", RMSLE)\n",
    "\n",
    "y_true, y_pred = [60, 80, 90, 750],[67, 78, 91, 102]\n",
    "RMSLE = np.sqrt(mean_squared_log_error(y_true, y_pred))\n",
    "print(\"Add Outlier RMSLE :\", RMSLE)\n"
   ]
  },
  {
   "cell_type": "code",
   "execution_count": 5,
   "metadata": {},
   "outputs": [
    {
     "name": "stdout",
     "output_type": "stream",
     "text": [
      "RMSLE in [90,100] : 0.10426101032440993\n",
      "RMSLE in [9000,10000] : 0.1053604045468326\n"
     ]
    }
   ],
   "source": [
    "y_true, y_pred = [90],[100]\n",
    "\n",
    "RMSLE = np.sqrt(mean_squared_log_error(y_true, y_pred))\n",
    "print(\"RMSLE in [90,100] :\", RMSLE)\n",
    "\n",
    "y_true, y_pred = [900000], [1000000]\n",
    "RMSLE = np.sqrt(mean_squared_log_error(y_true, y_pred))\n",
    "print(\"RMSLE in [9000,10000] :\", RMSLE)"
   ]
  },
  {
   "cell_type": "code",
   "execution_count": 8,
   "metadata": {},
   "outputs": [
    {
     "name": "stdout",
     "output_type": "stream",
     "text": [
      "RMSLE in [1000, 600] : 0.5101598447800129\n",
      "RMSLE in [1000, 1400] : 0.3361867670217862\n"
     ]
    }
   ],
   "source": [
    "y_true, y_pred = [1000],[600]\n",
    "\n",
    "RMSLE = np.sqrt(mean_squared_log_error(y_true, y_pred))\n",
    "print(\"RMSLE in [1000, 600] :\", RMSLE)\n",
    "\n",
    "y_true, y_pred = [1000], [1400]\n",
    "RMSLE = np.sqrt(mean_squared_log_error(y_true, y_pred))\n",
    "print(\"RMSLE in [1000, 1400] :\", RMSLE)\n",
    "# 배달음식 시킬때 빠른건 ㄱㅊ지만 늦으면 큰일나는 것과 같은 이치"
   ]
  }
 ],
 "metadata": {
  "kernelspec": {
   "display_name": "Python 3.9.13 ('base')",
   "language": "python",
   "name": "python3"
  },
  "language_info": {
   "codemirror_mode": {
    "name": "ipython",
    "version": 3
   },
   "file_extension": ".py",
   "mimetype": "text/x-python",
   "name": "python",
   "nbconvert_exporter": "python",
   "pygments_lexer": "ipython3",
   "version": "3.9.13"
  },
  "orig_nbformat": 4,
  "vscode": {
   "interpreter": {
    "hash": "ad2bdc8ecc057115af97d19610ffacc2b4e99fae6737bb82f5d7fb13d2f2c186"
   }
  }
 },
 "nbformat": 4,
 "nbformat_minor": 2
}
