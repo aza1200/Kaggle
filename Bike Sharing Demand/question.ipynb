{
 "cells": [
  {
   "cell_type": "code",
   "execution_count": 1,
   "metadata": {},
   "outputs": [],
   "source": [
    "# 회귀모델이 좋은 성능을 낼려면 정규분포를 따라야 하는 이유?\n",
    "\n",
    "# 1. 오차항이 정규분포를 따른다는 가정하에 이루어짐\n",
    "# 2. 중심 극한 정리(Central Limit Theorem)에 의해, 샘플의 크기가 충분하다면, 평균값의 분포가 정규 분포에 근사하게 됩니다. \n",
    "# 3. 자연계에서 많이 따르는 현상임\n"
   ]
  },
  {
   "cell_type": "code",
   "execution_count": 2,
   "metadata": {},
   "outputs": [],
   "source": [
    "# page 202 에서\n",
    "\n",
    "# Mist, Few Clouds \n",
    "# Light Snow, Rain, Thunder\n",
    "# Heavy Snow, Rain, Thunder\n",
    "\n",
    "# 길이 10이상일시 자를려 했으나 \n",
    "# int 32 to str error 나옴 \n"
   ]
  },
  {
   "cell_type": "code",
   "execution_count": 1,
   "metadata": {},
   "outputs": [],
   "source": [
    "# page 204 info 에서 marker 위치랑 크기조절 "
   ]
  },
  {
   "cell_type": "code",
   "execution_count": null,
   "metadata": {},
   "outputs": [],
   "source": [
    "# 공분산 고찰 \n",
    "# 1. https://wikidocs.net/24603\n",
    "# 2. https://umbum.dev/1006\n",
    "# 3. 추천시스템 \n"
   ]
  }
 ],
 "metadata": {
  "kernelspec": {
   "display_name": "Python 3.9.13 ('base')",
   "language": "python",
   "name": "python3"
  },
  "language_info": {
   "codemirror_mode": {
    "name": "ipython",
    "version": 3
   },
   "file_extension": ".py",
   "mimetype": "text/x-python",
   "name": "python",
   "nbconvert_exporter": "python",
   "pygments_lexer": "ipython3",
   "version": "3.9.13"
  },
  "orig_nbformat": 4,
  "vscode": {
   "interpreter": {
    "hash": "ad2bdc8ecc057115af97d19610ffacc2b4e99fae6737bb82f5d7fb13d2f2c186"
   }
  }
 },
 "nbformat": 4,
 "nbformat_minor": 2
}
