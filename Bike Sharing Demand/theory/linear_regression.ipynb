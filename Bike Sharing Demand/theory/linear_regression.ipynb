{
 "cells": [
  {
   "cell_type": "code",
   "execution_count": 10,
   "metadata": {},
   "outputs": [
    {
     "name": "stdout",
     "output_type": "stream",
     "text": [
      "input directory path : ../input/\n",
      "train shape : (10886, 12)\n",
      "test_shape : (6493, 9)\n"
     ]
    }
   ],
   "source": [
    "import os.path\n",
    "from os import path\n",
    "import pandas as pd\n",
    "\n",
    "\n",
    "# 캐글 ↓제출경로\n",
    "data_path = '/kaggle/input/bike-sharing-demand/'\n",
    "if not path.exists(data_path):\n",
    "    data_path = '../input/'\n",
    "print(f'input directory path : {data_path}')\n",
    "\n",
    "train = pd.read_csv(data_path + 'train.csv')\n",
    "test = pd.read_csv(data_path + 'test.csv')\n",
    "submission = pd.read_csv(data_path + 'sampleSubmission.csv')\n",
    "\n",
    "print(f'train shape : {train.shape}')\n",
    "print(f'test_shape : {test.shape}')\n",
    "\n",
    "# 날씨 weather ==> 4 인것 제거,\n",
    "train = train[train['weather'] != 4]\n",
    "\n",
    "# train 과 test 데이터 합치기 (index 역시 합쳐야 한다.)\n",
    "\n",
    "all_data = pd.concat([train, test], ignore_index=True)\n",
    "all_data\n",
    "\n",
    "from datetime import datetime\n",
    "\n",
    "# 날짜 피처 생성\n",
    "all_data['date'] = all_data['datetime'].apply(lambda x : x.split()[0])\n",
    "\n",
    "# 연도 피처\n",
    "all_data['year'] = all_data['datetime'].apply(lambda x: x.split()[0].split('-')[0])\n",
    "\n",
    "# 월피처\n",
    "all_data['month'] = all_data['datetime'].apply(lambda x: x.split()[0].split('-')[1])\n",
    "\n",
    "# 시 피처 생성\n",
    "all_data['hour'] = all_data['datetime'].apply(lambda x: x.split()[1].split(':')[0])\n",
    "\n",
    "# 요일 피처 생성\n",
    "all_data['weekday'] = all_data['date'].apply(lambda dateString : datetime.strptime(dateString, \"%Y-%m-%d\").weekday())\n",
    "\n",
    "# 훈련데이터 매달 1일~19일, 테스트 데이터 매달 20일~ 이므로 day 사용필요 x \n",
    "# minute, second 역시 사용필요 x (상식적)\n",
    "all_data.head()\n",
    "\n",
    "\n",
    "# all_data['datetime'] = pd.to_datetime(all_data['datetime'])\n",
    "# all_data['year'] = all_data['datetime'].dt.year , dt.month, dt.hour, dt.weekday 로 변경가능\n",
    "\n",
    "\n",
    "# 필요 없는 피처 제거\n",
    "\n",
    "# 1. casual 과 registered 피처는 테스트 데이터 에 없는 피처이므로 제거\n",
    "# 2. datetime 피처는  date(year,month,day) 피처가 가지고 있기에 필요 x\n",
    "# 3. season 피처가 month 대분류이기에 month 제거\n",
    "# 4. windspeed 상관관계 약하기에 제거 한다 \n",
    "\n",
    "drop_features = ['casual', 'registered', 'datetime', 'date', 'month', 'windspeed']\n",
    "all_data = all_data.drop(drop_features, axis=1)\n",
    "\n",
    "all_data\n",
    "\n",
    "# 훈련 데이터와 테스트 데이터 나누기\n",
    "X_train = all_data[~pd.isnull(all_data['count'])]\n",
    "X_test = all_data[pd.isnull(all_data['count'])]\n",
    "\n",
    "# 타깃값 count 제거\n",
    "X_train = X_train.drop(['count'], axis=1)\n",
    "X_test = X_test.drop(['count'], axis=1)\n",
    "\n",
    "y = train['count'] # 타깃값 \n",
    "\n",
    "X_train.head()\n",
    "\n",
    "# 테스트 데이터 왜있는지....\n",
    "# 평가 지표 계싼 함수 작성\n",
    "\n",
    "import numpy as np\n",
    "\n",
    "def rmsle(y_true, y_pred, convertExp=True):\n",
    "    # 지수변환\n",
    "    if convertExp:\n",
    "        y_true = np.exp(y_true)\n",
    "        y_pred = np.exp(y_pred)\n",
    "        \n",
    "    log_true = np.nan_to_num(np.log(y_true+1))\n",
    "    log_pred = np.nan_to_num(np.log(y_pred+1))\n",
    "    \n",
    "    # RMSLE 계산\n",
    "    output = np.sqrt(np.mean((log_true -log_pred)**2))\n",
    "    return output\n",
    "\n",
    "# sklearn.metrics.mean_squared_log_error 이용시 대체가능"
   ]
  },
  {
   "cell_type": "code",
   "execution_count": 11,
   "metadata": {},
   "outputs": [
    {
     "name": "stdout",
     "output_type": "stream",
     "text": [
      "sklearn 선형 회귀의 RMSLE 값 : 1.0205\n"
     ]
    }
   ],
   "source": [
    "from sklearn.linear_model import LinearRegression\n",
    "\n",
    "linear_reg_model = LinearRegression()\n",
    "\n",
    "log_y = np.log(y) \n",
    "linear_reg_model.fit(X_train, log_y)\n",
    "# closed form solution \n",
    "\n",
    "preds = linear_reg_model.predict(X_train)\n",
    "\n",
    "print(f'sklearn 선형 회귀의 RMSLE 값 : {rmsle(log_y, preds, True):.4f}')\n"
   ]
  },
  {
   "cell_type": "code",
   "execution_count": 32,
   "metadata": {},
   "outputs": [
    {
     "name": "stdout",
     "output_type": "stream",
     "text": [
      "(10, 1)\n",
      "(10885, 10)\n"
     ]
    }
   ],
   "source": [
    "np_log_y = log_y.to_numpy().reshape(len(log_y),1)\n",
    "np_x_train = X_train.to_numpy().astype(float)\n",
    "\n",
    "w = np.linalg.inv(np_x_train.T @ np_x_train) @ np_x_train.T @ np_log_y\n",
    "# w = np.linalg.inv(X_train.T @ X_train) @ X_train.T @ log_y\n",
    "\n",
    "first_pred = \n",
    "\n",
    "print(w.shape)\n",
    "print(np_x_train.shape)"
   ]
  },
  {
   "cell_type": "code",
   "execution_count": null,
   "metadata": {},
   "outputs": [],
   "source": []
  },
  {
   "cell_type": "markdown",
   "metadata": {},
   "source": []
  }
 ],
 "metadata": {
  "kernelspec": {
   "display_name": "Python 3.9.13 ('base')",
   "language": "python",
   "name": "python3"
  },
  "language_info": {
   "codemirror_mode": {
    "name": "ipython",
    "version": 3
   },
   "file_extension": ".py",
   "mimetype": "text/x-python",
   "name": "python",
   "nbconvert_exporter": "python",
   "pygments_lexer": "ipython3",
   "version": "3.9.13"
  },
  "orig_nbformat": 4,
  "vscode": {
   "interpreter": {
    "hash": "ad2bdc8ecc057115af97d19610ffacc2b4e99fae6737bb82f5d7fb13d2f2c186"
   }
  }
 },
 "nbformat": 4,
 "nbformat_minor": 2
}
