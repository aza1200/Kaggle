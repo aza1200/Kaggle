{
 "cells": [
  {
   "cell_type": "code",
   "execution_count": 1,
   "metadata": {},
   "outputs": [
    {
     "name": "stdout",
     "output_type": "stream",
     "text": [
      "훈련 데이터 경로 : ./input/COVID_19_XRAY/train/\n",
      "테스트 데이터 경로 : ./input/COVID_19_XRAY/test/\n",
      "훈련 데이터 개수 : 2000\n",
      "테스트 데이터 개수 : 400\n"
     ]
    }
   ],
   "source": [
    "import os.path\n",
    "from os import path\n",
    "import pandas as pd\n",
    "\n",
    "# 캐글 ↓제출경로\n",
    "data_path = '/kaggle/input/kdt-ai-1/'\n",
    "if not path.exists(data_path):\n",
    "    data_path = './input/COVID_19_XRAY/'\n",
    "\n",
    "train_path = data_path + 'train/'\n",
    "test_path = data_path + 'test/'\n",
    "valid_path = data_path + 'valid/'\n",
    "\n",
    "from glob import glob\n",
    "\n",
    "print(f'훈련 데이터 경로 : {train_path}')\n",
    "print(f'테스트 데이터 경로 : {test_path}')\n",
    "print(f'훈련 데이터 개수 : {len(glob(train_path + \"*.png\"))}')\n",
    "print(f'테스트 데이터 개수 : {len(glob(test_path + \"*.png\"))}')"
   ]
  },
  {
   "cell_type": "code",
   "execution_count": 2,
   "metadata": {},
   "outputs": [
    {
     "name": "stdout",
     "output_type": "stream",
     "text": [
      "normal images 일부 :\n",
      " ['./input/COVID_19_XRAY/train/image_1997.png', './input/COVID_19_XRAY/train/image_1999.png', './input/COVID_19_XRAY/train/image_2000.png']\n",
      "\n",
      "all covid images 일부 :\n",
      " ['./input/COVID_19_XRAY/train/image_1994.png', './input/COVID_19_XRAY/train/image_1996.png', './input/COVID_19_XRAY/train/image_1998.png']\n"
     ]
    }
   ],
   "source": [
    "# 라벨 읽은 후에 각각의 라벨 에 해당하는 폴더로 옮기기\n",
    "# noraml 폴더 -> normal 사진만 옮기기\n",
    "# covid 폴더 -> covid 폴더만 옮기기\n",
    "df_path = train_path + 'labels.csv'\n",
    "df = pd.read_csv(df_path)\n",
    "\n",
    "all_normal_imgs = df[df['label'] == 'normal']['filename'].tolist()\n",
    "all_normal_imgs = [train_path + filename for filename in all_normal_imgs]\n",
    "\n",
    "all_covid_imgs = df[df['label'] == 'covid']['filename'].tolist()\n",
    "all_covid_imgs = [train_path + filename for filename in all_covid_imgs]\n",
    "\n",
    "print(f\"normal images 일부 :\\n {all_normal_imgs[-3:]}\\n\")\n",
    "print(f\"all covid images 일부 :\\n {all_covid_imgs[-3:]}\")"
   ]
  },
  {
   "cell_type": "code",
   "execution_count": 3,
   "metadata": {},
   "outputs": [],
   "source": [
    "# 폴더 구조 일부 선처리\n",
    "# input 폴더 내부\n",
    "#   --valid \n",
    "#   --train \n",
    "#   --test \n",
    "#   물론 둘다 똑같음 \n",
    "import os\n",
    "import shutil\n",
    "\n",
    "path_list = [train_path, valid_path]\n",
    "\n",
    "for tmp_path in path_list:\n",
    "    os.makedirs(f'{tmp_path}normal',exist_ok=True)\n",
    "    os.makedirs(f'{tmp_path}covid' ,exist_ok=True)\n",
    "\n",
    "    for covid_img in all_covid_imgs:\n",
    "        if path.exists(covid_img):\n",
    "            shutil.copy(covid_img, tmp_path+\"covid/\"+covid_img.split(\"/\")[-1])\n",
    "\n",
    "    for normal_img in all_normal_imgs:\n",
    "        if path.exists(normal_img):\n",
    "            shutil.copy(normal_img, tmp_path+\"normal/\"+normal_img.split(\"/\")[-1])\n",
    "                       "
   ]
  },
  {
   "cell_type": "code",
   "execution_count": 5,
   "metadata": {},
   "outputs": [],
   "source": [
    "\n",
    "# train_path 내부 png, csv 삭제\n",
    "\n",
    "for file in os.listdir(train_path):\n",
    "    if file.endswith(\".png\"):\n",
    "        os.remove(os.path.join(train_path, file))\n",
    "    elif file.endswith(\".csv\"):\n",
    "        shutil.move(os.path.join(train_path, file), \"labels.csv\")\n",
    "# valid // train 동일 covid// normal 로 분류되었다. "
   ]
  }
 ],
 "metadata": {
  "kernelspec": {
   "display_name": "Python 3.9.13 ('base')",
   "language": "python",
   "name": "python3"
  },
  "language_info": {
   "codemirror_mode": {
    "name": "ipython",
    "version": 3
   },
   "file_extension": ".py",
   "mimetype": "text/x-python",
   "name": "python",
   "nbconvert_exporter": "python",
   "pygments_lexer": "ipython3",
   "version": "3.9.13"
  },
  "orig_nbformat": 4,
  "vscode": {
   "interpreter": {
    "hash": "ad2bdc8ecc057115af97d19610ffacc2b4e99fae6737bb82f5d7fb13d2f2c186"
   }
  }
 },
 "nbformat": 4,
 "nbformat_minor": 2
}
