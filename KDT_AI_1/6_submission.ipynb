{
 "cells": [
  {
   "cell_type": "code",
   "execution_count": 1,
   "metadata": {},
   "outputs": [
    {
     "name": "stdout",
     "output_type": "stream",
     "text": [
      "Successfully submitted to KDT_AI-프로젝트공모전스터디-1과제\n"
     ]
    }
   ],
   "source": [
    "# https://www.kaggle.com/docs/api 참고\n",
    "# kaggle competitions submit -c [COMPETITION] -f [FILE] -m [MESSAGE]\n",
    "\n",
    "import os\n",
    "import subprocess\n",
    "\n",
    "# 0. api 토큰 발급받은이후 올바른 경로에 생성된 kaggle.json 추가\n",
    "# 참고 url : https://github.com/Kaggle/kaggle-api\n",
    "# cmd 명령어 실행으로 다운받기\n",
    "result = subprocess.check_output(\n",
    "    \"kaggle competitions submit -c kdtai-1 -f ./output/submission_b1.csv -m submit_in_local\", \n",
    "    encoding='utf-8'\n",
    "    )\n",
    "print(result)"
   ]
  },
  {
   "cell_type": "code",
   "execution_count": null,
   "metadata": {},
   "outputs": [],
   "source": []
  }
 ],
 "metadata": {
  "kernelspec": {
   "display_name": "Python 3.9.13 ('base')",
   "language": "python",
   "name": "python3"
  },
  "language_info": {
   "codemirror_mode": {
    "name": "ipython",
    "version": 3
   },
   "file_extension": ".py",
   "mimetype": "text/x-python",
   "name": "python",
   "nbconvert_exporter": "python",
   "pygments_lexer": "ipython3",
   "version": "3.9.13"
  },
  "orig_nbformat": 4,
  "vscode": {
   "interpreter": {
    "hash": "ad2bdc8ecc057115af97d19610ffacc2b4e99fae6737bb82f5d7fb13d2f2c186"
   }
  }
 },
 "nbformat": 4,
 "nbformat_minor": 2
}
