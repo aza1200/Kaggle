{
 "cells": [
  {
   "cell_type": "code",
   "execution_count": 4,
   "metadata": {},
   "outputs": [
    {
     "name": "stdout",
     "output_type": "stream",
     "text": [
      "훈련 데이터 경로 : ./input/COVID_19_XRAY/train/\n",
      "테스트 데이터 경로 : ./input/COVID_19_XRAY/test/\n",
      "훈련 데이터 개수 : 2000\n",
      "테스트 데이터 개수 : 400\n"
     ]
    }
   ],
   "source": [
    "import os.path\n",
    "from os import path\n",
    "import pandas as pd\n",
    "\n",
    "# 캐글 ↓제출경로\n",
    "data_path = '/kaggle/input/kdt-ai-1/'\n",
    "if not path.exists(data_path):\n",
    "    data_path = './input/COVID_19_XRAY/'\n",
    "\n",
    "train_path = data_path + 'train/'\n",
    "test_path = data_path + 'test/'\n",
    "valid_path = data_path + 'valid/'\n",
    "\n",
    "from glob import glob\n",
    "\n",
    "print(f'훈련 데이터 경로 : {train_path}')\n",
    "print(f'테스트 데이터 경로 : {test_path}')\n",
    "print(f'훈련 데이터 개수 : {len(glob(train_path + \"*/*\"))}')\n",
    "print(f'테스트 데이터 개수 : {len(glob(test_path + \"*.png\"))}')"
   ]
  },
  {
   "cell_type": "code",
   "execution_count": 5,
   "metadata": {},
   "outputs": [],
   "source": [
    "# 시드값 및 고정 GPU 장비 설정 \n",
    "\n",
    "import torch\n",
    "import random\n",
    "import numpy as np\n",
    "import os\n",
    "\n",
    "# 시드값 고정\n",
    "seed = 50\n",
    "os.environ['PYTHONHASHSEED'] = str(seed)\n",
    "random.seed(seed)\n",
    "\n",
    "np.random.seed(seed)\n",
    "torch.manual_seed(seed)\n",
    "torch.cuda.manual_seed(seed)\n",
    "torch.cuda.manual_seed_all(seed)\n",
    "torch.backends.cudnn.deterministic = True\n",
    "torch.backends.cudnn.benchmark = False\n",
    "torch.backends.cudnn.enabled = False\n",
    "\n",
    "device = torch.device('cuda' if torch.cuda.is_available() else 'cpu')"
   ]
  },
  {
   "cell_type": "code",
   "execution_count": 6,
   "metadata": {},
   "outputs": [],
   "source": [
    "# 데이터 증강을 위한 이미지 변환기 정의\n",
    "from torchvision import transforms \n",
    "\n",
    "# 훈련 데이터용 변환기\n",
    "tranform_train = transforms.Compose([\n",
    "    transforms.Resize((250,250)), # 이미지 크기 조정\n",
    "    transforms.CenterCrop(180), # 중앙 이미지 확대\n",
    "    transforms.RandomHorizontalFlip(0.5), # 좌우 대칭\n",
    "    transforms.RandomRotation(20),\n",
    "    transforms.ToTensor(),\n",
    "    transforms.Normalize((0.485, 0.465, 0.406),\n",
    "                         (0.229, 0.224, 0.225)) # 정규화\n",
    "    \n",
    "])\n",
    "\n",
    "tranform_test = transforms.Compose([\n",
    "    transforms.Resize((250,250)), # 이미지 크기 조정\n",
    "    transforms.CenterCrop(180), # 중앙 이미지 확대\n",
    "    transforms.ToTensor(),\n",
    "    transforms.Normalize((0.485, 0.465, 0.406),\n",
    "                         (0.229, 0.224, 0.225)) # 정규화\n",
    "    \n",
    "])"
   ]
  },
  {
   "cell_type": "code",
   "execution_count": 7,
   "metadata": {},
   "outputs": [],
   "source": [
    "from torchvision.datasets import ImageFolder\n",
    "\n",
    "# 훈련 데이터\n",
    "# Image Folder 를 사용하기 위해서 타깃값을 같은 디렉토리 안에서 사용했다.   \n",
    "datasets_train = ImageFolder(root=train_path, transform=tranform_train)"
   ]
  },
  {
   "cell_type": "code",
   "execution_count": 8,
   "metadata": {},
   "outputs": [
    {
     "data": {
      "text/plain": [
       "<torch._C.Generator at 0x1dbb6b13bb0>"
      ]
     },
     "execution_count": 8,
     "metadata": {},
     "output_type": "execute_result"
    }
   ],
   "source": [
    "# 데이터 로더의 시드값 고정 \n",
    "def seed_worker(worker_id):\n",
    "    worker_seed = torch.initial_seed() %2 **32\n",
    "    np.random.seed(worker_seed)\n",
    "    random.seed(worker_seed)\n",
    "    \n",
    "# 제네레이더 시드값 고정\n",
    "g = torch.Generator()\n",
    "g.manual_seed(0)"
   ]
  },
  {
   "cell_type": "code",
   "execution_count": 9,
   "metadata": {},
   "outputs": [],
   "source": [
    "# 데이터 로더 만들기\n",
    "\n",
    "from torch.utils.data import DataLoader\n",
    "\n",
    "batch_size = 8\n",
    "\n",
    "loader_train = DataLoader(dataset=datasets_train, batch_size=batch_size,\n",
    "                          shuffle=True, worker_init_fn=seed_worker,\n",
    "                          generator=g, num_workers=0)\n",
    "                                    # 성능 안좋아서 num_workes=0으로 함 원래는 2임 \n",
    "# 배치크기는 굳이 8이 아니어도 됨"
   ]
  },
  {
   "cell_type": "code",
   "execution_count": 10,
   "metadata": {},
   "outputs": [
    {
     "name": "stdout",
     "output_type": "stream",
     "text": [
      "Requirement already satisfied: efficientnet-pytorch==0.7.1 in c:\\programdata\\anaconda3\\lib\\site-packages (0.7.1)\n",
      "Requirement already satisfied: torch in c:\\programdata\\anaconda3\\lib\\site-packages (from efficientnet-pytorch==0.7.1) (1.12.1+cu116)\n",
      "Requirement already satisfied: typing-extensions in c:\\programdata\\anaconda3\\lib\\site-packages (from torch->efficientnet-pytorch==0.7.1) (4.3.0)\n"
     ]
    },
    {
     "name": "stderr",
     "output_type": "stream",
     "text": [
      "WARNING: Ignoring invalid distribution -orch (c:\\programdata\\anaconda3\\lib\\site-packages)\n",
      "WARNING: Ignoring invalid distribution -orch (c:\\programdata\\anaconda3\\lib\\site-packages)\n",
      "WARNING: Ignoring invalid distribution -orch (c:\\programdata\\anaconda3\\lib\\site-packages)\n",
      "WARNING: Ignoring invalid distribution -orch (c:\\programdata\\anaconda3\\lib\\site-packages)\n",
      "WARNING: Ignoring invalid distribution -orch (c:\\programdata\\anaconda3\\lib\\site-packages)\n",
      "WARNING: Ignoring invalid distribution -orch (c:\\programdata\\anaconda3\\lib\\site-packages)\n"
     ]
    }
   ],
   "source": [
    "# EfficicentNet 을 사용하겠음\n",
    "!pip install efficientnet-pytorch==0.7.1"
   ]
  },
  {
   "cell_type": "code",
   "execution_count": 11,
   "metadata": {},
   "outputs": [
    {
     "name": "stdout",
     "output_type": "stream",
     "text": [
      "Loaded pretrained weights for efficientnet-b0\n"
     ]
    }
   ],
   "source": [
    "from efficientnet_pytorch import EfficientNet\n",
    "# https://arxiv.org/abs/1905.11946 : 논문링크\n",
    "# 모델 생성\n",
    "model = EfficientNet.from_pretrained('efficientnet-b0', num_classes=2)\n",
    "# 베이스라인의 가장 간단한 efficientnet-b0 이진분류이므로 num_classes=2\n",
    "\n",
    "# 장비 할당\n",
    "model = model.to(device)"
   ]
  },
  {
   "cell_type": "code",
   "execution_count": 12,
   "metadata": {},
   "outputs": [
    {
     "name": "stdout",
     "output_type": "stream",
     "text": [
      "모델 파라미터 개수 :  4010110\n"
     ]
    }
   ],
   "source": [
    "print('모델 파라미터 개수 : ', sum(param.numel() for param in model.parameters()))"
   ]
  },
  {
   "cell_type": "code",
   "execution_count": 13,
   "metadata": {},
   "outputs": [],
   "source": [
    "# 모델 훈련 및 성능 검증 \n",
    "\n",
    "import torch.nn as nn\n",
    "\n",
    "criterion = nn.CrossEntropyLoss()\n",
    "optimizer = torch.optim.Adam(model.parameters(), lr=0.01)"
   ]
  },
  {
   "cell_type": "code",
   "execution_count": 14,
   "metadata": {},
   "outputs": [],
   "source": [
    "# 훈련함수 작성 \n",
    "from sklearn.metrics import accuracy_score\n",
    "from sklearn.metrics import recall_score\n",
    "from sklearn.metrics import f1_score\n",
    "from tqdm.notebook import tqdm\n",
    "\n",
    "def train(model, loader_train, loader_valid ,criterion, optimizer, scheduler=None, epochs=10, \n",
    "          save_file='model_state_dict.pth'):\n",
    "    valid_loss_min = np.inf\n",
    "    # 총 epoch 만큼 반복\n",
    "    for epoch in range(epochs):\n",
    "        print(f'에폭 [{epoch+1}/{epochs}] \\n---------------------')\n",
    "        # == [훈련] =========\n",
    "        model.train() # 모델을 훈련 상태로 설정\n",
    "        epoch_train_loss = 0 # 에폭별 손실값 초기화(훈련데이터 용)\n",
    "        \n",
    "        # 미니배치 단위로 훈련\n",
    "        for images , labels in tqdm(loader_train):\n",
    "            images = images.to(device)\n",
    "            labels = labels.to(device)\n",
    "            \n",
    "            optimizer.zero_grad()\n",
    "            outputs = model(images)\n",
    "            \n",
    "            loss = criterion(outputs, labels)\n",
    "            epoch_train_loss += loss.item()\n",
    "            \n",
    "            loss.backward()\n",
    "            optimizer.step() \n",
    "            \n",
    "            if scheduler != None: # 스케줄러 학습률 갱신\n",
    "                scheduler.step()\n",
    "                \n",
    "        print(f'\\t 훈련 데이터 손실값 : {epoch_train_loss/len(loader_train):.4f}')\n",
    "        \n",
    "        # == [ 검증 ] ======================================================\n",
    "        \n",
    "        model.eval()\n",
    "        epoch_valid_loss = 0\n",
    "        preds_list = []\n",
    "        true_list = []\n",
    "        \n",
    "        with torch.no_grad():\n",
    "            # 하나의 에폭만큼의 데이터를 미니배치 단위로 검증\n",
    "            \n",
    "            for images, labels in loader_valid:\n",
    "                images = images.to(device)\n",
    "                labels = labels.to(device)\n",
    "                \n",
    "                outputs = model(images)\n",
    "                loss = criterion(outputs, labels)\n",
    "                epoch_valid_loss += loss.item()\n",
    "                \n",
    "                # 예측값 및 실젯값\n",
    "                preds = torch.max(outputs.cpu(), dim=1)[1].numpy()\n",
    "                true = labels.cpu().numpy()\n",
    "                \n",
    "                preds_list.extend(preds)\n",
    "                true_list.extend(true)\n",
    "\n",
    "        # 현재 에폭의 검증 완료\n",
    "        \n",
    "        print(f'\\t 검증 데이터 손실값 : {epoch_valid_loss/len(loader_valid):.4f}')\n",
    "        \n",
    "        # 평가 지표 계산(정확도, 재현율 , F1 점수)\n",
    "        val_accuracy = accuracy_score(true_list, preds_list)\n",
    "        val_recall = recall_score(true_list, preds_list)\n",
    "        val_f1_score = f1_score(true_list, preds_list)\n",
    "        print(f'\\t 정확도 : {val_accuracy: .4f} / 재현율 : {val_recall:.4f} / F1 점수 : {val_f1_score:.4f}')\n",
    "        \n",
    "        \n",
    "        # \n",
    "            # 기울기 초기화\n",
    "            # 순전파\n",
    "            # 손실값 계산(훈련 데이터용)\n",
    "            # 역전파\n",
    "            # 가중치 갱신\n",
    "            # 학습률 갱신\n",
    "        \n",
    "        if epoch_valid_loss <= valid_loss_min:\n",
    "            print(f'\\t### 검증 데이터 손실값 감소 ({valid_loss_min:.4f} --> {epoch_valid_loss:.4f}). 모델저장')\n",
    "            torch.save(model.state_dict(), save_file)\n",
    "            valid_loss_min = epoch_valid_loss\n",
    "        # == [최적 모델 가중치 찾기] ==\n",
    "        # 현 에폭에서의 검증 데이터 손실값이 지금까지 가장 작다면\n",
    "            # 현 에폭의 모델 가중치 (현재까지의 최적 모델 가중치 ) 저장\n",
    "    return torch.load(save_file)\n",
    "\n",
    "# 조기종료\n",
    "# 평가점수가 더 이상 좋아지지 않으면 훈련을 멈춪도록 "
   ]
  },
  {
   "cell_type": "code",
   "execution_count": 15,
   "metadata": {},
   "outputs": [],
   "source": [
    "datasets_valid = ImageFolder(root=\"./input/COVID_19_XRAY/valid/\", transform=tranform_test)\n",
    "\n",
    "loader_valid = DataLoader(dataset=datasets_valid, batch_size=batch_size,\n",
    "                          shuffle=False, worker_init_fn=seed_worker, generator=g, num_workers=0)\n"
   ]
  },
  {
   "cell_type": "code",
   "execution_count": 16,
   "metadata": {},
   "outputs": [
    {
     "name": "stdout",
     "output_type": "stream",
     "text": [
      "에폭 [1/10] \n",
      "---------------------\n"
     ]
    },
    {
     "data": {
      "application/vnd.jupyter.widget-view+json": {
       "model_id": "2e8e98b5d2404338975fe8cc1d320299",
       "version_major": 2,
       "version_minor": 0
      },
      "text/plain": [
       "  0%|          | 0/250 [00:00<?, ?it/s]"
      ]
     },
     "metadata": {},
     "output_type": "display_data"
    },
    {
     "name": "stdout",
     "output_type": "stream",
     "text": [
      "\t 훈련 데이터 손실값 : 0.8866\n",
      "\t 검증 데이터 손실값 : 1.8049\n",
      "\t 정확도 :  0.5080 / 재현율 : 0.9710 / F1 점수 : 0.6637\n",
      "\t### 검증 데이터 손실값 감소 (inf --> 451.2184). 모델저장\n",
      "에폭 [2/10] \n",
      "---------------------\n"
     ]
    },
    {
     "data": {
      "application/vnd.jupyter.widget-view+json": {
       "model_id": "b73bdbf3f16f463d83987223d4bc9ec0",
       "version_major": 2,
       "version_minor": 0
      },
      "text/plain": [
       "  0%|          | 0/250 [00:00<?, ?it/s]"
      ]
     },
     "metadata": {},
     "output_type": "display_data"
    },
    {
     "name": "stdout",
     "output_type": "stream",
     "text": [
      "\t 훈련 데이터 손실값 : 0.6895\n",
      "\t 검증 데이터 손실값 : 2.4285\n",
      "\t 정확도 :  0.5155 / 재현율 : 0.9960 / F1 점수 : 0.6727\n",
      "에폭 [3/10] \n",
      "---------------------\n"
     ]
    },
    {
     "data": {
      "application/vnd.jupyter.widget-view+json": {
       "model_id": "5396ebe538c94f0d921efbc45cb608fd",
       "version_major": 2,
       "version_minor": 0
      },
      "text/plain": [
       "  0%|          | 0/250 [00:00<?, ?it/s]"
      ]
     },
     "metadata": {},
     "output_type": "display_data"
    },
    {
     "name": "stdout",
     "output_type": "stream",
     "text": [
      "\t 훈련 데이터 손실값 : 0.6816\n",
      "\t 검증 데이터 손실값 : 0.7021\n",
      "\t 정확도 :  0.5015 / 재현율 : 0.9960 / F1 점수 : 0.6664\n",
      "\t### 검증 데이터 손실값 감소 (451.2184 --> 175.5182). 모델저장\n",
      "에폭 [4/10] \n",
      "---------------------\n"
     ]
    },
    {
     "data": {
      "application/vnd.jupyter.widget-view+json": {
       "model_id": "ba2d640e457048299899da774e95ffe9",
       "version_major": 2,
       "version_minor": 0
      },
      "text/plain": [
       "  0%|          | 0/250 [00:00<?, ?it/s]"
      ]
     },
     "metadata": {},
     "output_type": "display_data"
    },
    {
     "name": "stdout",
     "output_type": "stream",
     "text": [
      "\t 훈련 데이터 손실값 : 0.6538\n",
      "\t 검증 데이터 손실값 : 0.7931\n",
      "\t 정확도 :  0.5110 / 재현율 : 0.9950 / F1 점수 : 0.6705\n",
      "에폭 [5/10] \n",
      "---------------------\n"
     ]
    },
    {
     "data": {
      "application/vnd.jupyter.widget-view+json": {
       "model_id": "4c29568f6fb34541acfde372d6af6dc8",
       "version_major": 2,
       "version_minor": 0
      },
      "text/plain": [
       "  0%|          | 0/250 [00:00<?, ?it/s]"
      ]
     },
     "metadata": {},
     "output_type": "display_data"
    },
    {
     "name": "stdout",
     "output_type": "stream",
     "text": [
      "\t 훈련 데이터 손실값 : 0.6378\n",
      "\t 검증 데이터 손실값 : 3.7918\n",
      "\t 정확도 :  0.5265 / 재현율 : 0.9120 / F1 점수 : 0.6582\n",
      "에폭 [6/10] \n",
      "---------------------\n"
     ]
    },
    {
     "data": {
      "application/vnd.jupyter.widget-view+json": {
       "model_id": "0330222b2da44145bc53e39e47a96985",
       "version_major": 2,
       "version_minor": 0
      },
      "text/plain": [
       "  0%|          | 0/250 [00:00<?, ?it/s]"
      ]
     },
     "metadata": {},
     "output_type": "display_data"
    },
    {
     "name": "stdout",
     "output_type": "stream",
     "text": [
      "\t 훈련 데이터 손실값 : 0.5882\n",
      "\t 검증 데이터 손실값 : 1.1945\n",
      "\t 정확도 :  0.6485 / 재현율 : 0.9200 / F1 점수 : 0.7236\n",
      "에폭 [7/10] \n",
      "---------------------\n"
     ]
    },
    {
     "data": {
      "application/vnd.jupyter.widget-view+json": {
       "model_id": "9345dffc5c91421ca034a9e312c81a41",
       "version_major": 2,
       "version_minor": 0
      },
      "text/plain": [
       "  0%|          | 0/250 [00:00<?, ?it/s]"
      ]
     },
     "metadata": {},
     "output_type": "display_data"
    },
    {
     "name": "stdout",
     "output_type": "stream",
     "text": [
      "\t 훈련 데이터 손실값 : 0.5862\n",
      "\t 검증 데이터 손실값 : 0.4813\n",
      "\t 정확도 :  0.7800 / 재현율 : 0.7200 / F1 점수 : 0.7660\n",
      "\t### 검증 데이터 손실값 감소 (175.5182 --> 120.3370). 모델저장\n",
      "에폭 [8/10] \n",
      "---------------------\n"
     ]
    },
    {
     "data": {
      "application/vnd.jupyter.widget-view+json": {
       "model_id": "fac44030076d4495a73c0aeb6ba0834d",
       "version_major": 2,
       "version_minor": 0
      },
      "text/plain": [
       "  0%|          | 0/250 [00:00<?, ?it/s]"
      ]
     },
     "metadata": {},
     "output_type": "display_data"
    },
    {
     "name": "stdout",
     "output_type": "stream",
     "text": [
      "\t 훈련 데이터 손실값 : 0.5653\n",
      "\t 검증 데이터 손실값 : 0.7533\n",
      "\t 정확도 :  0.6595 / 재현율 : 0.7900 / F1 점수 : 0.6988\n",
      "에폭 [9/10] \n",
      "---------------------\n"
     ]
    },
    {
     "data": {
      "application/vnd.jupyter.widget-view+json": {
       "model_id": "fe621b65d8f84d4a8b02f8db85271671",
       "version_major": 2,
       "version_minor": 0
      },
      "text/plain": [
       "  0%|          | 0/250 [00:00<?, ?it/s]"
      ]
     },
     "metadata": {},
     "output_type": "display_data"
    },
    {
     "name": "stdout",
     "output_type": "stream",
     "text": [
      "\t 훈련 데이터 손실값 : 0.5281\n",
      "\t 검증 데이터 손실값 : 0.9071\n",
      "\t 정확도 :  0.6555 / 재현율 : 0.9630 / F1 점수 : 0.7365\n",
      "에폭 [10/10] \n",
      "---------------------\n"
     ]
    },
    {
     "data": {
      "application/vnd.jupyter.widget-view+json": {
       "model_id": "c71f775dc8784fc5bff4e624bdd1e4d1",
       "version_major": 2,
       "version_minor": 0
      },
      "text/plain": [
       "  0%|          | 0/250 [00:00<?, ?it/s]"
      ]
     },
     "metadata": {},
     "output_type": "display_data"
    },
    {
     "name": "stdout",
     "output_type": "stream",
     "text": [
      "\t 훈련 데이터 손실값 : 0.5199\n",
      "\t 검증 데이터 손실값 : 1.0931\n",
      "\t 정확도 :  0.6150 / 재현율 : 0.9500 / F1 점수 : 0.7116\n"
     ]
    }
   ],
   "source": [
    "model_state_dict = train(\n",
    "    model=model,\n",
    "    loader_train=loader_train,\n",
    "    loader_valid=loader_valid,\n",
    "    criterion=criterion,\n",
    "    optimizer=optimizer\n",
    ")"
   ]
  },
  {
   "cell_type": "code",
   "execution_count": 23,
   "metadata": {},
   "outputs": [
    {
     "data": {
      "text/plain": [
       "<All keys matched successfully>"
      ]
     },
     "execution_count": 23,
     "metadata": {},
     "output_type": "execute_result"
    }
   ],
   "source": [
    "model.load_state_dict(model_state_dict)"
   ]
  },
  {
   "cell_type": "code",
   "execution_count": 51,
   "metadata": {},
   "outputs": [],
   "source": [
    "# Test Fake \n",
    "import shutil\n",
    "\n",
    "os.makedirs(f'{test_path}normal',exist_ok=True)\n",
    "os.makedirs(f'{test_path}covid' ,exist_ok=True)\n",
    "\n",
    "for tmp_img in os.listdir(test_path):\n",
    "    if tmp_img.endswith(\".png\"):\n",
    "        shutil.copy(test_path+tmp_img, test_path+\"normal/\"+tmp_img)\n",
    "        shutil.copy(test_path+tmp_img, test_path+\"covid/\"+tmp_img)\n",
    "\n",
    "for file in os.listdir(test_path):\n",
    "    if file.endswith(\".png\"):\n",
    "        os.remove(os.path.join(test_path, file))"
   ]
  },
  {
   "cell_type": "code",
   "execution_count": 35,
   "metadata": {},
   "outputs": [],
   "source": [
    "# 임의로 test 안에 \n",
    "# normal->400개\n",
    "# covid ->400개 함\n",
    "# 라벨 붙임 ㅠㅠㅠ \n",
    "\n",
    "datasets_test = ImageFolder(root=test_path, transform=tranform_test)\n",
    "loader_test = DataLoader(dataset=datasets_test, batch_size=batch_size,\n",
    "                         shuffle=False, worker_init_fn=seed_worker,\n",
    "                         generator=g, num_workers=0)"
   ]
  },
  {
   "cell_type": "code",
   "execution_count": 52,
   "metadata": {},
   "outputs": [],
   "source": [
    "def predict(model, loader_test, return_true=False):\n",
    "    model.eval() # 모델을 평가 상태로 설정\n",
    "    preds_list = [] # 예측값 저장용 리스트 초기화\n",
    "    true_list = [] # 실제 저장용 리스트 초기화\n",
    "    \n",
    "    with torch.no_grad():\n",
    "        for images, labels in loader_test:\n",
    "            images = images.to(device)\n",
    "            labels = labels.to(device)\n",
    "            \n",
    "            outputs = model(images)\n",
    "            \n",
    "            preds = torch.max(outputs.cpu(), dim=1)[1].numpy() # 예측값\n",
    "            true = labels.cpu().numpy() # 실제값\n",
    "            \n",
    "            preds_list.extend(preds)\n",
    "            true_list.extend(true)\n",
    "            \n",
    "    if return_true:\n",
    "        return true_list , preds_list\n",
    "    else:\n",
    "        return preds_list"
   ]
  },
  {
   "cell_type": "code",
   "execution_count": 53,
   "metadata": {},
   "outputs": [],
   "source": [
    "true_list, preds_list = predict(model=model,\n",
    "                                loader_test=loader_test,\n",
    "                                return_true=True)"
   ]
  },
  {
   "cell_type": "code",
   "execution_count": 54,
   "metadata": {},
   "outputs": [
    {
     "name": "stdout",
     "output_type": "stream",
     "text": [
      "[0, 0, 0, 0, 0, 0, 0, 0, 0, 0, 0, 0, 0, 0, 0, 0, 0, 0, 0, 0, 0, 0, 0, 0, 0, 0, 0, 0, 0, 0, 0, 0, 0, 0, 0, 0, 0, 0, 0, 0, 0, 0, 0, 0, 0, 0, 0, 0, 0, 0, 0, 0, 0, 0, 0, 0, 0, 0, 0, 0, 0, 0, 0, 0, 0, 0, 0, 0, 0, 0, 0, 0, 0, 0, 0, 0, 0, 0, 0, 0, 0, 0, 0, 0, 0, 0, 0, 0, 0, 0, 0, 0, 0, 0, 0, 0, 0, 0, 0, 0, 0, 0, 0, 0, 0, 0, 0, 0, 0, 0, 0, 0, 0, 0, 0, 0, 0, 0, 0, 0, 0, 0, 0, 0, 0, 0, 0, 0, 0, 0, 0, 0, 0, 0, 0, 0, 0, 0, 0, 0, 0, 0, 0, 0, 0, 0, 0, 0, 0, 0, 0, 0, 0, 0, 0, 0, 0, 0, 0, 0, 0, 0, 0, 0, 0, 0, 0, 0, 0, 0, 0, 0, 0, 0, 0, 0, 0, 0, 0, 0, 0, 0, 0, 0, 0, 0, 0, 0, 0, 0, 0, 0, 0, 0, 0, 0, 0, 0, 0, 0, 0, 0, 0, 0, 0, 0, 0, 0, 0, 0, 0, 0, 0, 0, 0, 0, 0, 0, 0, 0, 0, 0, 0, 0, 0, 0, 0, 0, 0, 0, 0, 0, 0, 0, 0, 0, 0, 0, 0, 0, 0, 0, 0, 0, 0, 0, 0, 0, 0, 0, 0, 0, 0, 0, 0, 0, 0, 0, 0, 0, 0, 0, 0, 0, 0, 0, 0, 0, 0, 0, 0, 0, 0, 0, 0, 0, 0, 0, 0, 0, 0, 0, 0, 0, 0, 0, 0, 0, 0, 0, 0, 0, 0, 0, 0, 0, 0, 0, 0, 0, 0, 0, 0, 0, 0, 0, 0, 0, 0, 0, 0, 0, 0, 0, 0, 0, 0, 0, 0, 0, 0, 0, 0, 0, 0, 0, 0, 0, 0, 0, 0, 0, 0, 0, 0, 0, 0, 0, 0, 0, 0, 0, 0, 0, 0, 0, 0, 0, 0, 0, 0, 0, 0, 0, 0, 0, 0, 0, 0, 0, 0, 0, 0, 0, 0, 0, 0, 0, 0, 0, 0, 0, 0, 0, 0, 0, 0, 0, 0, 0, 0, 0, 0, 0, 0, 0, 0, 0, 0, 0, 0, 0, 0, 0, 0, 0, 0, 0, 0, 0, 1, 1, 1, 1, 1, 1, 1, 1, 1, 1, 1, 1, 1, 1, 1, 1, 1, 1, 1, 1, 1, 1, 1, 1, 1, 1, 1, 1, 1, 1, 1, 1, 1, 1, 1, 1, 1, 1, 1, 1, 1, 1, 1, 1, 1, 1, 1, 1, 1, 1, 1, 1, 1, 1, 1, 1, 1, 1, 1, 1, 1, 1, 1, 1, 1, 1, 1, 1, 1, 1, 1, 1, 1, 1, 1, 1, 1, 1, 1, 1, 1, 1, 1, 1, 1, 1, 1, 1, 1, 1, 1, 1, 1, 1, 1, 1, 1, 1, 1, 1, 1, 1, 1, 1, 1, 1, 1, 1, 1, 1, 1, 1, 1, 1, 1, 1, 1, 1, 1, 1, 1, 1, 1, 1, 1, 1, 1, 1, 1, 1, 1, 1, 1, 1, 1, 1, 1, 1, 1, 1, 1, 1, 1, 1, 1, 1, 1, 1, 1, 1, 1, 1, 1, 1, 1, 1, 1, 1, 1, 1, 1, 1, 1, 1, 1, 1, 1, 1, 1, 1, 1, 1, 1, 1, 1, 1, 1, 1, 1, 1, 1, 1, 1, 1, 1, 1, 1, 1, 1, 1, 1, 1, 1, 1, 1, 1, 1, 1, 1, 1, 1, 1, 1, 1, 1, 1, 1, 1, 1, 1, 1, 1, 1, 1, 1, 1, 1, 1, 1, 1, 1, 1, 1, 1, 1, 1, 1, 1, 1, 1, 1, 1, 1, 1, 1, 1, 1, 1, 1, 1, 1, 1, 1, 1, 1, 1, 1, 1, 1, 1, 1, 1, 1, 1, 1, 1, 1, 1, 1, 1, 1, 1, 1, 1, 1, 1, 1, 1, 1, 1, 1, 1, 1, 1, 1, 1, 1, 1, 1, 1, 1, 1, 1, 1, 1, 1, 1, 1, 1, 1, 1, 1, 1, 1, 1, 1, 1, 1, 1, 1, 1, 1, 1, 1, 1, 1, 1, 1, 1, 1, 1, 1, 1, 1, 1, 1, 1, 1, 1, 1, 1, 1, 1, 1, 1, 1, 1, 1, 1, 1, 1, 1, 1, 1, 1, 1, 1, 1, 1, 1, 1, 1, 1, 1, 1, 1, 1, 1, 1, 1, 1, 1, 1, 1, 1, 1, 1, 1, 1, 1, 1, 1, 1, 1, 1, 1, 1, 1, 1, 1, 1, 1, 1, 1, 1, 1, 1, 1, 1, 1, 1, 1, 1, 1, 1, 1, 1, 1, 1, 1, 1, 1, 1, 1, 1, 1, 1, 1, 1, 1]\n"
     ]
    }
   ],
   "source": [
    "print(true_list)"
   ]
  },
  {
   "cell_type": "code",
   "execution_count": 55,
   "metadata": {},
   "outputs": [
    {
     "name": "stdout",
     "output_type": "stream",
     "text": [
      "[0, 0, 1, 0, 1, 1, 0, 0, 1, 0, 1, 1, 0, 0, 0, 0, 1, 1, 0, 0, 1, 1, 1, 0, 0, 0, 1, 1, 1, 1, 0, 0, 1, 1, 1, 0, 0, 0, 0, 1, 0, 1, 0, 1, 0, 1, 0, 0, 1, 0, 1, 1, 1, 0, 0, 0, 0, 0, 0, 0, 1, 1, 1, 1, 0, 1, 0, 0, 0, 1, 1, 1, 1, 0, 0, 0, 1, 1, 0, 1, 1, 1, 0, 0, 1, 0, 0, 1, 0, 0, 0, 1, 0, 0, 0, 0, 0, 0, 0, 1, 1, 0, 1, 0, 0, 0, 0, 0, 1, 1, 0, 0, 1, 0, 0, 0, 1, 0, 0, 1, 1, 1, 1, 1, 0, 0, 1, 1, 0, 0, 1, 0, 0, 0, 1, 0, 1, 1, 1, 0, 1, 1, 0, 0, 0, 1, 1, 1, 1, 1, 1, 0, 0, 1, 0, 0, 1, 1, 0, 1, 1, 1, 0, 1, 1, 1, 0, 0, 0, 1, 0, 0, 0, 1, 0, 1, 1, 1, 1, 0, 1, 0, 1, 0, 0, 1, 1, 1, 0, 0, 1, 1, 1, 1, 0, 1, 0, 0, 0, 0, 1, 0, 1, 0, 1, 0, 0, 0, 0, 0, 0, 1, 1, 0, 0, 0, 0, 0, 0, 0, 1, 1, 0, 0, 1, 0, 0, 0, 0, 0, 1, 0, 0, 0, 1, 0, 1, 1, 1, 1, 1, 0, 0, 1, 0, 0, 1, 0, 0, 1, 0, 0, 1, 0, 0, 1, 1, 0, 1, 1, 0, 1, 0, 0, 0, 1, 1, 0, 0, 1, 1, 0, 1, 1, 1, 1, 0, 1, 0, 0, 0, 0, 0, 0, 0, 0, 1, 1, 1, 0, 1, 1, 0, 0, 0, 1, 0, 1, 0, 0, 0, 0, 1, 1, 1, 0, 0, 1, 1, 1, 0, 0, 1, 0, 0, 0, 1, 0, 1, 0, 0, 0, 0, 0, 0, 1, 1, 0, 1, 0, 0, 1, 0, 0, 0, 0, 0, 1, 1, 0, 1, 1, 1, 1, 1, 0, 1, 1, 0, 0, 0, 1, 1, 0, 0, 0, 0, 0, 1, 0, 1, 0, 1, 1, 0, 0, 0, 1, 0, 0, 1, 0, 0, 0, 1, 1, 0, 1, 0, 1, 1, 1, 0, 0, 0, 0, 1, 0, 0, 0, 0, 0, 1, 1, 0, 1, 1, 1, 0, 1]\n"
     ]
    }
   ],
   "source": [
    "print(preds_list[:400])"
   ]
  },
  {
   "cell_type": "code",
   "execution_count": 56,
   "metadata": {},
   "outputs": [
    {
     "data": {
      "text/plain": [
       "True"
      ]
     },
     "execution_count": 56,
     "metadata": {},
     "output_type": "execute_result"
    }
   ],
   "source": [
    "preds_list[:400] == preds_list[400:]"
   ]
  },
  {
   "cell_type": "code",
   "execution_count": 57,
   "metadata": {},
   "outputs": [
    {
     "name": "stdout",
     "output_type": "stream",
     "text": [
      "['covid', 'covid', 'normal', 'covid', 'normal', 'normal', 'covid', 'covid', 'normal', 'covid', 'normal', 'normal', 'covid', 'covid', 'covid', 'covid', 'normal', 'normal', 'covid', 'covid', 'normal', 'normal', 'normal', 'covid', 'covid', 'covid', 'normal', 'normal', 'normal', 'normal', 'covid', 'covid', 'normal', 'normal', 'normal', 'covid', 'covid', 'covid', 'covid', 'normal', 'covid', 'normal', 'covid', 'normal', 'covid', 'normal', 'covid', 'covid', 'normal', 'covid', 'normal', 'normal', 'normal', 'covid', 'covid', 'covid', 'covid', 'covid', 'covid', 'covid', 'normal', 'normal', 'normal', 'normal', 'covid', 'normal', 'covid', 'covid', 'covid', 'normal', 'normal', 'normal', 'normal', 'covid', 'covid', 'covid', 'normal', 'normal', 'covid', 'normal', 'normal', 'normal', 'covid', 'covid', 'normal', 'covid', 'covid', 'normal', 'covid', 'covid', 'covid', 'normal', 'covid', 'covid', 'covid', 'covid', 'covid', 'covid', 'covid', 'normal', 'normal', 'covid', 'normal', 'covid', 'covid', 'covid', 'covid', 'covid', 'normal', 'normal', 'covid', 'covid', 'normal', 'covid', 'covid', 'covid', 'normal', 'covid', 'covid', 'normal', 'normal', 'normal', 'normal', 'normal', 'covid', 'covid', 'normal', 'normal', 'covid', 'covid', 'normal', 'covid', 'covid', 'covid', 'normal', 'covid', 'normal', 'normal', 'normal', 'covid', 'normal', 'normal', 'covid', 'covid', 'covid', 'normal', 'normal', 'normal', 'normal', 'normal', 'normal', 'covid', 'covid', 'normal', 'covid', 'covid', 'normal', 'normal', 'covid', 'normal', 'normal', 'normal', 'covid', 'normal', 'normal', 'normal', 'covid', 'covid', 'covid', 'normal', 'covid', 'covid', 'covid', 'normal', 'covid', 'normal', 'normal', 'normal', 'normal', 'covid', 'normal', 'covid', 'normal', 'covid', 'covid', 'normal', 'normal', 'normal', 'covid', 'covid', 'normal', 'normal', 'normal', 'normal', 'covid', 'normal', 'covid', 'covid', 'covid', 'covid', 'normal', 'covid', 'normal', 'covid', 'normal', 'covid', 'covid', 'covid', 'covid', 'covid', 'covid', 'normal', 'normal', 'covid', 'covid', 'covid', 'covid', 'covid', 'covid', 'covid', 'normal', 'normal', 'covid', 'covid', 'normal', 'covid', 'covid', 'covid', 'covid', 'covid', 'normal', 'covid', 'covid', 'covid', 'normal', 'covid', 'normal', 'normal', 'normal', 'normal', 'normal', 'covid', 'covid', 'normal', 'covid', 'covid', 'normal', 'covid', 'covid', 'normal', 'covid', 'covid', 'normal', 'covid', 'covid', 'normal', 'normal', 'covid', 'normal', 'normal', 'covid', 'normal', 'covid', 'covid', 'covid', 'normal', 'normal', 'covid', 'covid', 'normal', 'normal', 'covid', 'normal', 'normal', 'normal', 'normal', 'covid', 'normal', 'covid', 'covid', 'covid', 'covid', 'covid', 'covid', 'covid', 'covid', 'normal', 'normal', 'normal', 'covid', 'normal', 'normal', 'covid', 'covid', 'covid', 'normal', 'covid', 'normal', 'covid', 'covid', 'covid', 'covid', 'normal', 'normal', 'normal', 'covid', 'covid', 'normal', 'normal', 'normal', 'covid', 'covid', 'normal', 'covid', 'covid', 'covid', 'normal', 'covid', 'normal', 'covid', 'covid', 'covid', 'covid', 'covid', 'covid', 'normal', 'normal', 'covid', 'normal', 'covid', 'covid', 'normal', 'covid', 'covid', 'covid', 'covid', 'covid', 'normal', 'normal', 'covid', 'normal', 'normal', 'normal', 'normal', 'normal', 'covid', 'normal', 'normal', 'covid', 'covid', 'covid', 'normal', 'normal', 'covid', 'covid', 'covid', 'covid', 'covid', 'normal', 'covid', 'normal', 'covid', 'normal', 'normal', 'covid', 'covid', 'covid', 'normal', 'covid', 'covid', 'normal', 'covid', 'covid', 'covid', 'normal', 'normal', 'covid', 'normal', 'covid', 'normal', 'normal', 'normal', 'covid', 'covid', 'covid', 'covid', 'normal', 'covid', 'covid', 'covid', 'covid', 'covid', 'normal', 'normal', 'covid', 'normal', 'normal', 'normal', 'covid', 'normal']\n"
     ]
    }
   ],
   "source": [
    "real_pred = []\n",
    "for preds in preds_list[:400]:\n",
    "    if preds == 1:\n",
    "        real_pred.append('normal')\n",
    "    else:\n",
    "        real_pred.append('covid')\n",
    "        \n",
    "print(real_pred)"
   ]
  },
  {
   "cell_type": "code",
   "execution_count": 58,
   "metadata": {},
   "outputs": [],
   "source": [
    "submission_df = pd.read_csv(\"input/COVID_19_XRAY/submission.csv\")\n",
    "\n",
    "submission_df['label']= real_pred\n",
    "\n",
    "submission_df.to_csv(\"./output/submission.csv\",index=False)"
   ]
  },
  {
   "cell_type": "code",
   "execution_count": 59,
   "metadata": {},
   "outputs": [
    {
     "name": "stdout",
     "output_type": "stream",
     "text": [
      "Successfully submitted to KDT_AI-프로젝트공모전스터디-1과제\n"
     ]
    }
   ],
   "source": [
    "# https://www.kaggle.com/docs/api 참고\n",
    "# kaggle competitions submit -c [COMPETITION] -f [FILE] -m [MESSAGE]\n",
    "\n",
    "import os\n",
    "import subprocess\n",
    "\n",
    "# 0. api 토큰 발급받은이후 올바른 경로에 생성된 kaggle.json 추가\n",
    "# 참고 url : https://github.com/Kaggle/kaggle-api\n",
    "# cmd 명령어 실행으로 다운받기\n",
    "result = subprocess.check_output(\n",
    "    \"kaggle competitions submit -c kdtai-1 -f ./output/submission.csv -m submit_in_local\", \n",
    "    encoding='utf-8'\n",
    "    )\n",
    "print(result)"
   ]
  },
  {
   "cell_type": "code",
   "execution_count": 60,
   "metadata": {},
   "outputs": [
    {
     "name": "stdout",
     "output_type": "stream",
     "text": [
      "Loaded pretrained weights for efficientnet-b1\n",
      "Loaded pretrained weights for efficientnet-b2\n",
      "Loaded pretrained weights for efficientnet-b3\n"
     ]
    }
   ],
   "source": [
    "model_list = []\n",
    "\n",
    "from efficientnet_pytorch import EfficientNet\n",
    "\n",
    "# 모델 생성\n",
    "efficientnet_b1 = EfficientNet.from_pretrained('efficientnet-b1', num_classes=2)\n",
    "efficientnet_b2 = EfficientNet.from_pretrained('efficientnet-b2', num_classes=2)\n",
    "efficientnet_b3 = EfficientNet.from_pretrained('efficientnet-b3', num_classes=2)\n",
    "\n",
    "# 장비할당\n",
    "\n",
    "efficientnet_b1 = efficientnet_b1.to(device)\n",
    "efficientnet_b2 = efficientnet_b2.to(device)\n",
    "efficientnet_b3 = efficientnet_b3.to(device)\n",
    "\n",
    "# 리스트에 모델 저장\n",
    "\n",
    "model_list.append(efficientnet_b1)\n",
    "model_list.append(efficientnet_b2)\n",
    "model_list.append(efficientnet_b3)"
   ]
  },
  {
   "cell_type": "code",
   "execution_count": 61,
   "metadata": {},
   "outputs": [
    {
     "name": "stdout",
     "output_type": "stream",
     "text": [
      "모델 1 파라미터 개수 : 6515746\n",
      "모델 2 파라미터 개수 : 7703812\n",
      "모델 3 파라미터 개수 : 10699306\n"
     ]
    }
   ],
   "source": [
    "for idx, model in enumerate(model_list):\n",
    "    num_params = sum(param.numel() for param in model.parameters())\n",
    "    print(f'모델 {idx+1} 파라미터 개수 : {num_params}')"
   ]
  },
  {
   "cell_type": "code",
   "execution_count": 62,
   "metadata": {},
   "outputs": [],
   "source": [
    "# 손실함수 , 옵티마이저 ,스케줄러 설정 \n",
    "\n",
    "import torch.nn as nnn\n",
    "\n",
    "criterion = nn.CrossEntropyLoss()\n",
    "\n",
    "optimizer1 = torch.optim.AdamW(model_list[0].parameters(), lr=0.0006, weight_decay=0.001)\n",
    "optimizer2 = torch.optim.AdamW(model_list[1].parameters(), lr=0.0006, weight_decay=0.001)\n",
    "optimizer3 = torch.optim.AdamW(model_list[2].parameters(), lr=0.0006, weight_decay=0.001)"
   ]
  },
  {
   "cell_type": "code",
   "execution_count": 63,
   "metadata": {},
   "outputs": [],
   "source": [
    "from transformers import get_cosine_schedule_with_warmup\n",
    "\n",
    "epochs = 20\n",
    "\n",
    "# 스케줄러\n",
    "scheduler1 = get_cosine_schedule_with_warmup(optimizer1,\n",
    "                                             num_warmup_steps=len(loader_train)*3,\n",
    "                                             num_training_steps=len(loader_train)*epochs)\n",
    "\n",
    "scheduler2 = get_cosine_schedule_with_warmup(optimizer2,\n",
    "                                             num_warmup_steps=len(loader_train)*3,\n",
    "                                             num_training_steps=len(loader_train)*epochs)\n",
    "\n",
    "scheduler3 = get_cosine_schedule_with_warmup(optimizer3,\n",
    "                                             num_warmup_steps=len(loader_train)*3,\n",
    "                                             num_training_steps=len(loader_train)*epochs)\n"
   ]
  },
  {
   "cell_type": "code",
   "execution_count": 64,
   "metadata": {},
   "outputs": [
    {
     "name": "stdout",
     "output_type": "stream",
     "text": [
      "에폭 [1/20] \n",
      "---------------------\n"
     ]
    },
    {
     "data": {
      "application/vnd.jupyter.widget-view+json": {
       "model_id": "10fa071f30c24681b9ece008b46d470a",
       "version_major": 2,
       "version_minor": 0
      },
      "text/plain": [
       "  0%|          | 0/250 [00:00<?, ?it/s]"
      ]
     },
     "metadata": {},
     "output_type": "display_data"
    },
    {
     "name": "stdout",
     "output_type": "stream",
     "text": [
      "\t 훈련 데이터 손실값 : 0.4888\n",
      "\t 검증 데이터 손실값 : 0.2726\n",
      "\t 정확도 :  0.9020 / 재현율 : 0.9010 / F1 점수 : 0.9019\n",
      "\t### 검증 데이터 손실값 감소 (inf --> 68.1565). 모델저장\n",
      "에폭 [2/20] \n",
      "---------------------\n"
     ]
    },
    {
     "data": {
      "application/vnd.jupyter.widget-view+json": {
       "model_id": "a315f8bea6804596aaef0fb127da34a6",
       "version_major": 2,
       "version_minor": 0
      },
      "text/plain": [
       "  0%|          | 0/250 [00:00<?, ?it/s]"
      ]
     },
     "metadata": {},
     "output_type": "display_data"
    },
    {
     "name": "stdout",
     "output_type": "stream",
     "text": [
      "\t 훈련 데이터 손실값 : 0.3161\n",
      "\t 검증 데이터 손실값 : 0.3012\n",
      "\t 정확도 :  0.8420 / 재현율 : 0.6900 / F1 점수 : 0.8137\n",
      "에폭 [3/20] \n",
      "---------------------\n"
     ]
    },
    {
     "data": {
      "application/vnd.jupyter.widget-view+json": {
       "model_id": "1ff391b9d3cb431998cfd8a8741ef1ad",
       "version_major": 2,
       "version_minor": 0
      },
      "text/plain": [
       "  0%|          | 0/250 [00:00<?, ?it/s]"
      ]
     },
     "metadata": {},
     "output_type": "display_data"
    },
    {
     "name": "stdout",
     "output_type": "stream",
     "text": [
      "\t 훈련 데이터 손실값 : 0.3100\n",
      "\t 검증 데이터 손실값 : 0.5196\n",
      "\t 정확도 :  0.8395 / 재현율 : 0.9980 / F1 점수 : 0.8615\n",
      "에폭 [4/20] \n",
      "---------------------\n"
     ]
    },
    {
     "data": {
      "application/vnd.jupyter.widget-view+json": {
       "model_id": "1851d457ff874921978121b2b4655923",
       "version_major": 2,
       "version_minor": 0
      },
      "text/plain": [
       "  0%|          | 0/250 [00:00<?, ?it/s]"
      ]
     },
     "metadata": {},
     "output_type": "display_data"
    },
    {
     "name": "stdout",
     "output_type": "stream",
     "text": [
      "\t 훈련 데이터 손실값 : 0.2916\n",
      "\t 검증 데이터 손실값 : 0.1188\n",
      "\t 정확도 :  0.9495 / 재현율 : 0.9880 / F1 점수 : 0.9514\n",
      "\t### 검증 데이터 손실값 감소 (68.1565 --> 29.7116). 모델저장\n",
      "에폭 [5/20] \n",
      "---------------------\n"
     ]
    },
    {
     "data": {
      "application/vnd.jupyter.widget-view+json": {
       "model_id": "60127cff0bf14df6b4a551ea076e0c6d",
       "version_major": 2,
       "version_minor": 0
      },
      "text/plain": [
       "  0%|          | 0/250 [00:00<?, ?it/s]"
      ]
     },
     "metadata": {},
     "output_type": "display_data"
    },
    {
     "name": "stdout",
     "output_type": "stream",
     "text": [
      "\t 훈련 데이터 손실값 : 0.2409\n",
      "\t 검증 데이터 손실값 : 0.1311\n",
      "\t 정확도 :  0.9450 / 재현율 : 0.9900 / F1 점수 : 0.9474\n",
      "에폭 [6/20] \n",
      "---------------------\n"
     ]
    },
    {
     "data": {
      "application/vnd.jupyter.widget-view+json": {
       "model_id": "d70a1af8d2dd4c08bd541abe51635e59",
       "version_major": 2,
       "version_minor": 0
      },
      "text/plain": [
       "  0%|          | 0/250 [00:00<?, ?it/s]"
      ]
     },
     "metadata": {},
     "output_type": "display_data"
    },
    {
     "name": "stdout",
     "output_type": "stream",
     "text": [
      "\t 훈련 데이터 손실값 : 0.2252\n",
      "\t 검증 데이터 손실값 : 0.1166\n",
      "\t 정확도 :  0.9615 / 재현율 : 0.9560 / F1 점수 : 0.9613\n",
      "\t### 검증 데이터 손실값 감소 (29.7116 --> 29.1535). 모델저장\n",
      "에폭 [7/20] \n",
      "---------------------\n"
     ]
    },
    {
     "data": {
      "application/vnd.jupyter.widget-view+json": {
       "model_id": "17204949a5694c90baf4ebe736dbe7d9",
       "version_major": 2,
       "version_minor": 0
      },
      "text/plain": [
       "  0%|          | 0/250 [00:00<?, ?it/s]"
      ]
     },
     "metadata": {},
     "output_type": "display_data"
    },
    {
     "name": "stdout",
     "output_type": "stream",
     "text": [
      "\t 훈련 데이터 손실값 : 0.1825\n",
      "\t 검증 데이터 손실값 : 0.2107\n",
      "\t 정확도 :  0.9125 / 재현율 : 0.8390 / F1 점수 : 0.9056\n",
      "에폭 [8/20] \n",
      "---------------------\n"
     ]
    },
    {
     "data": {
      "application/vnd.jupyter.widget-view+json": {
       "model_id": "a5f22b5352414ff185811be8afed9a38",
       "version_major": 2,
       "version_minor": 0
      },
      "text/plain": [
       "  0%|          | 0/250 [00:00<?, ?it/s]"
      ]
     },
     "metadata": {},
     "output_type": "display_data"
    },
    {
     "name": "stdout",
     "output_type": "stream",
     "text": [
      "\t 훈련 데이터 손실값 : 0.1688\n",
      "\t 검증 데이터 손실값 : 0.1084\n",
      "\t 정확도 :  0.9545 / 재현율 : 0.9980 / F1 점수 : 0.9564\n",
      "\t### 검증 데이터 손실값 감소 (29.1535 --> 27.1096). 모델저장\n",
      "에폭 [9/20] \n",
      "---------------------\n"
     ]
    },
    {
     "data": {
      "application/vnd.jupyter.widget-view+json": {
       "model_id": "03e157408cf1461385adaeb68b12f27b",
       "version_major": 2,
       "version_minor": 0
      },
      "text/plain": [
       "  0%|          | 0/250 [00:00<?, ?it/s]"
      ]
     },
     "metadata": {},
     "output_type": "display_data"
    },
    {
     "name": "stdout",
     "output_type": "stream",
     "text": [
      "\t 훈련 데이터 손실값 : 0.1432\n",
      "\t 검증 데이터 손실값 : 0.1343\n",
      "\t 정확도 :  0.9475 / 재현율 : 0.8970 / F1 점수 : 0.9447\n",
      "에폭 [10/20] \n",
      "---------------------\n"
     ]
    },
    {
     "data": {
      "application/vnd.jupyter.widget-view+json": {
       "model_id": "f4860de49b9946d89268d073e729d8cb",
       "version_major": 2,
       "version_minor": 0
      },
      "text/plain": [
       "  0%|          | 0/250 [00:00<?, ?it/s]"
      ]
     },
     "metadata": {},
     "output_type": "display_data"
    },
    {
     "name": "stdout",
     "output_type": "stream",
     "text": [
      "\t 훈련 데이터 손실값 : 0.1100\n",
      "\t 검증 데이터 손실값 : 0.0233\n",
      "\t 정확도 :  0.9940 / 재현율 : 0.9990 / F1 점수 : 0.9940\n",
      "\t### 검증 데이터 손실값 감소 (27.1096 --> 5.8226). 모델저장\n",
      "에폭 [11/20] \n",
      "---------------------\n"
     ]
    },
    {
     "data": {
      "application/vnd.jupyter.widget-view+json": {
       "model_id": "2451bc3d3edf4239853b5f5cc0e33bac",
       "version_major": 2,
       "version_minor": 0
      },
      "text/plain": [
       "  0%|          | 0/250 [00:00<?, ?it/s]"
      ]
     },
     "metadata": {},
     "output_type": "display_data"
    },
    {
     "name": "stdout",
     "output_type": "stream",
     "text": [
      "\t 훈련 데이터 손실값 : 0.0840\n",
      "\t 검증 데이터 손실값 : 0.0197\n",
      "\t 정확도 :  0.9945 / 재현율 : 0.9990 / F1 점수 : 0.9945\n",
      "\t### 검증 데이터 손실값 감소 (5.8226 --> 4.9286). 모델저장\n",
      "에폭 [12/20] \n",
      "---------------------\n"
     ]
    },
    {
     "data": {
      "application/vnd.jupyter.widget-view+json": {
       "model_id": "845096aa940f48788bb35fe311ad4c85",
       "version_major": 2,
       "version_minor": 0
      },
      "text/plain": [
       "  0%|          | 0/250 [00:00<?, ?it/s]"
      ]
     },
     "metadata": {},
     "output_type": "display_data"
    },
    {
     "name": "stdout",
     "output_type": "stream",
     "text": [
      "\t 훈련 데이터 손실값 : 0.0857\n",
      "\t 검증 데이터 손실값 : 0.0676\n",
      "\t 정확도 :  0.9715 / 재현율 : 0.9430 / F1 점수 : 0.9707\n",
      "에폭 [13/20] \n",
      "---------------------\n"
     ]
    },
    {
     "data": {
      "application/vnd.jupyter.widget-view+json": {
       "model_id": "87932e71a7cb4fb3b23e9ff211d2341d",
       "version_major": 2,
       "version_minor": 0
      },
      "text/plain": [
       "  0%|          | 0/250 [00:00<?, ?it/s]"
      ]
     },
     "metadata": {},
     "output_type": "display_data"
    },
    {
     "name": "stdout",
     "output_type": "stream",
     "text": [
      "\t 훈련 데이터 손실값 : 0.0756\n",
      "\t 검증 데이터 손실값 : 0.0099\n",
      "\t 정확도 :  0.9965 / 재현율 : 1.0000 / F1 점수 : 0.9965\n",
      "\t### 검증 데이터 손실값 감소 (4.9286 --> 2.4788). 모델저장\n",
      "에폭 [14/20] \n",
      "---------------------\n"
     ]
    },
    {
     "data": {
      "application/vnd.jupyter.widget-view+json": {
       "model_id": "7ace632b44a64a5dbe1341dcf1ac139d",
       "version_major": 2,
       "version_minor": 0
      },
      "text/plain": [
       "  0%|          | 0/250 [00:00<?, ?it/s]"
      ]
     },
     "metadata": {},
     "output_type": "display_data"
    },
    {
     "name": "stdout",
     "output_type": "stream",
     "text": [
      "\t 훈련 데이터 손실값 : 0.0548\n",
      "\t 검증 데이터 손실값 : 0.0104\n",
      "\t 정확도 :  0.9975 / 재현율 : 1.0000 / F1 점수 : 0.9975\n",
      "에폭 [15/20] \n",
      "---------------------\n"
     ]
    },
    {
     "data": {
      "application/vnd.jupyter.widget-view+json": {
       "model_id": "359900bb86d649b2b670843cc8ab8d48",
       "version_major": 2,
       "version_minor": 0
      },
      "text/plain": [
       "  0%|          | 0/250 [00:00<?, ?it/s]"
      ]
     },
     "metadata": {},
     "output_type": "display_data"
    },
    {
     "name": "stdout",
     "output_type": "stream",
     "text": [
      "\t 훈련 데이터 손실값 : 0.0346\n",
      "\t 검증 데이터 손실값 : 0.0059\n",
      "\t 정확도 :  0.9985 / 재현율 : 1.0000 / F1 점수 : 0.9985\n",
      "\t### 검증 데이터 손실값 감소 (2.4788 --> 1.4728). 모델저장\n",
      "에폭 [16/20] \n",
      "---------------------\n"
     ]
    },
    {
     "data": {
      "application/vnd.jupyter.widget-view+json": {
       "model_id": "070b47a57eee4854a98cb542533f4f90",
       "version_major": 2,
       "version_minor": 0
      },
      "text/plain": [
       "  0%|          | 0/250 [00:00<?, ?it/s]"
      ]
     },
     "metadata": {},
     "output_type": "display_data"
    },
    {
     "name": "stdout",
     "output_type": "stream",
     "text": [
      "\t 훈련 데이터 손실값 : 0.0264\n",
      "\t 검증 데이터 손실값 : 0.0077\n",
      "\t 정확도 :  0.9975 / 재현율 : 1.0000 / F1 점수 : 0.9975\n",
      "에폭 [17/20] \n",
      "---------------------\n"
     ]
    },
    {
     "data": {
      "application/vnd.jupyter.widget-view+json": {
       "model_id": "038fddac95d247c4b78fe32139bb8723",
       "version_major": 2,
       "version_minor": 0
      },
      "text/plain": [
       "  0%|          | 0/250 [00:00<?, ?it/s]"
      ]
     },
     "metadata": {},
     "output_type": "display_data"
    },
    {
     "name": "stdout",
     "output_type": "stream",
     "text": [
      "\t 훈련 데이터 손실값 : 0.0241\n",
      "\t 검증 데이터 손실값 : 0.0042\n",
      "\t 정확도 :  0.9995 / 재현율 : 1.0000 / F1 점수 : 0.9995\n",
      "\t### 검증 데이터 손실값 감소 (1.4728 --> 1.0491). 모델저장\n",
      "에폭 [18/20] \n",
      "---------------------\n"
     ]
    },
    {
     "data": {
      "application/vnd.jupyter.widget-view+json": {
       "model_id": "2e8f217a8f034ac6b413e1fdf7e8abc9",
       "version_major": 2,
       "version_minor": 0
      },
      "text/plain": [
       "  0%|          | 0/250 [00:00<?, ?it/s]"
      ]
     },
     "metadata": {},
     "output_type": "display_data"
    },
    {
     "name": "stdout",
     "output_type": "stream",
     "text": [
      "\t 훈련 데이터 손실값 : 0.0199\n",
      "\t 검증 데이터 손실값 : 0.0027\n",
      "\t 정확도 :  0.9995 / 재현율 : 1.0000 / F1 점수 : 0.9995\n",
      "\t### 검증 데이터 손실값 감소 (1.0491 --> 0.6796). 모델저장\n",
      "에폭 [19/20] \n",
      "---------------------\n"
     ]
    },
    {
     "data": {
      "application/vnd.jupyter.widget-view+json": {
       "model_id": "3a9d770ddb7e4db28c3da0c46c02c107",
       "version_major": 2,
       "version_minor": 0
      },
      "text/plain": [
       "  0%|          | 0/250 [00:00<?, ?it/s]"
      ]
     },
     "metadata": {},
     "output_type": "display_data"
    },
    {
     "name": "stdout",
     "output_type": "stream",
     "text": [
      "\t 훈련 데이터 손실값 : 0.0124\n",
      "\t 검증 데이터 손실값 : 0.0023\n",
      "\t 정확도 :  0.9995 / 재현율 : 1.0000 / F1 점수 : 0.9995\n",
      "\t### 검증 데이터 손실값 감소 (0.6796 --> 0.5746). 모델저장\n",
      "에폭 [20/20] \n",
      "---------------------\n"
     ]
    },
    {
     "data": {
      "application/vnd.jupyter.widget-view+json": {
       "model_id": "6c68143f8a1949e1aea65bfe18eba3d0",
       "version_major": 2,
       "version_minor": 0
      },
      "text/plain": [
       "  0%|          | 0/250 [00:00<?, ?it/s]"
      ]
     },
     "metadata": {},
     "output_type": "display_data"
    },
    {
     "name": "stdout",
     "output_type": "stream",
     "text": [
      "\t 훈련 데이터 손실값 : 0.0162\n",
      "\t 검증 데이터 손실값 : 0.0025\n",
      "\t 정확도 :  0.9995 / 재현율 : 1.0000 / F1 점수 : 0.9995\n"
     ]
    },
    {
     "data": {
      "text/plain": [
       "<All keys matched successfully>"
      ]
     },
     "execution_count": 64,
     "metadata": {},
     "output_type": "execute_result"
    }
   ],
   "source": [
    "# 첫번 쨰 모델 훈련 \n",
    "\n",
    "model_state_dict = train(model=model_list[0],\n",
    "                         loader_train=loader_train,\n",
    "                         loader_valid=loader_valid,\n",
    "                         criterion=criterion,\n",
    "                         optimizer=optimizer1,\n",
    "                         scheduler=scheduler1,\n",
    "                         epochs=epochs\n",
    "                         )\n",
    "\n",
    "# 첫번쨰 모델에 최적 가중치 적용\n",
    "\n",
    "model_list[0].load_state_dict(model_state_dict)"
   ]
  },
  {
   "cell_type": "code",
   "execution_count": null,
   "metadata": {},
   "outputs": [],
   "source": [
    "# 두번 쨰 모델 훈련 \n",
    "\n",
    "model_state_dict = train(model=model_list[1],\n",
    "                         loader_train=loader_train,\n",
    "                         loader_valid=loader_valid,\n",
    "                         criterion=criterion,\n",
    "                         optimizer=optimizer2,\n",
    "                         scheduler=scheduler2,\n",
    "                         epochs=epochs\n",
    "                         )\n",
    "\n",
    "# 두번째 모델에 최적 가중치 적용\n",
    "\n",
    "model_list[1].load_state_dict(model_state_dict)"
   ]
  },
  {
   "cell_type": "code",
   "execution_count": null,
   "metadata": {},
   "outputs": [],
   "source": [
    "# 세번 쨰 모델 훈련 \n",
    "\n",
    "model_state_dict = train(model=model_list[2],\n",
    "                         loader_train=loader_train,\n",
    "                         loader_valid=loader_valid,\n",
    "                         criterion=criterion,\n",
    "                         optimizer=optimizer3,\n",
    "                         scheduler=scheduler3,\n",
    "                         epochs=epochs\n",
    "                         )\n",
    "\n",
    "# 두번째 모델에 최적 가중치 적용\n",
    "\n",
    "model_list[2].load_state_dict(model_state_dict)"
   ]
  },
  {
   "cell_type": "code",
   "execution_count": 65,
   "metadata": {},
   "outputs": [],
   "source": [
    "# 첫번 쨰 모델 평가\n",
    "true_list, preds_list = predict(model = model_list[0],\n",
    "                                loader_test=loader_test,\n",
    "                                return_true=True)"
   ]
  },
  {
   "cell_type": "code",
   "execution_count": 67,
   "metadata": {},
   "outputs": [
    {
     "name": "stdout",
     "output_type": "stream",
     "text": [
      "[0, 0, 0, 0, 0, 0, 0, 0, 0, 0, 0, 0, 0, 0, 0, 0, 0, 0, 0, 0, 0, 0, 0, 0, 0, 0, 0, 0, 0, 0, 0, 0, 0, 0, 0, 0, 0, 0, 0, 0, 0, 0, 0, 0, 0, 0, 0, 0, 0, 0, 0, 0, 0, 0, 0, 0, 0, 0, 0, 0, 0, 0, 0, 0, 0, 0, 0, 0, 0, 0, 0, 0, 0, 0, 0, 0, 0, 0, 0, 0, 0, 0, 0, 0, 0, 0, 0, 0, 0, 0, 0, 0, 0, 0, 0, 0, 0, 0, 0, 0, 0, 0, 0, 0, 0, 0, 0, 0, 0, 0, 0, 0, 0, 0, 0, 0, 0, 0, 0, 0, 0, 0, 0, 0, 0, 0, 0, 0, 0, 0, 0, 0, 0, 0, 0, 0, 0, 0, 0, 0, 0, 0, 0, 0, 0, 0, 0, 0, 0, 0, 0, 0, 0, 0, 0, 0, 0, 0, 0, 0, 0, 0, 0, 0, 0, 0, 0, 0, 0, 0, 0, 0, 0, 0, 0, 0, 0, 0, 0, 0, 0, 0, 0, 0, 0, 0, 0, 0, 0, 0, 0, 0, 0, 0, 0, 0, 0, 0, 0, 0, 0, 0, 0, 0, 0, 0, 0, 0, 0, 0, 0, 0, 0, 0, 0, 0, 0, 0, 0, 0, 0, 0, 0, 0, 0, 0, 0, 0, 0, 0, 0, 0, 0, 0, 0, 0, 0, 0, 0, 0, 0, 0, 0, 0, 0, 0, 0, 0, 0, 0, 0, 0, 0, 0, 0, 0, 0, 0, 0, 0, 0, 0, 0, 0, 0, 0, 0, 0, 0, 0, 0, 0, 0, 0, 0, 0, 0, 0, 0, 0, 0, 0, 0, 0, 0, 0, 0, 0, 0, 0, 0, 0, 0, 0, 0, 0, 0, 0, 0, 0, 0, 0, 0, 0, 0, 0, 0, 0, 0, 0, 0, 0, 0, 0, 0, 0, 0, 0, 0, 0, 0, 0, 0, 0, 0, 0, 0, 0, 0, 0, 0, 0, 0, 0, 0, 0, 0, 0, 0, 0, 0, 0, 0, 0, 0, 0, 0, 0, 0, 0, 0, 0, 0, 0, 0, 0, 0, 0, 0, 0, 0, 0, 0, 0, 0, 0, 0, 0, 0, 0, 0, 0, 0, 0, 0, 0, 0, 0, 0, 0, 0, 0, 0, 0, 0, 0, 0, 0, 0, 0, 0, 0, 0, 0, 0, 0, 0, 0, 0, 0, 1, 1, 1, 1, 1, 1, 1, 1, 1, 1, 1, 1, 1, 1, 1, 1, 1, 1, 1, 1, 1, 1, 1, 1, 1, 1, 1, 1, 1, 1, 1, 1, 1, 1, 1, 1, 1, 1, 1, 1, 1, 1, 1, 1, 1, 1, 1, 1, 1, 1, 1, 1, 1, 1, 1, 1, 1, 1, 1, 1, 1, 1, 1, 1, 1, 1, 1, 1, 1, 1, 1, 1, 1, 1, 1, 1, 1, 1, 1, 1, 1, 1, 1, 1, 1, 1, 1, 1, 1, 1, 1, 1, 1, 1, 1, 1, 1, 1, 1, 1, 1, 1, 1, 1, 1, 1, 1, 1, 1, 1, 1, 1, 1, 1, 1, 1, 1, 1, 1, 1, 1, 1, 1, 1, 1, 1, 1, 1, 1, 1, 1, 1, 1, 1, 1, 1, 1, 1, 1, 1, 1, 1, 1, 1, 1, 1, 1, 1, 1, 1, 1, 1, 1, 1, 1, 1, 1, 1, 1, 1, 1, 1, 1, 1, 1, 1, 1, 1, 1, 1, 1, 1, 1, 1, 1, 1, 1, 1, 1, 1, 1, 1, 1, 1, 1, 1, 1, 1, 1, 1, 1, 1, 1, 1, 1, 1, 1, 1, 1, 1, 1, 1, 1, 1, 1, 1, 1, 1, 1, 1, 1, 1, 1, 1, 1, 1, 1, 1, 1, 1, 1, 1, 1, 1, 1, 1, 1, 1, 1, 1, 1, 1, 1, 1, 1, 1, 1, 1, 1, 1, 1, 1, 1, 1, 1, 1, 1, 1, 1, 1, 1, 1, 1, 1, 1, 1, 1, 1, 1, 1, 1, 1, 1, 1, 1, 1, 1, 1, 1, 1, 1, 1, 1, 1, 1, 1, 1, 1, 1, 1, 1, 1, 1, 1, 1, 1, 1, 1, 1, 1, 1, 1, 1, 1, 1, 1, 1, 1, 1, 1, 1, 1, 1, 1, 1, 1, 1, 1, 1, 1, 1, 1, 1, 1, 1, 1, 1, 1, 1, 1, 1, 1, 1, 1, 1, 1, 1, 1, 1, 1, 1, 1, 1, 1, 1, 1, 1, 1, 1, 1, 1, 1, 1, 1, 1, 1, 1, 1, 1, 1, 1, 1, 1, 1, 1, 1, 1, 1, 1, 1, 1, 1, 1, 1, 1, 1, 1, 1, 1, 1, 1, 1, 1, 1, 1, 1, 1, 1, 1, 1, 1, 1, 1, 1, 1, 1, 1, 1, 1, 1, 1, 1, 1, 1, 1, 1, 1, 1, 1, 1]\n"
     ]
    }
   ],
   "source": [
    "print(true_list)"
   ]
  },
  {
   "cell_type": "code",
   "execution_count": 68,
   "metadata": {},
   "outputs": [
    {
     "data": {
      "text/plain": [
       "True"
      ]
     },
     "execution_count": 68,
     "metadata": {},
     "output_type": "execute_result"
    }
   ],
   "source": [
    "preds_list[:400] == preds_list[400:]"
   ]
  },
  {
   "cell_type": "code",
   "execution_count": 69,
   "metadata": {},
   "outputs": [
    {
     "name": "stdout",
     "output_type": "stream",
     "text": [
      "['covid', 'covid', 'normal', 'covid', 'normal', 'normal', 'covid', 'covid', 'normal', 'covid', 'normal', 'normal', 'covid', 'covid', 'covid', 'covid', 'normal', 'normal', 'normal', 'covid', 'normal', 'normal', 'normal', 'covid', 'covid', 'covid', 'normal', 'normal', 'normal', 'covid', 'covid', 'normal', 'normal', 'normal', 'covid', 'covid', 'covid', 'covid', 'covid', 'normal', 'covid', 'covid', 'normal', 'covid', 'covid', 'normal', 'covid', 'normal', 'normal', 'covid', 'normal', 'normal', 'normal', 'covid', 'covid', 'covid', 'covid', 'covid', 'covid', 'normal', 'covid', 'normal', 'normal', 'normal', 'normal', 'normal', 'covid', 'normal', 'normal', 'normal', 'covid', 'covid', 'covid', 'covid', 'covid', 'normal', 'normal', 'covid', 'covid', 'normal', 'normal', 'normal', 'normal', 'covid', 'normal', 'normal', 'covid', 'normal', 'covid', 'covid', 'covid', 'normal', 'covid', 'covid', 'covid', 'covid', 'covid', 'covid', 'covid', 'normal', 'covid', 'normal', 'normal', 'covid', 'covid', 'covid', 'covid', 'normal', 'normal', 'covid', 'covid', 'covid', 'normal', 'covid', 'covid', 'normal', 'normal', 'covid', 'covid', 'normal', 'normal', 'normal', 'normal', 'normal', 'covid', 'covid', 'covid', 'covid', 'covid', 'covid', 'normal', 'covid', 'covid', 'covid', 'normal', 'normal', 'normal', 'normal', 'normal', 'normal', 'normal', 'normal', 'covid', 'covid', 'covid', 'normal', 'normal', 'normal', 'normal', 'normal', 'covid', 'covid', 'covid', 'normal', 'normal', 'covid', 'normal', 'normal', 'covid', 'normal', 'normal', 'normal', 'normal', 'normal', 'normal', 'covid', 'normal', 'normal', 'covid', 'covid', 'covid', 'normal', 'covid', 'covid', 'covid', 'normal', 'normal', 'normal', 'normal', 'covid', 'normal', 'covid', 'covid', 'covid', 'normal', 'normal', 'normal', 'normal', 'covid', 'covid', 'covid', 'normal', 'normal', 'normal', 'covid', 'normal', 'covid', 'normal', 'covid', 'covid', 'normal', 'covid', 'normal', 'covid', 'normal', 'covid', 'normal', 'covid', 'covid', 'normal', 'covid', 'normal', 'normal', 'covid', 'covid', 'covid', 'normal', 'normal', 'covid', 'covid', 'normal', 'normal', 'covid', 'normal', 'covid', 'covid', 'covid', 'covid', 'normal', 'covid', 'covid', 'covid', 'covid', 'covid', 'normal', 'covid', 'normal', 'normal', 'normal', 'normal', 'normal', 'normal', 'covid', 'normal', 'covid', 'covid', 'normal', 'covid', 'normal', 'normal', 'covid', 'normal', 'covid', 'covid', 'covid', 'normal', 'normal', 'covid', 'normal', 'normal', 'normal', 'covid', 'covid', 'covid', 'covid', 'normal', 'normal', 'covid', 'covid', 'covid', 'normal', 'normal', 'normal', 'normal', 'covid', 'normal', 'covid', 'normal', 'normal', 'covid', 'normal', 'covid', 'covid', 'covid', 'covid', 'normal', 'normal', 'covid', 'covid', 'covid', 'normal', 'normal', 'covid', 'covid', 'covid', 'normal', 'covid', 'covid', 'covid', 'covid', 'covid', 'covid', 'normal', 'normal', 'normal', 'normal', 'normal', 'normal', 'normal', 'normal', 'normal', 'covid', 'normal', 'covid', 'covid', 'covid', 'normal', 'normal', 'covid', 'covid', 'normal', 'covid', 'normal', 'covid', 'covid', 'normal', 'covid', 'covid', 'normal', 'covid', 'covid', 'normal', 'normal', 'normal', 'normal', 'covid', 'normal', 'normal', 'covid', 'covid', 'normal', 'covid', 'normal', 'covid', 'normal', 'covid', 'normal', 'normal', 'covid', 'covid', 'covid', 'normal', 'normal', 'covid', 'covid', 'covid', 'normal', 'covid', 'covid', 'normal', 'normal', 'normal', 'covid', 'normal', 'normal', 'normal', 'normal', 'normal', 'covid', 'covid', 'normal', 'covid', 'covid', 'covid', 'normal', 'normal', 'covid', 'normal', 'covid', 'normal', 'normal', 'normal', 'normal', 'covid', 'covid', 'normal', 'normal', 'covid', 'covid', 'normal', 'normal', 'covid', 'normal', 'normal', 'covid', 'normal', 'normal', 'normal', 'normal', 'normal']\n"
     ]
    }
   ],
   "source": [
    "real_pred_b1 = []\n",
    "for preds in preds_list[:400]:\n",
    "    if preds == 1:\n",
    "        real_pred_b1.append('normal')\n",
    "    else:\n",
    "        real_pred_b1.append('covid')\n",
    "        \n",
    "print(real_pred_b1)"
   ]
  },
  {
   "cell_type": "code",
   "execution_count": 70,
   "metadata": {},
   "outputs": [],
   "source": [
    "submission_df = pd.read_csv(\"input/COVID_19_XRAY/submission.csv\")\n",
    "\n",
    "submission_df['label']= real_pred_b1\n",
    "\n",
    "submission_df.to_csv(\"./output/submission_b1.csv\",index=False)"
   ]
  },
  {
   "cell_type": "code",
   "execution_count": null,
   "metadata": {},
   "outputs": [],
   "source": []
  }
 ],
 "metadata": {
  "kernelspec": {
   "display_name": "Python 3.9.13 ('base')",
   "language": "python",
   "name": "python3"
  },
  "language_info": {
   "codemirror_mode": {
    "name": "ipython",
    "version": 3
   },
   "file_extension": ".py",
   "mimetype": "text/x-python",
   "name": "python",
   "nbconvert_exporter": "python",
   "pygments_lexer": "ipython3",
   "version": "3.9.13"
  },
  "orig_nbformat": 4,
  "vscode": {
   "interpreter": {
    "hash": "ad2bdc8ecc057115af97d19610ffacc2b4e99fae6737bb82f5d7fb13d2f2c186"
   }
  }
 },
 "nbformat": 4,
 "nbformat_minor": 2
}
