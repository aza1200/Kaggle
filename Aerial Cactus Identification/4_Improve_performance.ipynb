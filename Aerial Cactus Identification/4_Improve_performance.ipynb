{
  "nbformat": 4,
  "nbformat_minor": 0,
  "metadata": {
    "colab": {
      "provenance": [],
      "gpuType": "T4"
    },
    "kernelspec": {
      "name": "python3",
      "display_name": "Python 3"
    },
    "language_info": {
      "name": "python"
    },
    "accelerator": "GPU",
    "gpuClass": "standard"
  },
  "cells": [
    {
      "cell_type": "code",
      "source": [
        "from google.colab import drive\n",
        "drive.mount('/content/drive')"
      ],
      "metadata": {
        "id": "Fk9yTTCjI_zj",
        "colab": {
          "base_uri": "https://localhost:8080/"
        },
        "outputId": "fcee5e4e-1f45-409e-8d15-7d70fd716ac7"
      },
      "execution_count": 33,
      "outputs": [
        {
          "output_type": "stream",
          "name": "stdout",
          "text": [
            "Drive already mounted at /content/drive; to attempt to forcibly remount, call drive.mount(\"/content/drive\", force_remount=True).\n"
          ]
        }
      ]
    },
    {
      "cell_type": "code",
      "source": [
        "import os \n",
        "import json\n",
        "\n",
        "\n",
        "kaggle_json = './drive/MyDrive/kaggle.json'\n",
        "with open(kaggle_json, 'r') as f:\n",
        "    json_data = json.load(f)\n",
        "    os.environ['KAGGLE_USERNAME'] = json_data['username']\n",
        "    os.environ['KAGGLE_KEY'] = json_data['key']\n"
      ],
      "metadata": {
        "id": "6eUdXw4_J_hf"
      },
      "execution_count": 34,
      "outputs": []
    },
    {
      "cell_type": "code",
      "source": [
        "# 데이터 다운로드(api key 세팅 참조 링크 : https://github.com/Kaggle/kaggle-api)\n",
        "!kaggle competitions download -c aerial-cactus-identification"
      ],
      "metadata": {
        "colab": {
          "base_uri": "https://localhost:8080/"
        },
        "id": "YVzTVp2rLHf0",
        "outputId": "1b0ff8ef-5bb3-46bb-8f08-62aa72762c42"
      },
      "execution_count": 35,
      "outputs": [
        {
          "output_type": "stream",
          "name": "stdout",
          "text": [
            "aerial-cactus-identification.zip: Skipping, found more recently modified local copy (use --force to force download)\n"
          ]
        }
      ]
    },
    {
      "cell_type": "code",
      "execution_count": 36,
      "metadata": {
        "id": "YBf63YwlIvJ2"
      },
      "outputs": [],
      "source": [
        "import os\n",
        "\n",
        "# 폴더 생성 (기존재시 pass)\n",
        "os.makedirs('./input/train',  exist_ok=True)\n",
        "os.makedirs('./input/test',  exist_ok=True)\n",
        "os.makedirs('./output', exist_ok=True)"
      ]
    },
    {
      "cell_type": "code",
      "source": [
        "# 압축 해제 후 input 에 train.csv test.csv  넣기\n",
        "import zipfile\n",
        "zipfile.ZipFile(f'aerial-cactus-identification.zip').extractall('./input')"
      ],
      "metadata": {
        "id": "BGz_dqlTMmed"
      },
      "execution_count": 37,
      "outputs": []
    },
    {
      "cell_type": "code",
      "source": [
        "# 추가로 압축해제\n",
        "zipfile.ZipFile(f'./input/test.zip').extractall('./input')\n",
        "zipfile.ZipFile(f'./input/train.zip').extractall('./input')"
      ],
      "metadata": {
        "id": "bcFBJ-9dMqPr"
      },
      "execution_count": 38,
      "outputs": []
    },
    {
      "cell_type": "code",
      "source": [
        "import torch # 파이토치\n",
        "import random\n",
        "import numpy as np\n",
        "import os\n",
        "\n",
        "# 시드값 고정\n",
        "seed = 50\n",
        "os.environ['PYTHONHASHSEED'] = str(seed)\n",
        "random.seed(seed) # 파이썬 난수 생성기 시드 고정\n",
        "np.random.seed(seed) # 넘파이 난수 생성기 시드 고정\n",
        "torch.manual_seed(seed) # 파이토치 난수 생성기 시드 고정(CPU 사용시)\n",
        "torch.cuda.manual_seed(seed) # 파이토치 난수 생성기 시드 고정(GPU 사용시)\n",
        "torch.cuda.manual_seed_all(seed) # 파이토치 난수 생성기 시드 고정(멀티 GPU 사용시)\n",
        "torch.backends.cudnn.deterministic = True # 확정적 연산 사용\n",
        "torch.backends.cudnn.benchmark = False # 벤치마크 기능 해제\n",
        "torch.backends.cudnn.enabled = False # cudnn 사용해제"
      ],
      "metadata": {
        "id": "uJv_kM8gNPuA"
      },
      "execution_count": 39,
      "outputs": []
    },
    {
      "cell_type": "code",
      "source": [
        "device = torch.device('cuda' if torch.cuda.is_available() else 'cpu')\n",
        "print(device)"
      ],
      "metadata": {
        "colab": {
          "base_uri": "https://localhost:8080/"
        },
        "id": "0U2bHmMINSg2",
        "outputId": "6a631bf7-ac7e-4d6a-f212-8373f0ca3e08"
      },
      "execution_count": 40,
      "outputs": [
        {
          "output_type": "stream",
          "name": "stdout",
          "text": [
            "cuda\n"
          ]
        }
      ]
    },
    {
      "cell_type": "code",
      "source": [
        "import pandas as pd\n",
        "\n",
        "# 데이터 경로\n",
        "labels = pd.read_csv('./input/train.csv')\n",
        "submission = pd.read_csv('./input/sample_submission.csv')"
      ],
      "metadata": {
        "id": "AmGPH5XlNLvs"
      },
      "execution_count": 41,
      "outputs": []
    },
    {
      "cell_type": "code",
      "source": [
        "from sklearn.model_selection import train_test_split\n",
        "\n",
        "# 훈련데이터, 검증 데이터 분리\n",
        "train, valid = train_test_split(labels,\n",
        "                                test_size=0.1,\n",
        "                                stratify=labels['has_cactus'],\n",
        "                                random_state=50)"
      ],
      "metadata": {
        "id": "IJ0QtknwM8cd"
      },
      "execution_count": 10,
      "outputs": []
    },
    {
      "cell_type": "code",
      "source": [
        "print('훈련 데이터 개수 :', len(train))\n",
        "print('검증 데이터 개수 :', len(valid))"
      ],
      "metadata": {
        "colab": {
          "base_uri": "https://localhost:8080/"
        },
        "id": "T-UY3HzMN2N8",
        "outputId": "e4143b85-4aec-4aa2-f10d-b03be4c9671c"
      },
      "execution_count": 42,
      "outputs": [
        {
          "output_type": "stream",
          "name": "stdout",
          "text": [
            "훈련 데이터 개수 : 15750\n",
            "검증 데이터 개수 : 1750\n"
          ]
        }
      ]
    },
    {
      "cell_type": "code",
      "source": [
        "import cv2 # openCV 라이브러리\n",
        "from torch.utils.data import Dataset # 데이터 생성을 위한 클래스\n",
        "\n",
        "class ImageDataset(Dataset):\n",
        "  # 초기화 메서드(생성자)\n",
        "  def __init__(self, df, img_dir='./', transform=None):\n",
        "    super().__init__() # 상속받은 Dataset 생성자 호출\n",
        "    # 전달받은 인수들 저장 \n",
        "    self.df = df\n",
        "    self.img_dir = img_dir\n",
        "    self.transform = transform\n",
        "\n",
        "  # 데이터셋 크기 반환 메서드\n",
        "  def __len__(self):\n",
        "    return len(self.df)\n",
        "\n",
        "  # 인덱스(idx)에 해당하는 데이터 반환 메서드\n",
        "  def __getitem__(self, idx):\n",
        "    img_id = self.df.iloc[idx, 0] # 이미지 ID\n",
        "    img_path = self.img_dir + img_id # 이미지 파일 경로\n",
        "    image = cv2.imread(img_path) # 이미지 파일 읽기\n",
        "    image = cv2.cvtColor(image, cv2.COLOR_BGR2RGB)  # 이미지 색상 보정\n",
        "    label = self.df.iloc[idx, 1] # 이미지 레이블 (타깃값)\n",
        "\n",
        "    if self.transform is not None:\n",
        "      image = self.transform(image) # 변환기가 있다면 이미지 변환\n",
        "\n",
        "    return image, label \n"
      ],
      "metadata": {
        "id": "tjrMRux_N-aa"
      },
      "execution_count": 43,
      "outputs": []
    },
    {
      "cell_type": "code",
      "source": [
        "from torchvision import transforms # 이미지 변환을 위한 모듈\n",
        "\n",
        "# 훈련 데이터용 변환기\n",
        "transform_train = transforms.Compose([\n",
        "    transforms.ToTensor(),\n",
        "    transforms.Pad(32, padding_mode='symmetric'),\n",
        "    transforms.RandomHorizontalFlip(),\n",
        "    transforms.RandomVerticalFlip(),\n",
        "    transforms.RandomRotation(10),\n",
        "    transforms.Normalize(\n",
        "        (0.485, 0.456, 0.406),\n",
        "        (0.229, 0.224, 0.225)\n",
        "    ) \n",
        "     ])\n",
        "\n",
        "# 검증 및 테스트 데이터용 변환기\n",
        "transform_test = transforms.Compose([\n",
        "    transforms.ToTensor(),\n",
        "    transforms.Pad(32, padding_mode='symmetric'),\n",
        "    transforms.Normalize(\n",
        "        (0.485, 0.456, 0.406),\n",
        "        (0.229, 0.224, 0.225)\n",
        "    )\n",
        "])"
      ],
      "metadata": {
        "id": "xGLpWt7llzwD"
      },
      "execution_count": 44,
      "outputs": []
    },
    {
      "cell_type": "code",
      "source": [
        "dataset_train = ImageDataset(df = train, img_dir = './input/train/', transform = transform_train)\n",
        "dataset_valid = ImageDataset(df = valid, img_dir = './input/train/', transform = transform_test)"
      ],
      "metadata": {
        "id": "yGTe7Zu7Q2if"
      },
      "execution_count": 45,
      "outputs": []
    },
    {
      "cell_type": "code",
      "source": [
        "from torch.utils.data import DataLoader\n",
        "\n",
        "loader_train = DataLoader(dataset=dataset_train, batch_size=32, shuffle=True)\n",
        "loader_valid = DataLoader(dataset=dataset_valid, batch_size=32, shuffle=False)"
      ],
      "metadata": {
        "id": "CIPajvjeRI4H"
      },
      "execution_count": 46,
      "outputs": []
    },
    {
      "cell_type": "markdown",
      "source": [
        "**모델 생성**"
      ],
      "metadata": {
        "id": "14Bi1jQoSCLY"
      }
    },
    {
      "cell_type": "code",
      "source": [
        "import torch.nn as nn # 신경망 모듈\n",
        "import torch.nn.functional as F # 신경망 모듈에서 자주 사용되는 함수"
      ],
      "metadata": {
        "id": "kqqKwIT8RZm8"
      },
      "execution_count": 47,
      "outputs": []
    },
    {
      "cell_type": "code",
      "source": [
        "class Model(nn.Module):\n",
        "  # 신경망 계층 정의\n",
        "  def __init__(self):\n",
        "    super().__init__() # 상속받은 nn.Module 의 __init__() 메서도 호출\n",
        "\n",
        "    # 첫 번째 합성곱 계층\n",
        "    self.layer1 = nn.Sequential(\n",
        "      nn.Conv2d(in_channels=3, out_channels=32, kernel_size=3, padding=2),\n",
        "      nn.BatchNorm2d(32), #배치 정규화\n",
        "      nn.LeakyReLU(), # LeakyReLu 활성화 함수\n",
        "      nn.MaxPool2d(kernel_size=2)  \n",
        "    ) \n",
        "  \n",
        "    # 두 번째 합성곱 계층\n",
        "    self.layer2 = nn.Sequential(\n",
        "      nn.Conv2d(in_channels=32, out_channels=64, kernel_size=3, padding=2),\n",
        "      nn.BatchNorm2d(64),\n",
        "      nn.LeakyReLU(),\n",
        "      nn.MaxPool2d(kernel_size=2)\n",
        "    )\n",
        "\n",
        "    # 세 번째 합성곱 계층\n",
        "    self.layer3 = nn.Sequential(\n",
        "      nn.Conv2d(in_channels=64, out_channels=128, kernel_size=3, padding=2),\n",
        "      nn.BatchNorm2d(128),\n",
        "      nn.LeakyReLU(),\n",
        "      nn.MaxPool2d(kernel_size=2)\n",
        "    )\n",
        "\n",
        "    # 네 번째 합성곱 계층\n",
        "    self.layer4 = nn.Sequential(\n",
        "      nn.Conv2d(in_channels=128, out_channels=256, kernel_size=3, padding=2),\n",
        "      nn.BatchNorm2d(256),\n",
        "      nn.LeakyReLU(),\n",
        "      nn.MaxPool2d(kernel_size=2)\n",
        "    )\n",
        "\n",
        "    # 다섯 번째 합성곱 계층\n",
        "    self.layer5 = nn.Sequential(\n",
        "      nn.Conv2d(in_channels=256, out_channels=512, kernel_size=3, padding=2),\n",
        "      nn.BatchNorm2d(512),\n",
        "      nn.LeakyReLU(),\n",
        "      nn.MaxPool2d(kernel_size=2)\n",
        "    )\n",
        "    \n",
        "    self.avg_pool = nn.AvgPool2d(kernel_size=4)\n",
        "    # 전결합 계층\n",
        "    self.fc1 = nn.Linear(in_features=512 * 1 * 1, out_features=64)\n",
        "    self.fc2 = nn.Linear(in_features=64, out_features=2)\n",
        "\n",
        "  # 순전파 출력 정의\n",
        "  def forward(self, x):\n",
        "    x = self.layer1(x)\n",
        "    x = self.layer2(x)\n",
        "    x = self.layer3(x)\n",
        "    x = self.layer4(x)\n",
        "    x = self.layer5(x)\n",
        "    x = self.avg_pool(x)\n",
        "    x = x.view(-1, 512 * 1 * 1) # 평탄화\n",
        "    x = self.fc1(x)\n",
        "    x = self.fc2(x)\n",
        "    return x"
      ],
      "metadata": {
        "id": "URGWewdXST_5"
      },
      "execution_count": 48,
      "outputs": []
    },
    {
      "cell_type": "code",
      "source": [
        "model = Model().to(device)\n",
        "model"
      ],
      "metadata": {
        "colab": {
          "base_uri": "https://localhost:8080/"
        },
        "id": "UnUJBZ-eZ6SU",
        "outputId": "22c417aa-5321-4342-ae45-4bef52bdd975"
      },
      "execution_count": 49,
      "outputs": [
        {
          "output_type": "execute_result",
          "data": {
            "text/plain": [
              "Model(\n",
              "  (layer1): Sequential(\n",
              "    (0): Conv2d(3, 32, kernel_size=(3, 3), stride=(1, 1), padding=(2, 2))\n",
              "    (1): BatchNorm2d(32, eps=1e-05, momentum=0.1, affine=True, track_running_stats=True)\n",
              "    (2): LeakyReLU(negative_slope=0.01)\n",
              "    (3): MaxPool2d(kernel_size=2, stride=2, padding=0, dilation=1, ceil_mode=False)\n",
              "  )\n",
              "  (layer2): Sequential(\n",
              "    (0): Conv2d(32, 64, kernel_size=(3, 3), stride=(1, 1), padding=(2, 2))\n",
              "    (1): BatchNorm2d(64, eps=1e-05, momentum=0.1, affine=True, track_running_stats=True)\n",
              "    (2): LeakyReLU(negative_slope=0.01)\n",
              "    (3): MaxPool2d(kernel_size=2, stride=2, padding=0, dilation=1, ceil_mode=False)\n",
              "  )\n",
              "  (layer3): Sequential(\n",
              "    (0): Conv2d(64, 128, kernel_size=(3, 3), stride=(1, 1), padding=(2, 2))\n",
              "    (1): BatchNorm2d(128, eps=1e-05, momentum=0.1, affine=True, track_running_stats=True)\n",
              "    (2): LeakyReLU(negative_slope=0.01)\n",
              "    (3): MaxPool2d(kernel_size=2, stride=2, padding=0, dilation=1, ceil_mode=False)\n",
              "  )\n",
              "  (layer4): Sequential(\n",
              "    (0): Conv2d(128, 256, kernel_size=(3, 3), stride=(1, 1), padding=(2, 2))\n",
              "    (1): BatchNorm2d(256, eps=1e-05, momentum=0.1, affine=True, track_running_stats=True)\n",
              "    (2): LeakyReLU(negative_slope=0.01)\n",
              "    (3): MaxPool2d(kernel_size=2, stride=2, padding=0, dilation=1, ceil_mode=False)\n",
              "  )\n",
              "  (layer5): Sequential(\n",
              "    (0): Conv2d(256, 512, kernel_size=(3, 3), stride=(1, 1), padding=(2, 2))\n",
              "    (1): BatchNorm2d(512, eps=1e-05, momentum=0.1, affine=True, track_running_stats=True)\n",
              "    (2): LeakyReLU(negative_slope=0.01)\n",
              "    (3): MaxPool2d(kernel_size=2, stride=2, padding=0, dilation=1, ceil_mode=False)\n",
              "  )\n",
              "  (avg_pool): AvgPool2d(kernel_size=4, stride=4, padding=0)\n",
              "  (fc1): Linear(in_features=512, out_features=64, bias=True)\n",
              "  (fc2): Linear(in_features=64, out_features=2, bias=True)\n",
              ")"
            ]
          },
          "metadata": {},
          "execution_count": 49
        }
      ]
    },
    {
      "cell_type": "code",
      "source": [
        "# 손실 함수 설정\n",
        "criterion = nn.CrossEntropyLoss()"
      ],
      "metadata": {
        "id": "5_09AVk4aPJt"
      },
      "execution_count": 50,
      "outputs": []
    },
    {
      "cell_type": "code",
      "source": [
        "# 옵티마이저 설정\n",
        "optimizer = torch.optim.Adamax(model.parameters(), lr=0.00006)"
      ],
      "metadata": {
        "id": "jKziyykciyms"
      },
      "execution_count": 52,
      "outputs": []
    },
    {
      "cell_type": "code",
      "source": [
        "epochs = 70 # 총 에폭\n",
        "# 총 에폭만큼 반폭 \n",
        "\n",
        "for epoch in range(epochs):\n",
        "  epoch_loss = 0 # 에폭별 손실값 최소화\n",
        "\n",
        "  # '반복 횟수' 만큼 반복\n",
        "  for images, labels in loader_train:\n",
        "    # 이미지, 레이블 데이터 미니배치를 장비에 할당\n",
        "    images = images.to(device)\n",
        "    labels = labels.to(device)\n",
        "\n",
        "    # 옵티마이저 내 기울기 초기화\n",
        "    optimizer.zero_grad()\n",
        "\n",
        "    # 순전파 : 이미지 데이터를 신경망 모델의 입력값으로 사용해 출력값 계산\n",
        "    outputs = model(images)\n",
        "\n",
        "    # 손실 함수를 활용해 outpus 와 labels 의 손실값 계산\n",
        "    loss = criterion(outputs, labels)\n",
        "\n",
        "    # 현재 배치에서의 손실값 추가\n",
        "    epoch_loss += loss.item() # 역전파 수행\n",
        "    loss.backward()\n",
        "    # 가중치 갱신\n",
        "    optimizer.step()\n",
        "\n",
        "  # 훈련 데이터 손실값 출력\n",
        "  print(f'에폭 [{epoch+1}/{epochs}] - 손실값: {epoch_loss / len(loader_train):.4f}')"
      ],
      "metadata": {
        "colab": {
          "base_uri": "https://localhost:8080/"
        },
        "id": "t5g40pcYi5ca",
        "outputId": "b49efdbb-9e52-4d84-d776-eea2d657c94b"
      },
      "execution_count": 53,
      "outputs": [
        {
          "output_type": "stream",
          "name": "stdout",
          "text": [
            "에폭 [1/70] - 손실값: 0.1287\n",
            "에폭 [2/70] - 손실값: 0.0657\n",
            "에폭 [3/70] - 손실값: 0.0480\n",
            "에폭 [4/70] - 손실값: 0.0416\n",
            "에폭 [5/70] - 손실값: 0.0337\n",
            "에폭 [6/70] - 손실값: 0.0346\n",
            "에폭 [7/70] - 손실값: 0.0314\n",
            "에폭 [8/70] - 손실값: 0.0270\n",
            "에폭 [9/70] - 손실값: 0.0251\n",
            "에폭 [10/70] - 손실값: 0.0260\n",
            "에폭 [11/70] - 손실값: 0.0228\n",
            "에폭 [12/70] - 손실값: 0.0228\n",
            "에폭 [13/70] - 손실값: 0.0195\n",
            "에폭 [14/70] - 손실값: 0.0206\n",
            "에폭 [15/70] - 손실값: 0.0200\n",
            "에폭 [16/70] - 손실값: 0.0172\n",
            "에폭 [17/70] - 손실값: 0.0158\n",
            "에폭 [18/70] - 손실값: 0.0171\n",
            "에폭 [19/70] - 손실값: 0.0164\n",
            "에폭 [20/70] - 손실값: 0.0162\n",
            "에폭 [21/70] - 손실값: 0.0137\n",
            "에폭 [22/70] - 손실값: 0.0147\n",
            "에폭 [23/70] - 손실값: 0.0124\n",
            "에폭 [24/70] - 손실값: 0.0116\n",
            "에폭 [25/70] - 손실값: 0.0135\n",
            "에폭 [26/70] - 손실값: 0.0113\n",
            "에폭 [27/70] - 손실값: 0.0123\n",
            "에폭 [28/70] - 손실값: 0.0127\n",
            "에폭 [29/70] - 손실값: 0.0114\n",
            "에폭 [30/70] - 손실값: 0.0111\n",
            "에폭 [31/70] - 손실값: 0.0096\n",
            "에폭 [32/70] - 손실값: 0.0097\n",
            "에폭 [33/70] - 손실값: 0.0100\n",
            "에폭 [34/70] - 손실값: 0.0100\n",
            "에폭 [35/70] - 손실값: 0.0091\n",
            "에폭 [36/70] - 손실값: 0.0097\n",
            "에폭 [37/70] - 손실값: 0.0073\n",
            "에폭 [38/70] - 손실값: 0.0074\n",
            "에폭 [39/70] - 손실값: 0.0069\n",
            "에폭 [40/70] - 손실값: 0.0101\n",
            "에폭 [41/70] - 손실값: 0.0072\n",
            "에폭 [42/70] - 손실값: 0.0096\n",
            "에폭 [43/70] - 손실값: 0.0077\n",
            "에폭 [44/70] - 손실값: 0.0076\n",
            "에폭 [45/70] - 손실값: 0.0071\n",
            "에폭 [46/70] - 손실값: 0.0061\n",
            "에폭 [47/70] - 손실값: 0.0055\n",
            "에폭 [48/70] - 손실값: 0.0066\n",
            "에폭 [49/70] - 손실값: 0.0053\n",
            "에폭 [50/70] - 손실값: 0.0057\n",
            "에폭 [51/70] - 손실값: 0.0037\n",
            "에폭 [52/70] - 손실값: 0.0077\n",
            "에폭 [53/70] - 손실값: 0.0065\n",
            "에폭 [54/70] - 손실값: 0.0058\n",
            "에폭 [55/70] - 손실값: 0.0055\n",
            "에폭 [56/70] - 손실값: 0.0058\n",
            "에폭 [57/70] - 손실값: 0.0051\n",
            "에폭 [58/70] - 손실값: 0.0058\n",
            "에폭 [59/70] - 손실값: 0.0069\n",
            "에폭 [60/70] - 손실값: 0.0048\n",
            "에폭 [61/70] - 손실값: 0.0040\n",
            "에폭 [62/70] - 손실값: 0.0040\n",
            "에폭 [63/70] - 손실값: 0.0045\n",
            "에폭 [64/70] - 손실값: 0.0041\n",
            "에폭 [65/70] - 손실값: 0.0048\n",
            "에폭 [66/70] - 손실값: 0.0062\n",
            "에폭 [67/70] - 손실값: 0.0037\n",
            "에폭 [68/70] - 손실값: 0.0051\n",
            "에폭 [69/70] - 손실값: 0.0037\n",
            "에폭 [70/70] - 손실값: 0.0035\n"
          ]
        }
      ]
    },
    {
      "cell_type": "code",
      "source": [
        "from sklearn.metrics import roc_auc_score # ROC AUC 점수 계산 함수 임포트 \n",
        "\n",
        "# 실젯값 과 예측 확률값을 담을 리스트 \n",
        "true_list = []\n",
        "preds_list = []\n",
        "\n",
        "model.eval()\n",
        "\n",
        "with torch.no_grad():\n",
        "  for images, labels in loader_valid:\n",
        "    # 이미지, 레이블 데이터 미니배치를 장비에 할당\n",
        "    images = images.to(device)\n",
        "    labels = labels.to(device)\n",
        "\n",
        "    # 순전파 : 이미지 데이터를 신경망 모델의 입력값으로 사용해 줄력값 계산\n",
        "    outputs = model(images)\n",
        "    preds = torch.softmax(outputs.cpu(), dim=1)[:,1]\n",
        "    true = labels.cpu()\n",
        "\n",
        "    # 예측확률과 실젯값을 리스트에 추가\n",
        "    preds_list.extend(preds)\n",
        "    true_list.extend(true)\n",
        "\n",
        "print(f'검증 데이터 ROC AUC : {roc_auc_score(true_list, preds_list):.4f}')\n"
      ],
      "metadata": {
        "colab": {
          "base_uri": "https://localhost:8080/"
        },
        "id": "xMNpDyzwrbmj",
        "outputId": "6aceba6d-17a9-4019-9f90-f8ce32026084"
      },
      "execution_count": 54,
      "outputs": [
        {
          "output_type": "stream",
          "name": "stdout",
          "text": [
            "검증 데이터 ROC AUC : 0.9998\n"
          ]
        }
      ]
    },
    {
      "cell_type": "code",
      "source": [
        "dataset_test = ImageDataset(df=submission, img_dir ='./input/test/', transform=transform_test)\n",
        "loader_test = DataLoader(dataset=dataset_test, batch_size=32, shuffle=False)"
      ],
      "metadata": {
        "id": "msyyhbrkskyw"
      },
      "execution_count": 55,
      "outputs": []
    },
    {
      "cell_type": "code",
      "source": [
        "model.eval()\n",
        "\n",
        "preds = [] # 타깃 예측값 저장용 리스트 초기화\n",
        "\n",
        "with torch.no_grad():\n",
        "  for images, _ in loader_test:\n",
        "    # 이미지 데이터 미니배치를 장비에 할당\n",
        "    images = images.to(device)\n",
        "\n",
        "    # 순전파 : 이미지 데이터를 신경망 모델의 입력값으로 사용해 줄력값 계산\n",
        "    outputs = model(images)\n",
        "    # 타깃값 1일 확률 \n",
        "    preds_part = torch.softmax(outputs.cpu(), dim=1)[:,1].tolist()\n",
        "\n",
        "    # 예측확률 리스트에 추가\n",
        "    preds.extend(preds_part)\n"
      ],
      "metadata": {
        "id": "6EsXk8i0s1QV"
      },
      "execution_count": 56,
      "outputs": []
    },
    {
      "cell_type": "code",
      "source": [
        "submission['has_cactus'] = preds\n",
        "submission.to_csv('./output/submission.csv', index=False)"
      ],
      "metadata": {
        "id": "lcsc-mj1tQUm"
      },
      "execution_count": 57,
      "outputs": []
    },
    {
      "cell_type": "code",
      "source": [
        "!kaggle competitions submit -c aerial-cactus-identification -f ./output/submission.csv -m submit_in_colab"
      ],
      "metadata": {
        "colab": {
          "base_uri": "https://localhost:8080/"
        },
        "id": "I4NyL07ktgVi",
        "outputId": "089df8b6-ddff-4463-810e-dbd66c0ac4bb"
      },
      "execution_count": 58,
      "outputs": [
        {
          "output_type": "stream",
          "name": "stdout",
          "text": [
            "100% 188k/188k [00:01<00:00, 124kB/s]\n",
            "400 - Bad Request\n"
          ]
        }
      ]
    }
  ]
}