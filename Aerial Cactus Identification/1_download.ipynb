{
 "cells": [
  {
   "cell_type": "code",
   "execution_count": 1,
   "metadata": {},
   "outputs": [],
   "source": [
    "import os\n",
    "\n",
    "# 폴더 생성 (기존재시 pass)\n",
    "os.makedirs('./input',  exist_ok=True)\n",
    "os.makedirs('./output', exist_ok=True)"
   ]
  },
  {
   "cell_type": "code",
   "execution_count": 2,
   "metadata": {},
   "outputs": [
    {
     "name": "stdout",
     "output_type": "stream",
     "text": [
      "Downloading aerial-cactus-identification.zip to c:\\Users\\user\\Desktop\\Kaggle\\Aerial Cactus Identification\n",
      "\n"
     ]
    },
    {
     "name": "stderr",
     "output_type": "stream",
     "text": [
      "\n",
      "  0%|          | 0.00/12.0M [00:00<?, ?B/s]\n",
      " 17%|█▋        | 2.00M/12.0M [00:00<00:00, 14.9MB/s]\n",
      " 33%|███▎      | 4.00M/12.0M [00:00<00:00, 15.1MB/s]\n",
      " 50%|█████     | 6.00M/12.0M [00:00<00:00, 9.02MB/s]\n",
      " 67%|██████▋   | 8.00M/12.0M [00:01<00:00, 6.71MB/s]\n",
      " 75%|███████▌  | 9.00M/12.0M [00:01<00:00, 7.12MB/s]\n",
      " 84%|████████▎ | 10.0M/12.0M [00:01<00:00, 6.83MB/s]\n",
      " 92%|█████████▏| 11.0M/12.0M [00:01<00:00, 6.62MB/s]\n",
      "100%|██████████| 12.0M/12.0M [00:01<00:00, 6.65MB/s]\n",
      "100%|██████████| 12.0M/12.0M [00:01<00:00, 7.51MB/s]\n"
     ]
    }
   ],
   "source": [
    "# 데이터 다운로드(api key 세팅 참조 링크 : https://github.com/Kaggle/kaggle-api)\n",
    "!kaggle competitions download -c aerial-cactus-identification"
   ]
  },
  {
   "cell_type": "code",
   "execution_count": 3,
   "metadata": {},
   "outputs": [],
   "source": [
    "# 압축 해제 후 input 에 train.csv test.csv  넣기\n",
    "import zipfile\n",
    "zipfile.ZipFile(f'aerial-cactus-identification.zip').extractall('./input')"
   ]
  },
  {
   "cell_type": "code",
   "execution_count": 4,
   "metadata": {},
   "outputs": [],
   "source": [
    "\n",
    "# 추가 폴더 생성 (기존재시 pass)\n",
    "os.makedirs('./input/train',  exist_ok=True)\n",
    "os.makedirs('./input/test', exist_ok=True)"
   ]
  },
  {
   "cell_type": "code",
   "execution_count": 5,
   "metadata": {},
   "outputs": [],
   "source": [
    "# 추가로 압축해제\n",
    "zipfile.ZipFile(f'./input/test.zip').extractall('./input')\n",
    "zipfile.ZipFile(f'./input/train.zip').extractall('./input')"
   ]
  }
 ],
 "metadata": {
  "kernelspec": {
   "display_name": "Python 3.9.13 ('base')",
   "language": "python",
   "name": "python3"
  },
  "language_info": {
   "codemirror_mode": {
    "name": "ipython",
    "version": 3
   },
   "file_extension": ".py",
   "mimetype": "text/x-python",
   "name": "python",
   "nbconvert_exporter": "python",
   "pygments_lexer": "ipython3",
   "version": "3.9.13"
  },
  "orig_nbformat": 4,
  "vscode": {
   "interpreter": {
    "hash": "ad2bdc8ecc057115af97d19610ffacc2b4e99fae6737bb82f5d7fb13d2f2c186"
   }
  }
 },
 "nbformat": 4,
 "nbformat_minor": 2
}
