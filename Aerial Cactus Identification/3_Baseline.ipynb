{
  "cells": [
    {
      "cell_type": "code",
      "execution_count": 1,
      "metadata": {
        "colab": {
          "base_uri": "https://localhost:8080/"
        },
        "id": "Fk9yTTCjI_zj",
        "outputId": "0134c68e-6ef3-4ba6-9879-66e870b7ce26"
      },
      "outputs": [
        {
          "name": "stdout",
          "output_type": "stream",
          "text": [
            "Mounted at /content/drive\n"
          ]
        }
      ],
      "source": [
        "from google.colab import drive\n",
        "drive.mount('/content/drive')"
      ]
    },
    {
      "cell_type": "code",
      "execution_count": 2,
      "metadata": {
        "id": "6eUdXw4_J_hf"
      },
      "outputs": [],
      "source": [
        "import os \n",
        "import json\n",
        "\n",
        "\n",
        "kaggle_json = './drive/MyDrive/kaggle.json'\n",
        "with open(kaggle_json, 'r') as f:\n",
        "    json_data = json.load(f)\n",
        "    os.environ['KAGGLE_USERNAME'] = json_data['username']\n",
        "    os.environ['KAGGLE_KEY'] = json_data['key']\n"
      ]
    },
    {
      "cell_type": "code",
      "execution_count": 3,
      "metadata": {
        "colab": {
          "base_uri": "https://localhost:8080/"
        },
        "id": "YVzTVp2rLHf0",
        "outputId": "6b59df82-b6e2-4edd-c2d0-44bf8b76f35d"
      },
      "outputs": [
        {
          "name": "stdout",
          "output_type": "stream",
          "text": [
            "Downloading aerial-cactus-identification.zip to /content\n",
            "\r  0% 0.00/12.0M [00:00<?, ?B/s]\n",
            "\r100% 12.0M/12.0M [00:00<00:00, 132MB/s]\n"
          ]
        }
      ],
      "source": [
        "# 데이터 다운로드(api key 세팅 참조 링크 : https://github.com/Kaggle/kaggle-api)\n",
        "!kaggle competitions download -c aerial-cactus-identification"
      ]
    },
    {
      "cell_type": "code",
      "execution_count": 4,
      "metadata": {
        "id": "YBf63YwlIvJ2"
      },
      "outputs": [],
      "source": [
        "import os\n",
        "\n",
        "# 폴더 생성 (기존재시 pass)\n",
        "os.makedirs('./input/train',  exist_ok=True)\n",
        "os.makedirs('./input/test',  exist_ok=True)\n",
        "os.makedirs('./output', exist_ok=True)"
      ]
    },
    {
      "cell_type": "code",
      "execution_count": 5,
      "metadata": {
        "id": "BGz_dqlTMmed"
      },
      "outputs": [],
      "source": [
        "# 압축 해제 후 input 에 train.csv test.csv  넣기\n",
        "import zipfile\n",
        "zipfile.ZipFile(f'aerial-cactus-identification.zip').extractall('./input')"
      ]
    },
    {
      "cell_type": "code",
      "execution_count": 6,
      "metadata": {
        "id": "bcFBJ-9dMqPr"
      },
      "outputs": [],
      "source": [
        "# 추가로 압축해제\n",
        "zipfile.ZipFile(f'./input/test.zip').extractall('./input')\n",
        "zipfile.ZipFile(f'./input/train.zip').extractall('./input')"
      ]
    },
    {
      "cell_type": "code",
      "execution_count": 7,
      "metadata": {
        "id": "uJv_kM8gNPuA"
      },
      "outputs": [],
      "source": [
        "import torch # 파이토치\n",
        "import random\n",
        "import numpy as np\n",
        "import os\n",
        "\n",
        "# 시드값 고정\n",
        "seed = 50\n",
        "os.environ['PYTHONHASHSEED'] = str(seed)\n",
        "random.seed(seed) # 파이썬 난수 생성기 시드 고정\n",
        "np.random.seed(seed) # 넘파이 난수 생성기 시드 고정\n",
        "torch.manual_seed(seed) # 파이토치 난수 생성기 시드 고정(CPU 사용시)\n",
        "torch.cuda.manual_seed(seed) # 파이토치 난수 생성기 시드 고정(GPU 사용시)\n",
        "torch.cuda.manual_seed_all(seed) # 파이토치 난수 생성기 시드 고정(멀티 GPU 사용시)\n",
        "torch.backends.cudnn.deterministic = True # 확정적 연산 사용\n",
        "torch.backends.cudnn.benchmark = False # 벤치마크 기능 해제\n",
        "torch.backends.cudnn.enabled = False # cudnn 사용해제"
      ]
    },
    {
      "cell_type": "code",
      "execution_count": 8,
      "metadata": {
        "colab": {
          "base_uri": "https://localhost:8080/"
        },
        "id": "0U2bHmMINSg2",
        "outputId": "249f0540-e774-40de-a87b-37957ae6a9df"
      },
      "outputs": [
        {
          "name": "stdout",
          "output_type": "stream",
          "text": [
            "cuda\n"
          ]
        }
      ],
      "source": [
        "device = torch.device('cuda' if torch.cuda.is_available() else 'cpu')\n",
        "print(device)"
      ]
    },
    {
      "cell_type": "code",
      "execution_count": 9,
      "metadata": {
        "id": "AmGPH5XlNLvs"
      },
      "outputs": [],
      "source": [
        "import pandas as pd\n",
        "\n",
        "# 데이터 경로\n",
        "labels = pd.read_csv('./input/train.csv')\n",
        "submission = pd.read_csv('./input/sample_submission.csv')"
      ]
    },
    {
      "cell_type": "code",
      "execution_count": 10,
      "metadata": {
        "id": "IJ0QtknwM8cd"
      },
      "outputs": [],
      "source": [
        "from sklearn.model_selection import train_test_split\n",
        "\n",
        "# 훈련데이터, 검증 데이터 분리\n",
        "train, valid = train_test_split(labels,\n",
        "                                test_size=0.1,\n",
        "                                stratify=labels['has_cactus'],\n",
        "                                random_state=50)"
      ]
    },
    {
      "cell_type": "code",
      "execution_count": 11,
      "metadata": {
        "colab": {
          "base_uri": "https://localhost:8080/"
        },
        "id": "T-UY3HzMN2N8",
        "outputId": "c1abaf74-ee5e-4176-d821-fe1eb0a9bfbd"
      },
      "outputs": [
        {
          "name": "stdout",
          "output_type": "stream",
          "text": [
            "훈련 데이터 개수 : 15750\n",
            "검증 데이터 개수 : 1750\n"
          ]
        }
      ],
      "source": [
        "print('훈련 데이터 개수 :', len(train))\n",
        "print('검증 데이터 개수 :', len(valid))"
      ]
    },
    {
      "cell_type": "code",
      "execution_count": 12,
      "metadata": {
        "id": "tjrMRux_N-aa"
      },
      "outputs": [],
      "source": [
        "import cv2 # openCV 라이브러리\n",
        "from torch.utils.data import Dataset # 데이터 생성을 위한 클래스\n",
        "\n",
        "class ImageDataset(Dataset):\n",
        "  # 초기화 메서드(생성자)\n",
        "  def __init__(self, df, img_dir='./', transform=None):\n",
        "    super().__init__() # 상속받은 Dataset 생성자 호출\n",
        "    # 전달받은 인수들 저장 \n",
        "    self.df = df\n",
        "    self.img_dir = img_dir\n",
        "    self.transform = transform\n",
        "\n",
        "  # 데이터셋 크기 반환 메서드\n",
        "  def __len__(self):\n",
        "    return len(self.df)\n",
        "\n",
        "  # 인덱스(idx)에 해당하는 데이터 반환 메서드\n",
        "  def __getitem__(self, idx):\n",
        "    img_id = self.df.iloc[idx, 0] # 이미지 ID\n",
        "    img_path = self.img_dir + img_id # 이미지 파일 경로\n",
        "    image = cv2.imread(img_path) # 이미지 파일 읽기\n",
        "    image = cv2.cvtColor(image, cv2.COLOR_BGR2RGB)  # 이미지 색상 보정\n",
        "    label = self.df.iloc[idx, 1] # 이미지 레이블 (타깃값)\n",
        "\n",
        "    if self.transform is not None:\n",
        "      image = self.transform(image) # 변환기가 있다면 이미지 변환\n",
        "\n",
        "    return image, label \n"
      ]
    },
    {
      "cell_type": "code",
      "execution_count": 13,
      "metadata": {
        "id": "xGLpWt7llzwD"
      },
      "outputs": [],
      "source": [
        "from torchvision import transforms # 이미지 변환을 위한 모듈\n",
        "\n",
        "transform = transforms.ToTensor()"
      ]
    },
    {
      "cell_type": "code",
      "execution_count": 14,
      "metadata": {
        "id": "yGTe7Zu7Q2if"
      },
      "outputs": [],
      "source": [
        "dataset_train = ImageDataset(df = train, img_dir = './input/train/', transform = transform)\n",
        "dataset_valid = ImageDataset(df = valid, img_dir = './input/train/', transform = transform)"
      ]
    },
    {
      "cell_type": "code",
      "execution_count": 15,
      "metadata": {
        "id": "CIPajvjeRI4H"
      },
      "outputs": [],
      "source": [
        "from torch.utils.data import DataLoader\n",
        "\n",
        "loader_train = DataLoader(dataset=dataset_train, batch_size=32, shuffle=True)\n",
        "loader_valid = DataLoader(dataset=dataset_valid, batch_size=32, shuffle=False)"
      ]
    },
    {
      "cell_type": "markdown",
      "metadata": {
        "id": "14Bi1jQoSCLY"
      },
      "source": [
        "**모델 생성**"
      ]
    },
    {
      "cell_type": "code",
      "execution_count": 16,
      "metadata": {
        "id": "kqqKwIT8RZm8"
      },
      "outputs": [],
      "source": [
        "import torch.nn as nn # 신경망 모듈\n",
        "import torch.nn.functional as F # 신경망 모듈에서 자주 사용되는 함수"
      ]
    },
    {
      "cell_type": "code",
      "execution_count": 17,
      "metadata": {
        "id": "URGWewdXST_5"
      },
      "outputs": [],
      "source": [
        "class Model(nn.Module):\n",
        "  # 신경망 계층 정의\n",
        "  def __init__(self):\n",
        "    super().__init__() # 상속받은 nn.Module 의 __init__() 메서도 호출\n",
        "\n",
        "    # 첫 번째 합성곱 계층\n",
        "    self.conv1 = nn.Conv2d(in_channels=3, out_channels=32, kernel_size=3, padding=2)\n",
        "\n",
        "    # 두 번째 합성곱 계층\n",
        "    self.conv2 = nn.Conv2d(in_channels=32, out_channels=64, kernel_size=3, padding=2)\n",
        "\n",
        "    # 최대 풀링 계층\n",
        "    self.max_pool = nn.MaxPool2d(kernel_size=2)\n",
        "\n",
        "    # 평균 풀링 계층\n",
        "    self.avg_pool = nn.AvgPool2d(kernel_size=2)\n",
        "\n",
        "    # 전결합 계층\n",
        "    self.fc = nn.Linear(in_features=64 * 4 * 4, out_features=2)\n",
        "\n",
        "  # 순전파 출력 정의\n",
        "  def forward(self, x):\n",
        "    x = self.max_pool(F.relu(self.conv1(x)))\n",
        "    x = self.avg_pool(F.relu(self.conv2(x)))\n",
        "    x = self.avg_pool(x)\n",
        "    x = x.view(-1, 64 * 4 * 4) # 평탄화\n",
        "    x = self.fc(x)\n",
        "    return x"
      ]
    },
    {
      "cell_type": "code",
      "execution_count": 18,
      "metadata": {
        "colab": {
          "base_uri": "https://localhost:8080/"
        },
        "id": "UnUJBZ-eZ6SU",
        "outputId": "d0cb009c-6f15-4f23-9ae8-c13744d75be9"
      },
      "outputs": [
        {
          "data": {
            "text/plain": [
              "Model(\n",
              "  (conv1): Conv2d(3, 32, kernel_size=(3, 3), stride=(1, 1), padding=(2, 2))\n",
              "  (conv2): Conv2d(32, 64, kernel_size=(3, 3), stride=(1, 1), padding=(2, 2))\n",
              "  (max_pool): MaxPool2d(kernel_size=2, stride=2, padding=0, dilation=1, ceil_mode=False)\n",
              "  (avg_pool): AvgPool2d(kernel_size=2, stride=2, padding=0)\n",
              "  (fc): Linear(in_features=1024, out_features=2, bias=True)\n",
              ")"
            ]
          },
          "execution_count": 18,
          "metadata": {},
          "output_type": "execute_result"
        }
      ],
      "source": [
        "model = Model().to(device)\n",
        "model"
      ]
    },
    {
      "cell_type": "code",
      "execution_count": 19,
      "metadata": {
        "id": "5_09AVk4aPJt"
      },
      "outputs": [],
      "source": [
        "# 손실 함수 설정\n",
        "criterion = nn.CrossEntropyLoss()"
      ]
    },
    {
      "cell_type": "code",
      "execution_count": 20,
      "metadata": {
        "id": "jKziyykciyms"
      },
      "outputs": [],
      "source": [
        "# 옵티마이저 설정\n",
        "optimizer = torch.optim.SGD(model.parameters(), lr=0.01)"
      ]
    },
    {
      "cell_type": "code",
      "execution_count": 21,
      "metadata": {
        "colab": {
          "base_uri": "https://localhost:8080/"
        },
        "id": "t5g40pcYi5ca",
        "outputId": "e52f8e14-b3fb-4212-ed99-6a09c2519a81"
      },
      "outputs": [
        {
          "name": "stdout",
          "output_type": "stream",
          "text": [
            "에폭 [1/10] - 손실값: 0.5403\n",
            "에폭 [2/10] - 손실값: 0.3786\n",
            "에폭 [3/10] - 손실값: 0.2664\n",
            "에폭 [4/10] - 손실값: 0.2207\n",
            "에폭 [5/10] - 손실값: 0.1957\n",
            "에폭 [6/10] - 손실값: 0.1861\n",
            "에폭 [7/10] - 손실값: 0.1747\n",
            "에폭 [8/10] - 손실값: 0.1641\n",
            "에폭 [9/10] - 손실값: 0.1543\n",
            "에폭 [10/10] - 손실값: 0.1494\n"
          ]
        }
      ],
      "source": [
        "epochs = 10 # 총 에폭\n",
        "# 총 에폭만큼 반폭 \n",
        "\n",
        "for epoch in range(epochs):\n",
        "  epoch_loss = 0 # 에폭별 손실값 최소화\n",
        "\n",
        "  # '반복 횟수' 만큼 반복\n",
        "  for images, labels in loader_train:\n",
        "    # 이미지, 레이블 데이터 미니배치를 장비에 할당\n",
        "    images = images.to(device)\n",
        "    labels = labels.to(device)\n",
        "\n",
        "    # 옵티마이저 내 기울기 초기화\n",
        "    optimizer.zero_grad()\n",
        "\n",
        "    # 순전파 : 이미지 데이터를 신경망 모델의 입력값으로 사용해 출력값 계산\n",
        "    outputs = model(images)\n",
        "\n",
        "    # 손실 함수를 활용해 outpus 와 labels 의 손실값 계산\n",
        "    loss = criterion(outputs, labels)\n",
        "\n",
        "    # 현재 배치에서의 손실값 추가\n",
        "    epoch_loss += loss.item() # 역전파 수행\n",
        "    loss.backward()\n",
        "    # 가중치 갱신\n",
        "    optimizer.step()\n",
        "\n",
        "  # 훈련 데이터 손실값 출력\n",
        "  print(f'에폭 [{epoch+1}/{epochs}] - 손실값: {epoch_loss / len(loader_train):.4f}')"
      ]
    },
    {
      "cell_type": "code",
      "execution_count": 22,
      "metadata": {
        "id": "3-ufs0tcpUZB"
      },
      "outputs": [],
      "source": [
        "from sklearn.metrics import roc_auc_score # ROC AUC 점수 계산 함수 임포트 \n",
        "\n",
        "# 실젯값 과 예측 확률값을 담을 리스트 \n",
        "true_list = []\n",
        "preds_list = []"
      ]
    },
    {
      "cell_type": "code",
      "execution_count": 23,
      "metadata": {
        "colab": {
          "base_uri": "https://localhost:8080/"
        },
        "id": "xMNpDyzwrbmj",
        "outputId": "ddb0f193-7f0b-445d-dd08-94867368d54e"
      },
      "outputs": [
        {
          "name": "stdout",
          "output_type": "stream",
          "text": [
            "검증 데이터 ROC AUC : 0.9874\n"
          ]
        }
      ],
      "source": [
        "model.eval()\n",
        "\n",
        "with torch.no_grad():\n",
        "  for images, labels in loader_valid:\n",
        "    # 이미지, 레이블 데이터 미니배치를 장비에 할당\n",
        "    images = images.to(device)\n",
        "    labels = labels.to(device)\n",
        "\n",
        "    # 순전파 : 이미지 데이터를 신경망 모델의 입력값으로 사용해 줄력값 계산\n",
        "    outputs = model(images)\n",
        "    preds = torch.softmax(outputs.cpu(), dim=1)[:,1]\n",
        "    true = labels.cpu()\n",
        "\n",
        "    # 예측확률과 실젯값을 리스트에 추가\n",
        "    preds_list.extend(preds)\n",
        "    true_list.extend(true)\n",
        "\n",
        "print(f'검증 데이터 ROC AUC : {roc_auc_score(true_list, preds_list):.4f}')\n"
      ]
    },
    {
      "cell_type": "code",
      "execution_count": 24,
      "metadata": {
        "id": "msyyhbrkskyw"
      },
      "outputs": [],
      "source": [
        "dataset_test = ImageDataset(df=submission, img_dir ='./input/test/', transform=transform)\n",
        "loader_test = DataLoader(dataset=dataset_test, batch_size=32, shuffle=False)"
      ]
    },
    {
      "cell_type": "code",
      "execution_count": 25,
      "metadata": {
        "id": "6EsXk8i0s1QV"
      },
      "outputs": [],
      "source": [
        "model.eval()\n",
        "\n",
        "preds = [] # 타깃 예측값 저장용 리스트 초기화\n",
        "\n",
        "with torch.no_grad():\n",
        "  for images, _ in loader_test:\n",
        "    # 이미지 데이터 미니배치를 장비에 할당\n",
        "    images = images.to(device)\n",
        "\n",
        "    # 순전파 : 이미지 데이터를 신경망 모델의 입력값으로 사용해 줄력값 계산\n",
        "    outputs = model(images)\n",
        "    # 타깃값 1일 확률 \n",
        "    preds_part = torch.softmax(outputs.cpu(), dim=1)[:,1].tolist()\n",
        "\n",
        "    # 예측확률 리스트에 추가\n",
        "    preds.extend(preds_part)\n"
      ]
    },
    {
      "cell_type": "code",
      "execution_count": 26,
      "metadata": {
        "id": "lcsc-mj1tQUm"
      },
      "outputs": [],
      "source": [
        "submission['has_cactus'] = preds\n",
        "submission.to_csv('./output/submission.csv', index=False)"
      ]
    },
    {
      "cell_type": "code",
      "execution_count": 29,
      "metadata": {
        "colab": {
          "base_uri": "https://localhost:8080/"
        },
        "id": "I4NyL07ktgVi",
        "outputId": "a68e13b6-36aa-40df-d657-f2398ec78a4c"
      },
      "outputs": [
        {
          "name": "stdout",
          "output_type": "stream",
          "text": [
            "100% 219k/219k [00:01<00:00, 127kB/s]\n",
            "400 - Bad Request\n"
          ]
        }
      ],
      "source": [
        "!kaggle competitions submit -c aerial-cactus-identification -f ./output/submission.csv -m submit_in_colab"
      ]
    }
  ],
  "metadata": {
    "accelerator": "GPU",
    "colab": {
      "gpuType": "T4",
      "provenance": []
    },
    "gpuClass": "standard",
    "kernelspec": {
      "display_name": "Python 3.9.13 ('base')",
      "language": "python",
      "name": "python3"
    },
    "language_info": {
      "name": "python",
      "version": "3.9.13"
    },
    "vscode": {
      "interpreter": {
        "hash": "ad2bdc8ecc057115af97d19610ffacc2b4e99fae6737bb82f5d7fb13d2f2c186"
      }
    }
  },
  "nbformat": 4,
  "nbformat_minor": 0
}
